{
 "cells": [
  {
   "cell_type": "code",
   "execution_count": 27,
   "metadata": {},
   "outputs": [],
   "source": [
    "import pandas as pd\n",
    "import hvplot.pandas\n",
    "from datetime import datetime"
   ]
  },
  {
   "cell_type": "code",
   "execution_count": 73,
   "metadata": {},
   "outputs": [
    {
     "data": {},
     "metadata": {},
     "output_type": "display_data"
    },
    {
     "data": {
      "application/vnd.holoviews_exec.v0+json": "",
      "text/html": [
       "<div id='6882'>\n",
       "  <div class=\"bk-root\" id=\"b35cdca7-a64e-4a63-981b-c20ac99561b4\" data-root-id=\"6882\"></div>\n",
       "</div>\n",
       "<script type=\"application/javascript\">(function(root) {\n",
       "  function embed_document(root) {\n",
       "    var docs_json = {\"f3933875-97f0-4587-af16-960e7e2889dd\":{\"defs\":[{\"extends\":null,\"module\":null,\"name\":\"ReactiveHTML1\",\"overrides\":[],\"properties\":[]},{\"extends\":null,\"module\":null,\"name\":\"FlexBox1\",\"overrides\":[],\"properties\":[{\"default\":\"flex-start\",\"kind\":null,\"name\":\"align_content\"},{\"default\":\"flex-start\",\"kind\":null,\"name\":\"align_items\"},{\"default\":\"row\",\"kind\":null,\"name\":\"flex_direction\"},{\"default\":\"wrap\",\"kind\":null,\"name\":\"flex_wrap\"},{\"default\":\"flex-start\",\"kind\":null,\"name\":\"justify_content\"}]},{\"extends\":null,\"module\":null,\"name\":\"GridStack1\",\"overrides\":[],\"properties\":[{\"default\":\"warn\",\"kind\":null,\"name\":\"mode\"},{\"default\":null,\"kind\":null,\"name\":\"ncols\"},{\"default\":null,\"kind\":null,\"name\":\"nrows\"},{\"default\":true,\"kind\":null,\"name\":\"allow_resize\"},{\"default\":true,\"kind\":null,\"name\":\"allow_drag\"},{\"default\":[],\"kind\":null,\"name\":\"state\"}]},{\"extends\":null,\"module\":null,\"name\":\"click1\",\"overrides\":[],\"properties\":[{\"default\":\"\",\"kind\":null,\"name\":\"terminal_output\"},{\"default\":\"\",\"kind\":null,\"name\":\"debug_name\"},{\"default\":0,\"kind\":null,\"name\":\"clears\"}]},{\"extends\":null,\"module\":null,\"name\":\"NotificationAreaBase1\",\"overrides\":[],\"properties\":[{\"default\":\"bottom-right\",\"kind\":null,\"name\":\"position\"},{\"default\":0,\"kind\":null,\"name\":\"_clear\"}]},{\"extends\":null,\"module\":null,\"name\":\"NotificationArea1\",\"overrides\":[],\"properties\":[{\"default\":[],\"kind\":null,\"name\":\"notifications\"},{\"default\":\"bottom-right\",\"kind\":null,\"name\":\"position\"},{\"default\":0,\"kind\":null,\"name\":\"_clear\"},{\"default\":[{\"background\":\"#ffc107\",\"icon\":{\"className\":\"fas fa-exclamation-triangle\",\"color\":\"white\",\"tagName\":\"i\"},\"type\":\"warning\"},{\"background\":\"#007bff\",\"icon\":{\"className\":\"fas fa-info-circle\",\"color\":\"white\",\"tagName\":\"i\"},\"type\":\"info\"}],\"kind\":null,\"name\":\"types\"}]},{\"extends\":null,\"module\":null,\"name\":\"Notification\",\"overrides\":[],\"properties\":[{\"default\":null,\"kind\":null,\"name\":\"background\"},{\"default\":3000,\"kind\":null,\"name\":\"duration\"},{\"default\":null,\"kind\":null,\"name\":\"icon\"},{\"default\":\"\",\"kind\":null,\"name\":\"message\"},{\"default\":null,\"kind\":null,\"name\":\"notification_type\"},{\"default\":false,\"kind\":null,\"name\":\"_destroyed\"}]},{\"extends\":null,\"module\":null,\"name\":\"TemplateActions1\",\"overrides\":[],\"properties\":[{\"default\":0,\"kind\":null,\"name\":\"open_modal\"},{\"default\":0,\"kind\":null,\"name\":\"close_modal\"}]},{\"extends\":null,\"module\":null,\"name\":\"MaterialTemplateActions1\",\"overrides\":[],\"properties\":[{\"default\":0,\"kind\":null,\"name\":\"open_modal\"},{\"default\":0,\"kind\":null,\"name\":\"close_modal\"}]}],\"roots\":{\"references\":[{\"attributes\":{\"line_alpha\":0.1,\"line_color\":\"green\",\"line_width\":2,\"x\":{\"field\":\"Year\"},\"y\":{\"field\":\"Average Price\"}},\"id\":\"6921\",\"type\":\"Line\"},{\"attributes\":{\"line_alpha\":0.2,\"line_color\":\"green\",\"line_width\":2,\"x\":{\"field\":\"Year\"},\"y\":{\"field\":\"Average Price\"}},\"id\":\"6922\",\"type\":\"Line\"},{\"attributes\":{\"data\":{\"Average Price\":{\"__ndarray__\":\"AAAAAAAA0D+PwvUoXI/SPx+F61G4HtU/ZmZmZmZm1j/D9Shcj8LVP65H4XoUrtc/9ihcj8L12D89CtejcD3aP+F6FK5H4do/KVyPwvUo3D+4HoXrUbjeP+xRuB6F6+E/16NwPQrX4z8zMzMzMzPjP4/C9Shcj+I/16NwPQrX4z/2KFyPwvXoP9ejcD0K1+s/\",\"dtype\":\"float64\",\"order\":\"little\",\"shape\":[18]},\"Average_Price\":{\"__ndarray__\":\"AAAAAAAA0D+PwvUoXI/SPx+F61G4HtU/ZmZmZmZm1j/D9Shcj8LVP65H4XoUrtc/9ihcj8L12D89CtejcD3aP+F6FK5H4do/KVyPwvUo3D+4HoXrUbjeP+xRuB6F6+E/16NwPQrX4z8zMzMzMzPjP4/C9Shcj+I/16NwPQrX4z/2KFyPwvXoP9ejcD0K1+s/\",\"dtype\":\"float64\",\"order\":\"little\",\"shape\":[18]},\"Year\":[2005,2006,2007,2008,2009,2010,2011,2012,2013,2014,2015,2016,2017,2018,2019,2020,2021,2022]},\"selected\":{\"id\":\"6918\"},\"selection_policy\":{\"id\":\"6939\"}},\"id\":\"6917\",\"type\":\"ColumnDataSource\"},{\"attributes\":{},\"id\":\"6904\",\"type\":\"SaveTool\"},{\"attributes\":{\"coordinates\":null,\"data_source\":{\"id\":\"6917\"},\"glyph\":{\"id\":\"6920\"},\"group\":null,\"hover_glyph\":null,\"muted_glyph\":{\"id\":\"6922\"},\"nonselection_glyph\":{\"id\":\"6921\"},\"selection_glyph\":{\"id\":\"6925\"},\"view\":{\"id\":\"6924\"}},\"id\":\"6923\",\"type\":\"GlyphRenderer\"},{\"attributes\":{\"overlay\":{\"id\":\"6909\"}},\"id\":\"6907\",\"type\":\"BoxZoomTool\"},{\"attributes\":{},\"id\":\"6908\",\"type\":\"ResetTool\"},{\"attributes\":{\"below\":[{\"id\":\"6896\"}],\"center\":[{\"id\":\"6899\"},{\"id\":\"6903\"}],\"height\":500,\"left\":[{\"id\":\"6900\"}],\"margin\":[5,5,5,5],\"min_border_bottom\":10,\"min_border_left\":10,\"min_border_right\":10,\"min_border_top\":10,\"renderers\":[{\"id\":\"6923\"}],\"sizing_mode\":\"fixed\",\"title\":{\"id\":\"6888\"},\"toolbar\":{\"id\":\"6910\"},\"width\":1200,\"x_range\":{\"id\":\"6884\"},\"x_scale\":{\"id\":\"6892\"},\"y_range\":{\"id\":\"6885\"},\"y_scale\":{\"id\":\"6894\"}},\"id\":\"6887\",\"subtype\":\"Figure\",\"type\":\"Plot\"},{\"attributes\":{\"source\":{\"id\":\"6917\"}},\"id\":\"6924\",\"type\":\"CDSView\"},{\"attributes\":{},\"id\":\"6930\",\"type\":\"BasicTickFormatter\"},{\"attributes\":{\"bottom_units\":\"screen\",\"coordinates\":null,\"fill_alpha\":0.5,\"fill_color\":\"lightgrey\",\"group\":null,\"left_units\":\"screen\",\"level\":\"overlay\",\"line_alpha\":1.0,\"line_color\":\"black\",\"line_dash\":[4,4],\"line_width\":2,\"right_units\":\"screen\",\"syncable\":false,\"top_units\":\"screen\"},\"id\":\"6909\",\"type\":\"BoxAnnotation\"},{\"attributes\":{},\"id\":\"6927\",\"type\":\"BasicTickFormatter\"},{\"attributes\":{},\"id\":\"6918\",\"type\":\"Selection\"},{\"attributes\":{},\"id\":\"6928\",\"type\":\"AllLabels\"},{\"attributes\":{\"end\":2022.0,\"reset_end\":2022.0,\"reset_start\":2005.0,\"start\":2005.0,\"tags\":[[[\"Year\",\"Year\",null]]]},\"id\":\"6884\",\"type\":\"Range1d\"},{\"attributes\":{},\"id\":\"6892\",\"type\":\"LinearScale\"},{\"attributes\":{},\"id\":\"6931\",\"type\":\"AllLabels\"},{\"attributes\":{\"line_color\":\"green\",\"line_width\":2,\"x\":{\"field\":\"Year\"},\"y\":{\"field\":\"Average Price\"}},\"id\":\"6920\",\"type\":\"Line\"},{\"attributes\":{},\"id\":\"6939\",\"type\":\"UnionRenderers\"},{\"attributes\":{\"tools\":[{\"id\":\"6886\"},{\"id\":\"6904\"},{\"id\":\"6905\"},{\"id\":\"6906\"},{\"id\":\"6907\"},{\"id\":\"6908\"}]},\"id\":\"6910\",\"type\":\"Toolbar\"},{\"attributes\":{\"end\":0.9319999999999999,\"reset_end\":0.9319999999999999,\"reset_start\":0.188,\"start\":0.188,\"tags\":[[[\"Average Price\",\"Average Price\",null]]]},\"id\":\"6885\",\"type\":\"Range1d\"},{\"attributes\":{\"callback\":null,\"renderers\":[{\"id\":\"6923\"}],\"tags\":[\"hv_created\"],\"tooltips\":[[\"Year\",\"@{Year}\"],[\"Average Price\",\"@{Average_Price}\"]]},\"id\":\"6886\",\"type\":\"HoverTool\"},{\"attributes\":{},\"id\":\"6894\",\"type\":\"LinearScale\"},{\"attributes\":{\"children\":[{\"id\":\"6883\"},{\"id\":\"6887\"},{\"id\":\"6942\"}],\"margin\":[0,0,0,0],\"name\":\"Row08373\",\"tags\":[\"embedded\"]},\"id\":\"6882\",\"type\":\"Row\"},{\"attributes\":{\"margin\":[5,5,5,5],\"name\":\"HSpacer08377\",\"sizing_mode\":\"stretch_width\"},\"id\":\"6883\",\"type\":\"Spacer\"},{\"attributes\":{\"margin\":[5,5,5,5],\"name\":\"HSpacer08378\",\"sizing_mode\":\"stretch_width\"},\"id\":\"6942\",\"type\":\"Spacer\"},{\"attributes\":{},\"id\":\"6905\",\"type\":\"PanTool\"},{\"attributes\":{\"coordinates\":null,\"group\":null,\"text\":\"Average Prices of Single Family Homes In Canada From 2005-2022 In Millions\",\"text_color\":\"black\",\"text_font_size\":\"12pt\"},\"id\":\"6888\",\"type\":\"Title\"},{\"attributes\":{\"axis\":{\"id\":\"6896\"},\"coordinates\":null,\"grid_line_color\":null,\"group\":null,\"ticker\":null},\"id\":\"6899\",\"type\":\"Grid\"},{\"attributes\":{\"line_color\":\"green\",\"line_width\":2,\"x\":{\"field\":\"Year\"},\"y\":{\"field\":\"Average Price\"}},\"id\":\"6925\",\"type\":\"Line\"},{\"attributes\":{\"axis_label\":\"Year\",\"coordinates\":null,\"formatter\":{\"id\":\"6927\"},\"group\":null,\"major_label_orientation\":1.5707963267948966,\"major_label_policy\":{\"id\":\"6928\"},\"ticker\":{\"id\":\"6897\"}},\"id\":\"6896\",\"type\":\"LinearAxis\"},{\"attributes\":{},\"id\":\"6897\",\"type\":\"BasicTicker\"},{\"attributes\":{\"axis_label\":\"Average Price\",\"coordinates\":null,\"formatter\":{\"id\":\"6930\"},\"group\":null,\"major_label_policy\":{\"id\":\"6931\"},\"ticker\":{\"id\":\"6901\"}},\"id\":\"6900\",\"type\":\"LinearAxis\"},{\"attributes\":{\"axis\":{\"id\":\"6900\"},\"coordinates\":null,\"dimension\":1,\"grid_line_color\":null,\"group\":null,\"ticker\":null},\"id\":\"6903\",\"type\":\"Grid\"},{\"attributes\":{},\"id\":\"6901\",\"type\":\"BasicTicker\"},{\"attributes\":{},\"id\":\"6906\",\"type\":\"WheelZoomTool\"}],\"root_ids\":[\"6882\"]},\"title\":\"Bokeh Application\",\"version\":\"2.4.3\"}};\n",
       "    var render_items = [{\"docid\":\"f3933875-97f0-4587-af16-960e7e2889dd\",\"root_ids\":[\"6882\"],\"roots\":{\"6882\":\"b35cdca7-a64e-4a63-981b-c20ac99561b4\"}}];\n",
       "    root.Bokeh.embed.embed_items_notebook(docs_json, render_items);\n",
       "    for (const render_item of render_items) {\n",
       "      for (const root_id of render_item.root_ids) {\n",
       "\tconst id_el = document.getElementById(root_id)\n",
       "\tif (id_el.children.length && (id_el.children[0].className === 'bk-root')) {\n",
       "\t  const root_el = id_el.children[0]\n",
       "\t  root_el.id = root_el.id + '-rendered'\n",
       "\t}\n",
       "      }\n",
       "    }\n",
       "  }\n",
       "  if (root.Bokeh !== undefined && root.Bokeh.Panel !== undefined) {\n",
       "    embed_document(root);\n",
       "  } else {\n",
       "    var attempts = 0;\n",
       "    var timer = setInterval(function(root) {\n",
       "      if (root.Bokeh !== undefined && root.Bokeh.Panel !== undefined) {\n",
       "        clearInterval(timer);\n",
       "        embed_document(root);\n",
       "      } else if (document.readyState == \"complete\") {\n",
       "        attempts++;\n",
       "        if (attempts > 200) {\n",
       "          clearInterval(timer);\n",
       "          console.log(\"Bokeh: ERROR: Unable to run BokehJS code because BokehJS library is missing\");\n",
       "        }\n",
       "      }\n",
       "    }, 25, root)\n",
       "  }\n",
       "})(window);</script>"
      ],
      "text/plain": [
       ":Curve   [Year]   (Average Price)"
      ]
     },
     "execution_count": 73,
     "metadata": {
      "application/vnd.holoviews_exec.v0+json": {
       "id": "6882"
      }
     },
     "output_type": "execute_result"
    }
   ],
   "source": [
    "# Plotting a line chart for increase in housing prices\n",
    "\n",
    "# Reading data and creating a DataFrame\n",
    "housing_file = \"./housing_data.csv\"\n",
    "housing_df = pd.read_csv(housing_file)\n",
    "housing_df[\"Date\"] = pd.to_datetime(housing_df[\"Date\"])\n",
    "\n",
    "# Creates a new column in the CSV file for year\n",
    "housing_df[\"Year\"] = housing_df[\"Date\"].dt.year\n",
    "\n",
    "# Groups housing data by year\n",
    "yearly_housing_data = housing_df.groupby(\"Year\").mean()\n",
    "\n",
    "# Divides the data by 1,000,000\n",
    "yearly_housing_data[\"Average Price\"] = yearly_housing_data[\"Average Price\"].div(1000000).round(2)\n",
    "\n",
    "# Plots a line chart for the data\n",
    "yearly_housing_data.hvplot(x='Year', y=\"Average Price\", rot=90, color=\"green\", width=1200, height = 500, title=\"Average Prices of Single Family Homes In Canada From 2005-2022 In Millions\")"
   ]
  },
  {
   "cell_type": "code",
   "execution_count": 50,
   "metadata": {},
   "outputs": [
    {
     "data": {},
     "metadata": {},
     "output_type": "display_data"
    },
    {
     "data": {
      "application/vnd.holoviews_exec.v0+json": "",
      "text/html": [
       "<div id='4941'>\n",
       "  <div class=\"bk-root\" id=\"e6604838-bbd3-48c1-b76e-72f2545cbda3\" data-root-id=\"4941\"></div>\n",
       "</div>\n",
       "<script type=\"application/javascript\">(function(root) {\n",
       "  function embed_document(root) {\n",
       "    var docs_json = {\"4749e399-b1c7-44a7-8722-17e9eaeb7c54\":{\"defs\":[{\"extends\":null,\"module\":null,\"name\":\"ReactiveHTML1\",\"overrides\":[],\"properties\":[]},{\"extends\":null,\"module\":null,\"name\":\"FlexBox1\",\"overrides\":[],\"properties\":[{\"default\":\"flex-start\",\"kind\":null,\"name\":\"align_content\"},{\"default\":\"flex-start\",\"kind\":null,\"name\":\"align_items\"},{\"default\":\"row\",\"kind\":null,\"name\":\"flex_direction\"},{\"default\":\"wrap\",\"kind\":null,\"name\":\"flex_wrap\"},{\"default\":\"flex-start\",\"kind\":null,\"name\":\"justify_content\"}]},{\"extends\":null,\"module\":null,\"name\":\"GridStack1\",\"overrides\":[],\"properties\":[{\"default\":\"warn\",\"kind\":null,\"name\":\"mode\"},{\"default\":null,\"kind\":null,\"name\":\"ncols\"},{\"default\":null,\"kind\":null,\"name\":\"nrows\"},{\"default\":true,\"kind\":null,\"name\":\"allow_resize\"},{\"default\":true,\"kind\":null,\"name\":\"allow_drag\"},{\"default\":[],\"kind\":null,\"name\":\"state\"}]},{\"extends\":null,\"module\":null,\"name\":\"click1\",\"overrides\":[],\"properties\":[{\"default\":\"\",\"kind\":null,\"name\":\"terminal_output\"},{\"default\":\"\",\"kind\":null,\"name\":\"debug_name\"},{\"default\":0,\"kind\":null,\"name\":\"clears\"}]},{\"extends\":null,\"module\":null,\"name\":\"NotificationAreaBase1\",\"overrides\":[],\"properties\":[{\"default\":\"bottom-right\",\"kind\":null,\"name\":\"position\"},{\"default\":0,\"kind\":null,\"name\":\"_clear\"}]},{\"extends\":null,\"module\":null,\"name\":\"NotificationArea1\",\"overrides\":[],\"properties\":[{\"default\":[],\"kind\":null,\"name\":\"notifications\"},{\"default\":\"bottom-right\",\"kind\":null,\"name\":\"position\"},{\"default\":0,\"kind\":null,\"name\":\"_clear\"},{\"default\":[{\"background\":\"#ffc107\",\"icon\":{\"className\":\"fas fa-exclamation-triangle\",\"color\":\"white\",\"tagName\":\"i\"},\"type\":\"warning\"},{\"background\":\"#007bff\",\"icon\":{\"className\":\"fas fa-info-circle\",\"color\":\"white\",\"tagName\":\"i\"},\"type\":\"info\"}],\"kind\":null,\"name\":\"types\"}]},{\"extends\":null,\"module\":null,\"name\":\"Notification\",\"overrides\":[],\"properties\":[{\"default\":null,\"kind\":null,\"name\":\"background\"},{\"default\":3000,\"kind\":null,\"name\":\"duration\"},{\"default\":null,\"kind\":null,\"name\":\"icon\"},{\"default\":\"\",\"kind\":null,\"name\":\"message\"},{\"default\":null,\"kind\":null,\"name\":\"notification_type\"},{\"default\":false,\"kind\":null,\"name\":\"_destroyed\"}]},{\"extends\":null,\"module\":null,\"name\":\"TemplateActions1\",\"overrides\":[],\"properties\":[{\"default\":0,\"kind\":null,\"name\":\"open_modal\"},{\"default\":0,\"kind\":null,\"name\":\"close_modal\"}]},{\"extends\":null,\"module\":null,\"name\":\"MaterialTemplateActions1\",\"overrides\":[],\"properties\":[{\"default\":0,\"kind\":null,\"name\":\"open_modal\"},{\"default\":0,\"kind\":null,\"name\":\"close_modal\"}]}],\"roots\":{\"references\":[{\"attributes\":{\"callback\":null,\"renderers\":[{\"id\":\"4989\"},{\"id\":\"5010\"}],\"tags\":[\"hv_created\"],\"tooltips\":[[\"Variable\",\"@{Variable}\"],[\"Year\",\"@{Year}\"],[\"Inflation Rate/Prime Rate\",\"@{Inflation_Rate_over_Prime_Rate}\"]]},\"id\":\"4945\",\"type\":\"HoverTool\"},{\"attributes\":{},\"id\":\"4952\",\"type\":\"LinearScale\"},{\"attributes\":{\"line_color\":\"#30a2da\",\"line_width\":2,\"x\":{\"field\":\"Year\"},\"y\":{\"field\":\"Inflation Rate/Prime Rate\"}},\"id\":\"5003\",\"type\":\"Line\"},{\"attributes\":{},\"id\":\"4984\",\"type\":\"Selection\"},{\"attributes\":{\"source\":{\"id\":\"5004\"}},\"id\":\"5011\",\"type\":\"CDSView\"},{\"attributes\":{\"children\":[{\"id\":\"4942\"},{\"id\":\"4947\"},{\"id\":\"5038\"}],\"margin\":[0,0,0,0],\"name\":\"Row06365\",\"tags\":[\"embedded\"]},\"id\":\"4941\",\"type\":\"Row\"},{\"attributes\":{\"below\":[{\"id\":\"4956\"}],\"center\":[{\"id\":\"4959\"},{\"id\":\"4963\"}],\"height\":500,\"left\":[{\"id\":\"4960\"}],\"margin\":[5,5,5,5],\"min_border_bottom\":10,\"min_border_left\":10,\"min_border_right\":10,\"min_border_top\":10,\"renderers\":[{\"id\":\"4989\"},{\"id\":\"5010\"}],\"right\":[{\"id\":\"5001\"}],\"sizing_mode\":\"fixed\",\"title\":{\"id\":\"4948\"},\"toolbar\":{\"id\":\"4970\"},\"width\":1200,\"x_range\":{\"id\":\"4943\"},\"x_scale\":{\"id\":\"4952\"},\"y_range\":{\"id\":\"4944\"},\"y_scale\":{\"id\":\"4954\"}},\"id\":\"4947\",\"subtype\":\"Figure\",\"type\":\"Plot\"},{\"attributes\":{},\"id\":\"5005\",\"type\":\"Selection\"},{\"attributes\":{\"margin\":[5,5,5,5],\"name\":\"HSpacer06369\",\"sizing_mode\":\"stretch_width\"},\"id\":\"4942\",\"type\":\"Spacer\"},{\"attributes\":{\"data\":{\"Inflation Rate/Prime Rate\":{\"__ndarray__\":\"CtejcD2KI0DC9Shcj0IjQDMzMzMzsyhAUrgehevRJ0C4HoXrUbgbQDMzMzMzMxFAcT0K16NwEEDNzMzMzEwQQAAAAAAAgBFAMzMzMzOzEEA9CtejcD0VQAAAAAAAABRA16NwPQrXFUAUrkfhehT2P4/C9Shcj/4/LPnFkl8s2T+PwvUoXI8EQK5H4XoUrvc/4XoUrkfh/D/NzMzMzMzwP3sUrkfhevg/XI/C9ShcBEDXo3A9CtcAQKRwPQrXowJAZmZmZmZmC0CF61G4HoUDQLWBThvotAFApHA9CtejAkBSuB6F61ECQOxRuB6F6wFACNejcD0Ktz89CtejcD32P8P1KFyPwgNApHA9Ctej9j8fhetRuB7xP0jhehSuR/8/CtejcD0K9T/NzMzMzMz2P4/C9Shcj/I/16NwPQrXAEDsUbgehev9P5mZmZmZmeE/zczMzMzMDECdNtBpA50XQA==\",\"dtype\":\"float64\",\"order\":\"little\",\"shape\":[44]},\"Inflation_Rate_over_Prime_Rate\":{\"__ndarray__\":\"CtejcD2KI0DC9Shcj0IjQDMzMzMzsyhAUrgehevRJ0C4HoXrUbgbQDMzMzMzMxFAcT0K16NwEEDNzMzMzEwQQAAAAAAAgBFAMzMzMzOzEEA9CtejcD0VQAAAAAAAABRA16NwPQrXFUAUrkfhehT2P4/C9Shcj/4/LPnFkl8s2T+PwvUoXI8EQK5H4XoUrvc/4XoUrkfh/D/NzMzMzMzwP3sUrkfhevg/XI/C9ShcBEDXo3A9CtcAQKRwPQrXowJAZmZmZmZmC0CF61G4HoUDQLWBThvotAFApHA9CtejAkBSuB6F61ECQOxRuB6F6wFACNejcD0Ktz89CtejcD32P8P1KFyPwgNApHA9Ctej9j8fhetRuB7xP0jhehSuR/8/CtejcD0K9T/NzMzMzMz2P4/C9Shcj/I/16NwPQrXAEDsUbgehev9P5mZmZmZmeE/zczMzMzMDECdNtBpA50XQA==\",\"dtype\":\"float64\",\"order\":\"little\",\"shape\":[44]},\"Variable\":[\"Inflation Rate\",\"Inflation Rate\",\"Inflation Rate\",\"Inflation Rate\",\"Inflation Rate\",\"Inflation Rate\",\"Inflation Rate\",\"Inflation Rate\",\"Inflation Rate\",\"Inflation Rate\",\"Inflation Rate\",\"Inflation Rate\",\"Inflation Rate\",\"Inflation Rate\",\"Inflation Rate\",\"Inflation Rate\",\"Inflation Rate\",\"Inflation Rate\",\"Inflation Rate\",\"Inflation Rate\",\"Inflation Rate\",\"Inflation Rate\",\"Inflation Rate\",\"Inflation Rate\",\"Inflation Rate\",\"Inflation Rate\",\"Inflation Rate\",\"Inflation Rate\",\"Inflation Rate\",\"Inflation Rate\",\"Inflation Rate\",\"Inflation Rate\",\"Inflation Rate\",\"Inflation Rate\",\"Inflation Rate\",\"Inflation Rate\",\"Inflation Rate\",\"Inflation Rate\",\"Inflation Rate\",\"Inflation Rate\",\"Inflation Rate\",\"Inflation Rate\",\"Inflation Rate\",\"Inflation Rate\"],\"Year\":[1979,1980,1981,1982,1983,1984,1985,1986,1987,1988,1989,1990,1991,1992,1993,1994,1995,1996,1997,1998,1999,2000,2001,2002,2003,2004,2005,2006,2007,2008,2009,2010,2011,2012,2013,2014,2015,2016,2017,2018,2019,2020,2021,2022]},\"selected\":{\"id\":\"4984\"},\"selection_policy\":{\"id\":\"4998\"}},\"id\":\"4983\",\"type\":\"ColumnDataSource\"},{\"attributes\":{\"click_policy\":\"mute\",\"coordinates\":null,\"group\":null,\"items\":[{\"id\":\"5002\"},{\"id\":\"5024\"}],\"location\":[0,0],\"title\":\"Variable\"},\"id\":\"5001\",\"type\":\"Legend\"},{\"attributes\":{\"coordinates\":null,\"group\":null,\"text\":\"Inflation Rates Compared to Prime Rates From 1979 to 2022\",\"text_color\":\"black\",\"text_font_size\":\"12pt\"},\"id\":\"4948\",\"type\":\"Title\"},{\"attributes\":{\"source\":{\"id\":\"4983\"}},\"id\":\"4990\",\"type\":\"CDSView\"},{\"attributes\":{\"line_color\":\"#fc4f30\",\"line_width\":2,\"x\":{\"field\":\"Year\"},\"y\":{\"field\":\"Inflation Rate/Prime Rate\"}},\"id\":\"5025\",\"type\":\"Line\"},{\"attributes\":{},\"id\":\"4965\",\"type\":\"PanTool\"},{\"attributes\":{\"line_alpha\":0.2,\"line_color\":\"#30a2da\",\"line_width\":2,\"x\":{\"field\":\"Year\"},\"y\":{\"field\":\"Inflation Rate/Prime Rate\"}},\"id\":\"4988\",\"type\":\"Line\"},{\"attributes\":{\"axis\":{\"id\":\"4956\"},\"coordinates\":null,\"grid_line_color\":null,\"group\":null,\"ticker\":null},\"id\":\"4959\",\"type\":\"Grid\"},{\"attributes\":{\"line_alpha\":0.1,\"line_color\":\"#fc4f30\",\"line_width\":2,\"x\":{\"field\":\"Year\"},\"y\":{\"field\":\"Inflation Rate/Prime Rate\"}},\"id\":\"5008\",\"type\":\"Line\"},{\"attributes\":{},\"id\":\"4981\",\"type\":\"BasicTickFormatter\"},{\"attributes\":{\"axis_label\":\"Year\",\"coordinates\":null,\"formatter\":{\"id\":\"4978\"},\"group\":null,\"major_label_orientation\":1.5707963267948966,\"major_label_policy\":{\"id\":\"4979\"},\"ticker\":{\"id\":\"4957\"}},\"id\":\"4956\",\"type\":\"LinearAxis\"},{\"attributes\":{\"line_alpha\":0.2,\"line_color\":\"#fc4f30\",\"line_width\":2,\"x\":{\"field\":\"Year\"},\"y\":{\"field\":\"Inflation Rate/Prime Rate\"}},\"id\":\"5009\",\"type\":\"Line\"},{\"attributes\":{},\"id\":\"4954\",\"type\":\"LinearScale\"},{\"attributes\":{\"line_color\":\"#fc4f30\",\"line_width\":2,\"x\":{\"field\":\"Year\"},\"y\":{\"field\":\"Inflation Rate/Prime Rate\"}},\"id\":\"5007\",\"type\":\"Line\"},{\"attributes\":{\"coordinates\":null,\"data_source\":{\"id\":\"5004\"},\"glyph\":{\"id\":\"5007\"},\"group\":null,\"hover_glyph\":null,\"muted_glyph\":{\"id\":\"5009\"},\"nonselection_glyph\":{\"id\":\"5008\"},\"selection_glyph\":{\"id\":\"5025\"},\"view\":{\"id\":\"5011\"}},\"id\":\"5010\",\"type\":\"GlyphRenderer\"},{\"attributes\":{},\"id\":\"4957\",\"type\":\"BasicTicker\"},{\"attributes\":{\"label\":{\"value\":\"Prime Rate\"},\"renderers\":[{\"id\":\"5010\"}]},\"id\":\"5024\",\"type\":\"LegendItem\"},{\"attributes\":{},\"id\":\"4979\",\"type\":\"AllLabels\"},{\"attributes\":{\"axis_label\":\"Inflation Rate/Prime Rate\",\"coordinates\":null,\"formatter\":{\"id\":\"4981\"},\"group\":null,\"major_label_policy\":{\"id\":\"4982\"},\"ticker\":{\"id\":\"4961\"}},\"id\":\"4960\",\"type\":\"LinearAxis\"},{\"attributes\":{\"axis\":{\"id\":\"4960\"},\"coordinates\":null,\"dimension\":1,\"grid_line_color\":null,\"group\":null,\"ticker\":null},\"id\":\"4963\",\"type\":\"Grid\"},{\"attributes\":{\"end\":2022.0,\"reset_end\":2022.0,\"reset_start\":1979.0,\"start\":1979.0,\"tags\":[[[\"Year\",\"Year\",null]]]},\"id\":\"4943\",\"type\":\"Range1d\"},{\"attributes\":{},\"id\":\"4961\",\"type\":\"BasicTicker\"},{\"attributes\":{},\"id\":\"4966\",\"type\":\"WheelZoomTool\"},{\"attributes\":{},\"id\":\"5021\",\"type\":\"UnionRenderers\"},{\"attributes\":{\"line_color\":\"#30a2da\",\"line_width\":2,\"x\":{\"field\":\"Year\"},\"y\":{\"field\":\"Inflation Rate/Prime Rate\"}},\"id\":\"4986\",\"type\":\"Line\"},{\"attributes\":{},\"id\":\"4964\",\"type\":\"SaveTool\"},{\"attributes\":{\"margin\":[5,5,5,5],\"name\":\"HSpacer06370\",\"sizing_mode\":\"stretch_width\"},\"id\":\"5038\",\"type\":\"Spacer\"},{\"attributes\":{\"coordinates\":null,\"data_source\":{\"id\":\"4983\"},\"glyph\":{\"id\":\"4986\"},\"group\":null,\"hover_glyph\":null,\"muted_glyph\":{\"id\":\"4988\"},\"nonselection_glyph\":{\"id\":\"4987\"},\"selection_glyph\":{\"id\":\"5003\"},\"view\":{\"id\":\"4990\"}},\"id\":\"4989\",\"type\":\"GlyphRenderer\"},{\"attributes\":{\"tools\":[{\"id\":\"4945\"},{\"id\":\"4964\"},{\"id\":\"4965\"},{\"id\":\"4966\"},{\"id\":\"4967\"},{\"id\":\"4968\"}]},\"id\":\"4970\",\"type\":\"Toolbar\"},{\"attributes\":{\"end\":21.991,\"reset_end\":21.991,\"reset_start\":-1.9010000000000002,\"start\":-1.9010000000000002,\"tags\":[[[\"Inflation Rate/Prime Rate\",\"Inflation Rate/Prime Rate\",null]]]},\"id\":\"4944\",\"type\":\"Range1d\"},{\"attributes\":{\"overlay\":{\"id\":\"4969\"}},\"id\":\"4967\",\"type\":\"BoxZoomTool\"},{\"attributes\":{},\"id\":\"4968\",\"type\":\"ResetTool\"},{\"attributes\":{\"bottom_units\":\"screen\",\"coordinates\":null,\"fill_alpha\":0.5,\"fill_color\":\"lightgrey\",\"group\":null,\"left_units\":\"screen\",\"level\":\"overlay\",\"line_alpha\":1.0,\"line_color\":\"black\",\"line_dash\":[4,4],\"line_width\":2,\"right_units\":\"screen\",\"syncable\":false,\"top_units\":\"screen\"},\"id\":\"4969\",\"type\":\"BoxAnnotation\"},{\"attributes\":{},\"id\":\"4998\",\"type\":\"UnionRenderers\"},{\"attributes\":{},\"id\":\"4978\",\"type\":\"BasicTickFormatter\"},{\"attributes\":{\"line_alpha\":0.1,\"line_color\":\"#30a2da\",\"line_width\":2,\"x\":{\"field\":\"Year\"},\"y\":{\"field\":\"Inflation Rate/Prime Rate\"}},\"id\":\"4987\",\"type\":\"Line\"},{\"attributes\":{},\"id\":\"4982\",\"type\":\"AllLabels\"},{\"attributes\":{\"data\":{\"Inflation Rate/Prime Rate\":{\"__ndarray__\":\"AAAAAAAAK0DkneDu7i4uQAAAAAAAADRAmpmZmZkZMUAAAAAAAAAnQAAAAAAAwCZAAAAAAACAJEAAAAAAAEAmQAAAAAAAgCRAAAAAAACAJUAAAAAAAAArQDMzMzMzcytAAAAAAAAAI0DNzMzMzMweQAAAAAAAABhAAAAAAAAAGEAAAAAAAIAgQJqZmZmZmRZAAAAAAAAAE0AAAAAAAIAcQAAAAAAAABlAmpmZmZkZHEAAAAAAAAAVQAAAAAAAABJAAAAAAACAE0AAAAAAAAAOQKuqqqqqqhFAAAAAAAAAGEAAAAAAAAAYQAAAAAAAABRAAAAAAAAAAkAAAAAAAAACQAAAAAAAAAhAAAAAAAAACEAAAAAAAAAIQAAAAAAAAAhAmpmZmZmZBUCamZmZmZkFQJqZmZmZmQdAmpmZmZmZDUCamZmZmZkPQJqZmZmZmQNAmpmZmZmZA0Dd3d3d3d0LQA==\",\"dtype\":\"float64\",\"order\":\"little\",\"shape\":[44]},\"Inflation_Rate_over_Prime_Rate\":{\"__ndarray__\":\"AAAAAAAAK0DkneDu7i4uQAAAAAAAADRAmpmZmZkZMUAAAAAAAAAnQAAAAAAAwCZAAAAAAACAJEAAAAAAAEAmQAAAAAAAgCRAAAAAAACAJUAAAAAAAAArQDMzMzMzcytAAAAAAAAAI0DNzMzMzMweQAAAAAAAABhAAAAAAAAAGEAAAAAAAIAgQJqZmZmZmRZAAAAAAAAAE0AAAAAAAIAcQAAAAAAAABlAmpmZmZkZHEAAAAAAAAAVQAAAAAAAABJAAAAAAACAE0AAAAAAAAAOQKuqqqqqqhFAAAAAAAAAGEAAAAAAAAAYQAAAAAAAABRAAAAAAAAAAkAAAAAAAAACQAAAAAAAAAhAAAAAAAAACEAAAAAAAAAIQAAAAAAAAAhAmpmZmZmZBUCamZmZmZkFQJqZmZmZmQdAmpmZmZmZDUCamZmZmZkPQJqZmZmZmQNAmpmZmZmZA0Dd3d3d3d0LQA==\",\"dtype\":\"float64\",\"order\":\"little\",\"shape\":[44]},\"Variable\":[\"Prime Rate\",\"Prime Rate\",\"Prime Rate\",\"Prime Rate\",\"Prime Rate\",\"Prime Rate\",\"Prime Rate\",\"Prime Rate\",\"Prime Rate\",\"Prime Rate\",\"Prime Rate\",\"Prime Rate\",\"Prime Rate\",\"Prime Rate\",\"Prime Rate\",\"Prime Rate\",\"Prime Rate\",\"Prime Rate\",\"Prime Rate\",\"Prime Rate\",\"Prime Rate\",\"Prime Rate\",\"Prime Rate\",\"Prime Rate\",\"Prime Rate\",\"Prime Rate\",\"Prime Rate\",\"Prime Rate\",\"Prime Rate\",\"Prime Rate\",\"Prime Rate\",\"Prime Rate\",\"Prime Rate\",\"Prime Rate\",\"Prime Rate\",\"Prime Rate\",\"Prime Rate\",\"Prime Rate\",\"Prime Rate\",\"Prime Rate\",\"Prime Rate\",\"Prime Rate\",\"Prime Rate\",\"Prime Rate\"],\"Year\":[1979,1980,1981,1982,1983,1984,1985,1986,1987,1988,1989,1990,1991,1992,1993,1994,1995,1996,1997,1998,1999,2000,2001,2002,2003,2004,2005,2006,2007,2008,2009,2010,2011,2012,2013,2014,2015,2016,2017,2018,2019,2020,2021,2022]},\"selected\":{\"id\":\"5005\"},\"selection_policy\":{\"id\":\"5021\"}},\"id\":\"5004\",\"type\":\"ColumnDataSource\"},{\"attributes\":{\"label\":{\"value\":\"Inflation Rate\"},\"renderers\":[{\"id\":\"4989\"}]},\"id\":\"5002\",\"type\":\"LegendItem\"}],\"root_ids\":[\"4941\"]},\"title\":\"Bokeh Application\",\"version\":\"2.4.3\"}};\n",
       "    var render_items = [{\"docid\":\"4749e399-b1c7-44a7-8722-17e9eaeb7c54\",\"root_ids\":[\"4941\"],\"roots\":{\"4941\":\"e6604838-bbd3-48c1-b76e-72f2545cbda3\"}}];\n",
       "    root.Bokeh.embed.embed_items_notebook(docs_json, render_items);\n",
       "    for (const render_item of render_items) {\n",
       "      for (const root_id of render_item.root_ids) {\n",
       "\tconst id_el = document.getElementById(root_id)\n",
       "\tif (id_el.children.length && (id_el.children[0].className === 'bk-root')) {\n",
       "\t  const root_el = id_el.children[0]\n",
       "\t  root_el.id = root_el.id + '-rendered'\n",
       "\t}\n",
       "      }\n",
       "    }\n",
       "  }\n",
       "  if (root.Bokeh !== undefined && root.Bokeh.Panel !== undefined) {\n",
       "    embed_document(root);\n",
       "  } else {\n",
       "    var attempts = 0;\n",
       "    var timer = setInterval(function(root) {\n",
       "      if (root.Bokeh !== undefined && root.Bokeh.Panel !== undefined) {\n",
       "        clearInterval(timer);\n",
       "        embed_document(root);\n",
       "      } else if (document.readyState == \"complete\") {\n",
       "        attempts++;\n",
       "        if (attempts > 200) {\n",
       "          clearInterval(timer);\n",
       "          console.log(\"Bokeh: ERROR: Unable to run BokehJS code because BokehJS library is missing\");\n",
       "        }\n",
       "      }\n",
       "    }, 25, root)\n",
       "  }\n",
       "})(window);</script>"
      ],
      "text/plain": [
       ":NdOverlay   [Variable]\n",
       "   :Curve   [Year]   (Inflation Rate/Prime Rate)"
      ]
     },
     "execution_count": 50,
     "metadata": {
      "application/vnd.holoviews_exec.v0+json": {
       "id": "4941"
      }
     },
     "output_type": "execute_result"
    }
   ],
   "source": [
    "# Creating a line chart comparing inflation and interest rates\n",
    "\n",
    "# Reading infation data and creating a DataFrame\n",
    "inflation_file = \"./inflation_data.csv\"\n",
    "inflation_df = pd.read_csv(inflation_file, parse_dates=True, infer_datetime_format=True, index_col=\"Date\")\n",
    "inflation_df = inflation_df.drop([\"Simple Growth Rate %\", \"Y-o-Y Change %\", \"Annual % Rate\", \"Type\"], axis=1)\n",
    "\n",
    "# Reading interest rate file and creating a DataFrame\n",
    "interest_file = \"./interest_rates.csv\"\n",
    "interest_df = pd.read_csv(interest_file, index_col=\"Date\")\n",
    "interest_df = interest_df.sort_index(ascending=False)\n",
    "\n",
    "# Combining the inflation DataFrames together\n",
    "combined_df = pd.concat([inflation_df, interest_df], join=\"outer\", axis=\"columns\")\n",
    "combined_df = combined_df.dropna()\n",
    "combined_df = combined_df.reset_index()\n",
    "\n",
    "# Creates a new column in the CSV file for year\n",
    "combined_df[\"Date\"] = pd.to_datetime(combined_df[\"Date\"])\n",
    "combined_df[\"Year\"] = combined_df[\"Date\"].dt.year\n",
    "\n",
    "# Groups housing data by year\n",
    "yearly_combined_df = combined_df.groupby(\"Year\").mean()\n",
    "\n",
    "# Plots a line chart comparing the data\n",
    "yearly_combined_df.hvplot(x='Year', y=['Inflation Rate', 'Prime Rate'], value_label='Inflation Rate/Prime Rate', rot=90, width=1200, height = 500, title=\"Inflation Rates Compared to Prime Rates From 1979 to 2022\")"
   ]
  },
  {
   "cell_type": "code",
   "execution_count": 63,
   "metadata": {},
   "outputs": [
    {
     "data": {},
     "metadata": {},
     "output_type": "display_data"
    },
    {
     "data": {
      "application/vnd.holoviews_exec.v0+json": "",
      "text/html": [
       "<div id='6215'>\n",
       "  <div class=\"bk-root\" id=\"e6db2ac4-ac31-40ff-8418-6119da2838d2\" data-root-id=\"6215\"></div>\n",
       "</div>\n",
       "<script type=\"application/javascript\">(function(root) {\n",
       "  function embed_document(root) {\n",
       "    var docs_json = {\"65d499e8-1db5-4f1b-a954-c63398b1ad45\":{\"defs\":[{\"extends\":null,\"module\":null,\"name\":\"ReactiveHTML1\",\"overrides\":[],\"properties\":[]},{\"extends\":null,\"module\":null,\"name\":\"FlexBox1\",\"overrides\":[],\"properties\":[{\"default\":\"flex-start\",\"kind\":null,\"name\":\"align_content\"},{\"default\":\"flex-start\",\"kind\":null,\"name\":\"align_items\"},{\"default\":\"row\",\"kind\":null,\"name\":\"flex_direction\"},{\"default\":\"wrap\",\"kind\":null,\"name\":\"flex_wrap\"},{\"default\":\"flex-start\",\"kind\":null,\"name\":\"justify_content\"}]},{\"extends\":null,\"module\":null,\"name\":\"GridStack1\",\"overrides\":[],\"properties\":[{\"default\":\"warn\",\"kind\":null,\"name\":\"mode\"},{\"default\":null,\"kind\":null,\"name\":\"ncols\"},{\"default\":null,\"kind\":null,\"name\":\"nrows\"},{\"default\":true,\"kind\":null,\"name\":\"allow_resize\"},{\"default\":true,\"kind\":null,\"name\":\"allow_drag\"},{\"default\":[],\"kind\":null,\"name\":\"state\"}]},{\"extends\":null,\"module\":null,\"name\":\"click1\",\"overrides\":[],\"properties\":[{\"default\":\"\",\"kind\":null,\"name\":\"terminal_output\"},{\"default\":\"\",\"kind\":null,\"name\":\"debug_name\"},{\"default\":0,\"kind\":null,\"name\":\"clears\"}]},{\"extends\":null,\"module\":null,\"name\":\"NotificationAreaBase1\",\"overrides\":[],\"properties\":[{\"default\":\"bottom-right\",\"kind\":null,\"name\":\"position\"},{\"default\":0,\"kind\":null,\"name\":\"_clear\"}]},{\"extends\":null,\"module\":null,\"name\":\"NotificationArea1\",\"overrides\":[],\"properties\":[{\"default\":[],\"kind\":null,\"name\":\"notifications\"},{\"default\":\"bottom-right\",\"kind\":null,\"name\":\"position\"},{\"default\":0,\"kind\":null,\"name\":\"_clear\"},{\"default\":[{\"background\":\"#ffc107\",\"icon\":{\"className\":\"fas fa-exclamation-triangle\",\"color\":\"white\",\"tagName\":\"i\"},\"type\":\"warning\"},{\"background\":\"#007bff\",\"icon\":{\"className\":\"fas fa-info-circle\",\"color\":\"white\",\"tagName\":\"i\"},\"type\":\"info\"}],\"kind\":null,\"name\":\"types\"}]},{\"extends\":null,\"module\":null,\"name\":\"Notification\",\"overrides\":[],\"properties\":[{\"default\":null,\"kind\":null,\"name\":\"background\"},{\"default\":3000,\"kind\":null,\"name\":\"duration\"},{\"default\":null,\"kind\":null,\"name\":\"icon\"},{\"default\":\"\",\"kind\":null,\"name\":\"message\"},{\"default\":null,\"kind\":null,\"name\":\"notification_type\"},{\"default\":false,\"kind\":null,\"name\":\"_destroyed\"}]},{\"extends\":null,\"module\":null,\"name\":\"TemplateActions1\",\"overrides\":[],\"properties\":[{\"default\":0,\"kind\":null,\"name\":\"open_modal\"},{\"default\":0,\"kind\":null,\"name\":\"close_modal\"}]},{\"extends\":null,\"module\":null,\"name\":\"MaterialTemplateActions1\",\"overrides\":[],\"properties\":[{\"default\":0,\"kind\":null,\"name\":\"open_modal\"},{\"default\":0,\"kind\":null,\"name\":\"close_modal\"}]}],\"roots\":{\"references\":[{\"attributes\":{},\"id\":\"6225\",\"type\":\"CategoricalScale\"},{\"attributes\":{\"coordinates\":null,\"group\":null,\"text\":\"Population Growth in Canada from 2000 to 2022 In Millions\",\"text_color\":\"black\",\"text_font_size\":\"12pt\"},\"id\":\"6221\",\"type\":\"Title\"},{\"attributes\":{\"fill_color\":{\"value\":\"green\"},\"hatch_color\":{\"value\":\"green\"},\"top\":{\"field\":\"Population\"},\"width\":{\"value\":0.8},\"x\":{\"field\":\"Year\"}},\"id\":\"6252\",\"type\":\"VBar\"},{\"attributes\":{},\"id\":\"6271\",\"type\":\"UnionRenderers\"},{\"attributes\":{},\"id\":\"6237\",\"type\":\"PanTool\"},{\"attributes\":{\"axis\":{\"id\":\"6229\"},\"coordinates\":null,\"grid_line_color\":null,\"group\":null,\"ticker\":null},\"id\":\"6231\",\"type\":\"Grid\"},{\"attributes\":{},\"id\":\"6230\",\"type\":\"CategoricalTicker\"},{\"attributes\":{\"axis_label\":\"Population\",\"coordinates\":null,\"formatter\":{\"id\":\"6262\"},\"group\":null,\"major_label_policy\":{\"id\":\"6263\"},\"ticker\":{\"id\":\"6233\"}},\"id\":\"6232\",\"type\":\"LinearAxis\"},{\"attributes\":{\"axis\":{\"id\":\"6232\"},\"coordinates\":null,\"dimension\":1,\"grid_line_color\":null,\"group\":null,\"ticker\":null},\"id\":\"6235\",\"type\":\"Grid\"},{\"attributes\":{},\"id\":\"6233\",\"type\":\"BasicTicker\"},{\"attributes\":{},\"id\":\"6238\",\"type\":\"WheelZoomTool\"},{\"attributes\":{},\"id\":\"6236\",\"type\":\"SaveTool\"},{\"attributes\":{},\"id\":\"6263\",\"type\":\"AllLabels\"},{\"attributes\":{\"margin\":[5,5,5,5],\"name\":\"HSpacer07701\",\"sizing_mode\":\"stretch_width\"},\"id\":\"6274\",\"type\":\"Spacer\"},{\"attributes\":{\"overlay\":{\"id\":\"6241\"}},\"id\":\"6239\",\"type\":\"BoxZoomTool\"},{\"attributes\":{},\"id\":\"6240\",\"type\":\"ResetTool\"},{\"attributes\":{\"bottom_units\":\"screen\",\"coordinates\":null,\"fill_alpha\":0.5,\"fill_color\":\"lightgrey\",\"group\":null,\"left_units\":\"screen\",\"level\":\"overlay\",\"line_alpha\":1.0,\"line_color\":\"black\",\"line_dash\":[4,4],\"line_width\":2,\"right_units\":\"screen\",\"syncable\":false,\"top_units\":\"screen\"},\"id\":\"6241\",\"type\":\"BoxAnnotation\"},{\"attributes\":{\"bottom\":{\"value\":0},\"fill_alpha\":{\"value\":1.0},\"fill_color\":{\"value\":\"green\"},\"hatch_alpha\":{\"value\":1.0},\"hatch_color\":{\"value\":\"green\"},\"hatch_scale\":{\"value\":12.0},\"hatch_weight\":{\"value\":1.0},\"line_alpha\":{\"value\":1.0},\"line_cap\":{\"value\":\"butt\"},\"line_color\":{\"value\":\"black\"},\"line_dash\":{\"value\":[]},\"line_dash_offset\":{\"value\":0},\"line_join\":{\"value\":\"bevel\"},\"line_width\":{\"value\":1},\"top\":{\"field\":\"Population\"},\"width\":{\"value\":0.8},\"x\":{\"field\":\"Year\"}},\"id\":\"6257\",\"type\":\"VBar\"},{\"attributes\":{},\"id\":\"6260\",\"type\":\"AllLabels\"},{\"attributes\":{},\"id\":\"6250\",\"type\":\"Selection\"},{\"attributes\":{\"fill_alpha\":{\"value\":0.2},\"fill_color\":{\"value\":\"green\"},\"hatch_alpha\":{\"value\":0.2},\"hatch_color\":{\"value\":\"green\"},\"line_alpha\":{\"value\":0.2},\"top\":{\"field\":\"Population\"},\"width\":{\"value\":0.8},\"x\":{\"field\":\"Year\"}},\"id\":\"6254\",\"type\":\"VBar\"},{\"attributes\":{\"source\":{\"id\":\"6249\"}},\"id\":\"6256\",\"type\":\"CDSView\"},{\"attributes\":{\"factors\":[\"2000\",\"2001\",\"2002\",\"2003\",\"2004\",\"2005\",\"2006\",\"2007\",\"2008\",\"2009\",\"2010\",\"2011\",\"2012\",\"2013\",\"2014\",\"2015\",\"2016\",\"2017\",\"2018\",\"2019\",\"2020\",\"2021\",\"2022\"],\"tags\":[[[\"Year\",\"Year\",null]]]},\"id\":\"6217\",\"type\":\"FactorRange\"},{\"attributes\":{\"coordinates\":null,\"data_source\":{\"id\":\"6249\"},\"glyph\":{\"id\":\"6252\"},\"group\":null,\"hover_glyph\":null,\"muted_glyph\":{\"id\":\"6254\"},\"nonselection_glyph\":{\"id\":\"6253\"},\"selection_glyph\":{\"id\":\"6257\"},\"view\":{\"id\":\"6256\"}},\"id\":\"6255\",\"type\":\"GlyphRenderer\"},{\"attributes\":{},\"id\":\"6259\",\"type\":\"CategoricalTickFormatter\"},{\"attributes\":{\"end\":39.754,\"reset_end\":39.754,\"reset_start\":0.0,\"tags\":[[[\"Population\",\"Population\",null]]]},\"id\":\"6218\",\"type\":\"Range1d\"},{\"attributes\":{\"margin\":[5,5,5,5],\"name\":\"HSpacer07700\",\"sizing_mode\":\"stretch_width\"},\"id\":\"6216\",\"type\":\"Spacer\"},{\"attributes\":{\"children\":[{\"id\":\"6216\"},{\"id\":\"6220\"},{\"id\":\"6274\"}],\"margin\":[0,0,0,0],\"name\":\"Row07696\",\"tags\":[\"embedded\"]},\"id\":\"6215\",\"type\":\"Row\"},{\"attributes\":{},\"id\":\"6227\",\"type\":\"LinearScale\"},{\"attributes\":{\"callback\":null,\"renderers\":[{\"id\":\"6255\"}],\"tags\":[\"hv_created\"],\"tooltips\":[[\"Year\",\"@{Year}\"],[\"Population\",\"@{Population}\"]]},\"id\":\"6219\",\"type\":\"HoverTool\"},{\"attributes\":{\"tools\":[{\"id\":\"6219\"},{\"id\":\"6236\"},{\"id\":\"6237\"},{\"id\":\"6238\"},{\"id\":\"6239\"},{\"id\":\"6240\"}]},\"id\":\"6242\",\"type\":\"Toolbar\"},{\"attributes\":{\"below\":[{\"id\":\"6229\"}],\"center\":[{\"id\":\"6231\"},{\"id\":\"6235\"}],\"height\":500,\"left\":[{\"id\":\"6232\"}],\"margin\":[5,5,5,5],\"min_border_bottom\":10,\"min_border_left\":10,\"min_border_right\":10,\"min_border_top\":10,\"renderers\":[{\"id\":\"6255\"}],\"sizing_mode\":\"fixed\",\"title\":{\"id\":\"6221\"},\"toolbar\":{\"id\":\"6242\"},\"width\":1200,\"x_range\":{\"id\":\"6217\"},\"x_scale\":{\"id\":\"6225\"},\"y_range\":{\"id\":\"6218\"},\"y_scale\":{\"id\":\"6227\"}},\"id\":\"6220\",\"subtype\":\"Figure\",\"type\":\"Plot\"},{\"attributes\":{\"fill_alpha\":{\"value\":0.1},\"fill_color\":{\"value\":\"green\"},\"hatch_alpha\":{\"value\":0.1},\"hatch_color\":{\"value\":\"green\"},\"line_alpha\":{\"value\":0.1},\"top\":{\"field\":\"Population\"},\"width\":{\"value\":0.8},\"x\":{\"field\":\"Year\"}},\"id\":\"6253\",\"type\":\"VBar\"},{\"attributes\":{},\"id\":\"6262\",\"type\":\"BasicTickFormatter\"},{\"attributes\":{\"axis_label\":\"Year\",\"coordinates\":null,\"formatter\":{\"id\":\"6259\"},\"group\":null,\"major_label_orientation\":1.5707963267948966,\"major_label_policy\":{\"id\":\"6260\"},\"ticker\":{\"id\":\"6230\"}},\"id\":\"6229\",\"type\":\"CategoricalAxis\"},{\"attributes\":{\"data\":{\"Population\":{\"__ndarray__\":\"cT0K16OwPkCF61G4HgU/QFyPwvUoXD9ApHA9CtejP0BxPQrXo/A/QB+F61G4HkBAKVyPwvVIQEBSuB6F63FAQAAAAAAAoEBAcT0K16PQQEAAAAAAAABBQOxRuB6FK0FAexSuR+FaQUAK16NwPYpBQLgehetRuEFAmpmZmZnZQUCuR+F6FA5CQGZmZmZmRkJAKVyPwvWIQkDNzMzMzMxCQOF6FK5HAUNAPQrXo3AdQ0DXo3A9CndDQA==\",\"dtype\":\"float64\",\"order\":\"little\",\"shape\":[23]},\"Year\":[\"2000\",\"2001\",\"2002\",\"2003\",\"2004\",\"2005\",\"2006\",\"2007\",\"2008\",\"2009\",\"2010\",\"2011\",\"2012\",\"2013\",\"2014\",\"2015\",\"2016\",\"2017\",\"2018\",\"2019\",\"2020\",\"2021\",\"2022\"]},\"selected\":{\"id\":\"6250\"},\"selection_policy\":{\"id\":\"6271\"}},\"id\":\"6249\",\"type\":\"ColumnDataSource\"}],\"root_ids\":[\"6215\"]},\"title\":\"Bokeh Application\",\"version\":\"2.4.3\"}};\n",
       "    var render_items = [{\"docid\":\"65d499e8-1db5-4f1b-a954-c63398b1ad45\",\"root_ids\":[\"6215\"],\"roots\":{\"6215\":\"e6db2ac4-ac31-40ff-8418-6119da2838d2\"}}];\n",
       "    root.Bokeh.embed.embed_items_notebook(docs_json, render_items);\n",
       "    for (const render_item of render_items) {\n",
       "      for (const root_id of render_item.root_ids) {\n",
       "\tconst id_el = document.getElementById(root_id)\n",
       "\tif (id_el.children.length && (id_el.children[0].className === 'bk-root')) {\n",
       "\t  const root_el = id_el.children[0]\n",
       "\t  root_el.id = root_el.id + '-rendered'\n",
       "\t}\n",
       "      }\n",
       "    }\n",
       "  }\n",
       "  if (root.Bokeh !== undefined && root.Bokeh.Panel !== undefined) {\n",
       "    embed_document(root);\n",
       "  } else {\n",
       "    var attempts = 0;\n",
       "    var timer = setInterval(function(root) {\n",
       "      if (root.Bokeh !== undefined && root.Bokeh.Panel !== undefined) {\n",
       "        clearInterval(timer);\n",
       "        embed_document(root);\n",
       "      } else if (document.readyState == \"complete\") {\n",
       "        attempts++;\n",
       "        if (attempts > 200) {\n",
       "          clearInterval(timer);\n",
       "          console.log(\"Bokeh: ERROR: Unable to run BokehJS code because BokehJS library is missing\");\n",
       "        }\n",
       "      }\n",
       "    }, 25, root)\n",
       "  }\n",
       "})(window);</script>"
      ],
      "text/plain": [
       ":Bars   [Year]   (Population)"
      ]
     },
     "execution_count": 63,
     "metadata": {
      "application/vnd.holoviews_exec.v0+json": {
       "id": "6215"
      }
     },
     "output_type": "execute_result"
    }
   ],
   "source": [
    "# Creating a bar chart for population growth\n",
    "\n",
    "# Reading the population data file and creating a DataFrame\n",
    "population_file = \"./population_growth.csv\"\n",
    "population_df = pd.read_csv(population_file)\n",
    "\n",
    "# Divides the data by 1,000,000\n",
    "population_df[\"Population\"] = population_df[\"Population\"].div(1000000).round(2)\n",
    "\n",
    "# Plotting the data on a bar chart\n",
    "population_df.hvplot.bar(x='Year', rot=90, y='Population', color=\"green\", width=1200, height=500, title=\"Population Growth in Canada from 2000 to 2022 In Millions\")"
   ]
  },
  {
   "cell_type": "code",
   "execution_count": 71,
   "metadata": {},
   "outputs": [
    {
     "data": {},
     "metadata": {},
     "output_type": "display_data"
    },
    {
     "data": {
      "application/vnd.holoviews_exec.v0+json": "",
      "text/html": [
       "<div id='6659'>\n",
       "  <div class=\"bk-root\" id=\"4cc549aa-f138-4e50-835f-39088f71f3ba\" data-root-id=\"6659\"></div>\n",
       "</div>\n",
       "<script type=\"application/javascript\">(function(root) {\n",
       "  function embed_document(root) {\n",
       "    var docs_json = {\"466fded3-9753-47d0-b7d0-a51bef7f44ac\":{\"defs\":[{\"extends\":null,\"module\":null,\"name\":\"ReactiveHTML1\",\"overrides\":[],\"properties\":[]},{\"extends\":null,\"module\":null,\"name\":\"FlexBox1\",\"overrides\":[],\"properties\":[{\"default\":\"flex-start\",\"kind\":null,\"name\":\"align_content\"},{\"default\":\"flex-start\",\"kind\":null,\"name\":\"align_items\"},{\"default\":\"row\",\"kind\":null,\"name\":\"flex_direction\"},{\"default\":\"wrap\",\"kind\":null,\"name\":\"flex_wrap\"},{\"default\":\"flex-start\",\"kind\":null,\"name\":\"justify_content\"}]},{\"extends\":null,\"module\":null,\"name\":\"GridStack1\",\"overrides\":[],\"properties\":[{\"default\":\"warn\",\"kind\":null,\"name\":\"mode\"},{\"default\":null,\"kind\":null,\"name\":\"ncols\"},{\"default\":null,\"kind\":null,\"name\":\"nrows\"},{\"default\":true,\"kind\":null,\"name\":\"allow_resize\"},{\"default\":true,\"kind\":null,\"name\":\"allow_drag\"},{\"default\":[],\"kind\":null,\"name\":\"state\"}]},{\"extends\":null,\"module\":null,\"name\":\"click1\",\"overrides\":[],\"properties\":[{\"default\":\"\",\"kind\":null,\"name\":\"terminal_output\"},{\"default\":\"\",\"kind\":null,\"name\":\"debug_name\"},{\"default\":0,\"kind\":null,\"name\":\"clears\"}]},{\"extends\":null,\"module\":null,\"name\":\"NotificationAreaBase1\",\"overrides\":[],\"properties\":[{\"default\":\"bottom-right\",\"kind\":null,\"name\":\"position\"},{\"default\":0,\"kind\":null,\"name\":\"_clear\"}]},{\"extends\":null,\"module\":null,\"name\":\"NotificationArea1\",\"overrides\":[],\"properties\":[{\"default\":[],\"kind\":null,\"name\":\"notifications\"},{\"default\":\"bottom-right\",\"kind\":null,\"name\":\"position\"},{\"default\":0,\"kind\":null,\"name\":\"_clear\"},{\"default\":[{\"background\":\"#ffc107\",\"icon\":{\"className\":\"fas fa-exclamation-triangle\",\"color\":\"white\",\"tagName\":\"i\"},\"type\":\"warning\"},{\"background\":\"#007bff\",\"icon\":{\"className\":\"fas fa-info-circle\",\"color\":\"white\",\"tagName\":\"i\"},\"type\":\"info\"}],\"kind\":null,\"name\":\"types\"}]},{\"extends\":null,\"module\":null,\"name\":\"Notification\",\"overrides\":[],\"properties\":[{\"default\":null,\"kind\":null,\"name\":\"background\"},{\"default\":3000,\"kind\":null,\"name\":\"duration\"},{\"default\":null,\"kind\":null,\"name\":\"icon\"},{\"default\":\"\",\"kind\":null,\"name\":\"message\"},{\"default\":null,\"kind\":null,\"name\":\"notification_type\"},{\"default\":false,\"kind\":null,\"name\":\"_destroyed\"}]},{\"extends\":null,\"module\":null,\"name\":\"TemplateActions1\",\"overrides\":[],\"properties\":[{\"default\":0,\"kind\":null,\"name\":\"open_modal\"},{\"default\":0,\"kind\":null,\"name\":\"close_modal\"}]},{\"extends\":null,\"module\":null,\"name\":\"MaterialTemplateActions1\",\"overrides\":[],\"properties\":[{\"default\":0,\"kind\":null,\"name\":\"open_modal\"},{\"default\":0,\"kind\":null,\"name\":\"close_modal\"}]}],\"roots\":{\"references\":[{\"attributes\":{\"source\":{\"id\":\"6693\"}},\"id\":\"6700\",\"type\":\"CDSView\"},{\"attributes\":{},\"id\":\"6681\",\"type\":\"PanTool\"},{\"attributes\":{},\"id\":\"6715\",\"type\":\"UnionRenderers\"},{\"attributes\":{},\"id\":\"6669\",\"type\":\"CategoricalScale\"},{\"attributes\":{\"fill_color\":{\"value\":\"#30a2da\"},\"hatch_color\":{\"value\":\"#30a2da\"},\"top\":{\"field\":\"Number_of_Immigrants\"},\"width\":{\"value\":0.8},\"x\":{\"field\":\"Year\"}},\"id\":\"6696\",\"type\":\"VBar\"},{\"attributes\":{\"axis_label\":\"Number of Immigrants\",\"coordinates\":null,\"formatter\":{\"id\":\"6706\"},\"group\":null,\"major_label_policy\":{\"id\":\"6707\"},\"ticker\":{\"id\":\"6677\"}},\"id\":\"6676\",\"type\":\"LinearAxis\"},{\"attributes\":{\"axis\":{\"id\":\"6676\"},\"coordinates\":null,\"dimension\":1,\"grid_line_color\":null,\"group\":null,\"ticker\":null},\"id\":\"6679\",\"type\":\"Grid\"},{\"attributes\":{},\"id\":\"6707\",\"type\":\"AllLabels\"},{\"attributes\":{},\"id\":\"6677\",\"type\":\"BasicTicker\"},{\"attributes\":{},\"id\":\"6706\",\"type\":\"BasicTickFormatter\"},{\"attributes\":{},\"id\":\"6682\",\"type\":\"WheelZoomTool\"},{\"attributes\":{},\"id\":\"6680\",\"type\":\"SaveTool\"},{\"attributes\":{\"margin\":[5,5,5,5],\"name\":\"HSpacer08145\",\"sizing_mode\":\"stretch_width\"},\"id\":\"6718\",\"type\":\"Spacer\"},{\"attributes\":{\"margin\":[5,5,5,5],\"name\":\"HSpacer08144\",\"sizing_mode\":\"stretch_width\"},\"id\":\"6660\",\"type\":\"Spacer\"},{\"attributes\":{\"overlay\":{\"id\":\"6685\"}},\"id\":\"6683\",\"type\":\"BoxZoomTool\"},{\"attributes\":{},\"id\":\"6684\",\"type\":\"ResetTool\"},{\"attributes\":{\"factors\":[\"2000\",\"2001\",\"2002\",\"2003\",\"2004\",\"2005\",\"2006\",\"2007\",\"2008\",\"2009\",\"2010\",\"2011\",\"2012\",\"2013\",\"2014\",\"2015\",\"2016\",\"2017\",\"2018\",\"2019\",\"2020\",\"2021\",\"2022\"],\"tags\":[[[\"Year\",\"Year\",null]]]},\"id\":\"6661\",\"type\":\"FactorRange\"},{\"attributes\":{\"bottom_units\":\"screen\",\"coordinates\":null,\"fill_alpha\":0.5,\"fill_color\":\"lightgrey\",\"group\":null,\"left_units\":\"screen\",\"level\":\"overlay\",\"line_alpha\":1.0,\"line_color\":\"black\",\"line_dash\":[4,4],\"line_width\":2,\"right_units\":\"screen\",\"syncable\":false,\"top_units\":\"screen\"},\"id\":\"6685\",\"type\":\"BoxAnnotation\"},{\"attributes\":{},\"id\":\"6704\",\"type\":\"AllLabels\"},{\"attributes\":{\"coordinates\":null,\"data_source\":{\"id\":\"6693\"},\"glyph\":{\"id\":\"6696\"},\"group\":null,\"hover_glyph\":null,\"muted_glyph\":{\"id\":\"6698\"},\"nonselection_glyph\":{\"id\":\"6697\"},\"selection_glyph\":{\"id\":\"6701\"},\"view\":{\"id\":\"6700\"}},\"id\":\"6699\",\"type\":\"GlyphRenderer\"},{\"attributes\":{\"fill_alpha\":{\"value\":0.2},\"fill_color\":{\"value\":\"#30a2da\"},\"hatch_alpha\":{\"value\":0.2},\"hatch_color\":{\"value\":\"#30a2da\"},\"line_alpha\":{\"value\":0.2},\"top\":{\"field\":\"Number_of_Immigrants\"},\"width\":{\"value\":0.8},\"x\":{\"field\":\"Year\"}},\"id\":\"6698\",\"type\":\"VBar\"},{\"attributes\":{\"children\":[{\"id\":\"6660\"},{\"id\":\"6664\"},{\"id\":\"6718\"}],\"margin\":[0,0,0,0],\"name\":\"Row08140\",\"tags\":[\"embedded\"]},\"id\":\"6659\",\"type\":\"Row\"},{\"attributes\":{\"end\":125.19600000000001,\"reset_end\":125.19600000000001,\"reset_start\":0.0,\"tags\":[[[\"Number of Immigrants\",\"Number of Immigrants\",null]]]},\"id\":\"6662\",\"type\":\"Range1d\"},{\"attributes\":{\"tools\":[{\"id\":\"6663\"},{\"id\":\"6680\"},{\"id\":\"6681\"},{\"id\":\"6682\"},{\"id\":\"6683\"},{\"id\":\"6684\"}]},\"id\":\"6686\",\"type\":\"Toolbar\"},{\"attributes\":{},\"id\":\"6674\",\"type\":\"CategoricalTicker\"},{\"attributes\":{\"callback\":null,\"renderers\":[{\"id\":\"6699\"}],\"tags\":[\"hv_created\"],\"tooltips\":[[\"Year\",\"@{Year}\"],[\"Number of Immigrants\",\"@{Number_of_Immigrants}\"]]},\"id\":\"6663\",\"type\":\"HoverTool\"},{\"attributes\":{\"below\":[{\"id\":\"6673\"}],\"center\":[{\"id\":\"6675\"},{\"id\":\"6679\"}],\"height\":500,\"left\":[{\"id\":\"6676\"}],\"margin\":[5,5,5,5],\"min_border_bottom\":10,\"min_border_left\":10,\"min_border_right\":10,\"min_border_top\":10,\"renderers\":[{\"id\":\"6699\"}],\"sizing_mode\":\"fixed\",\"title\":{\"id\":\"6665\"},\"toolbar\":{\"id\":\"6686\"},\"width\":1200,\"x_range\":{\"id\":\"6661\"},\"x_scale\":{\"id\":\"6669\"},\"y_range\":{\"id\":\"6662\"},\"y_scale\":{\"id\":\"6671\"}},\"id\":\"6664\",\"subtype\":\"Figure\",\"type\":\"Plot\"},{\"attributes\":{},\"id\":\"6703\",\"type\":\"CategoricalTickFormatter\"},{\"attributes\":{\"bottom\":{\"value\":0},\"fill_alpha\":{\"value\":1.0},\"fill_color\":{\"value\":\"#30a2da\"},\"hatch_alpha\":{\"value\":1.0},\"hatch_color\":{\"value\":\"#30a2da\"},\"hatch_scale\":{\"value\":12.0},\"hatch_weight\":{\"value\":1.0},\"line_alpha\":{\"value\":1.0},\"line_cap\":{\"value\":\"butt\"},\"line_color\":{\"value\":\"black\"},\"line_dash\":{\"value\":[]},\"line_dash_offset\":{\"value\":0},\"line_join\":{\"value\":\"bevel\"},\"line_width\":{\"value\":1},\"top\":{\"field\":\"Number_of_Immigrants\"},\"width\":{\"value\":0.8},\"x\":{\"field\":\"Year\"}},\"id\":\"6701\",\"type\":\"VBar\"},{\"attributes\":{\"coordinates\":null,\"group\":null,\"text\":\"Amount of Immigrants Per Year In Canada From 2000-2022 In Thousands\",\"text_color\":\"black\",\"text_font_size\":\"12pt\"},\"id\":\"6665\",\"type\":\"Title\"},{\"attributes\":{\"data\":{\"Number_of_Immigrants\":{\"__ndarray__\":\"rkfhehRuTEAUrkfhelRPQOF6FK5HoUxA7FG4HoWrS0B7FK5H4XpNQKRwPQrXY1BAFK5H4Xp0T0C4HoXrUZhNQEjhehSu505AhetRuB6FT0B7FK5H4YpRQNejcD0KF09AzczMzMwcUEBxPQrXozBQQBSuR+F6RFBAPQrXo3D9UEBmZmZmZoZSQEjhehSu51FAcT0K16MQVEAzMzMzM1NVQDMzMzMzE0dAcT0K16NgWUBxPQrXo4BdQA==\",\"dtype\":\"float64\",\"order\":\"little\",\"shape\":[23]},\"Year\":[\"2000\",\"2001\",\"2002\",\"2003\",\"2004\",\"2005\",\"2006\",\"2007\",\"2008\",\"2009\",\"2010\",\"2011\",\"2012\",\"2013\",\"2014\",\"2015\",\"2016\",\"2017\",\"2018\",\"2019\",\"2020\",\"2021\",\"2022\"]},\"selected\":{\"id\":\"6694\"},\"selection_policy\":{\"id\":\"6715\"}},\"id\":\"6693\",\"type\":\"ColumnDataSource\"},{\"attributes\":{\"fill_alpha\":{\"value\":0.1},\"fill_color\":{\"value\":\"#30a2da\"},\"hatch_alpha\":{\"value\":0.1},\"hatch_color\":{\"value\":\"#30a2da\"},\"line_alpha\":{\"value\":0.1},\"top\":{\"field\":\"Number_of_Immigrants\"},\"width\":{\"value\":0.8},\"x\":{\"field\":\"Year\"}},\"id\":\"6697\",\"type\":\"VBar\"},{\"attributes\":{},\"id\":\"6694\",\"type\":\"Selection\"},{\"attributes\":{\"axis\":{\"id\":\"6673\"},\"coordinates\":null,\"grid_line_color\":null,\"group\":null,\"ticker\":null},\"id\":\"6675\",\"type\":\"Grid\"},{\"attributes\":{\"axis_label\":\"Year\",\"coordinates\":null,\"formatter\":{\"id\":\"6703\"},\"group\":null,\"major_label_orientation\":1.5707963267948966,\"major_label_policy\":{\"id\":\"6704\"},\"ticker\":{\"id\":\"6674\"}},\"id\":\"6673\",\"type\":\"CategoricalAxis\"},{\"attributes\":{},\"id\":\"6671\",\"type\":\"LinearScale\"}],\"root_ids\":[\"6659\"]},\"title\":\"Bokeh Application\",\"version\":\"2.4.3\"}};\n",
       "    var render_items = [{\"docid\":\"466fded3-9753-47d0-b7d0-a51bef7f44ac\",\"root_ids\":[\"6659\"],\"roots\":{\"6659\":\"4cc549aa-f138-4e50-835f-39088f71f3ba\"}}];\n",
       "    root.Bokeh.embed.embed_items_notebook(docs_json, render_items);\n",
       "    for (const render_item of render_items) {\n",
       "      for (const root_id of render_item.root_ids) {\n",
       "\tconst id_el = document.getElementById(root_id)\n",
       "\tif (id_el.children.length && (id_el.children[0].className === 'bk-root')) {\n",
       "\t  const root_el = id_el.children[0]\n",
       "\t  root_el.id = root_el.id + '-rendered'\n",
       "\t}\n",
       "      }\n",
       "    }\n",
       "  }\n",
       "  if (root.Bokeh !== undefined && root.Bokeh.Panel !== undefined) {\n",
       "    embed_document(root);\n",
       "  } else {\n",
       "    var attempts = 0;\n",
       "    var timer = setInterval(function(root) {\n",
       "      if (root.Bokeh !== undefined && root.Bokeh.Panel !== undefined) {\n",
       "        clearInterval(timer);\n",
       "        embed_document(root);\n",
       "      } else if (document.readyState == \"complete\") {\n",
       "        attempts++;\n",
       "        if (attempts > 200) {\n",
       "          clearInterval(timer);\n",
       "          console.log(\"Bokeh: ERROR: Unable to run BokehJS code because BokehJS library is missing\");\n",
       "        }\n",
       "      }\n",
       "    }, 25, root)\n",
       "  }\n",
       "})(window);</script>"
      ],
      "text/plain": [
       ":Bars   [Year]   (Number of Immigrants)"
      ]
     },
     "execution_count": 71,
     "metadata": {
      "application/vnd.holoviews_exec.v0+json": {
       "id": "6659"
      }
     },
     "output_type": "execute_result"
    }
   ],
   "source": [
    "# Creating a bar chart for the number of immigrants moving to canada per year\n",
    "\n",
    "# Reading the files and creating a DataFrame\n",
    "immigration_file = \"./immigration_data.csv\"\n",
    "immigration_df = pd.read_csv(immigration_file)\n",
    "\n",
    "# Creates a new column in the CSV file for year\n",
    "immigration_df[\"Date\"] = pd.to_datetime(immigration_df[\"Date\"])\n",
    "immigration_df[\"Year\"] = immigration_df[\"Date\"].dt.year\n",
    "\n",
    "# Grouping yearly immigration data\n",
    "yearly_immigration_df = immigration_df.groupby(\"Year\").mean()\n",
    "\n",
    "# Divides the data by 1000\n",
    "yearly_immigration_df[\"Number of Immigrants\"] = yearly_immigration_df[\"Number of Immigrants\"].div(1000).round(2)\n",
    "\n",
    "# Plots the data on a bar chart\n",
    "yearly_immigration_df.hvplot.bar(x='Year', y='Number of Immigrants', rot=90, width=1200, height = 500, title=\"Amount of Immigrants Per Year In Canada From 2000-2022 In Thousands\")"
   ]
  }
 ],
 "metadata": {
  "kernelspec": {
   "display_name": "base",
   "language": "python",
   "name": "python3"
  },
  "language_info": {
   "codemirror_mode": {
    "name": "ipython",
    "version": 3
   },
   "file_extension": ".py",
   "mimetype": "text/x-python",
   "name": "python",
   "nbconvert_exporter": "python",
   "pygments_lexer": "ipython3",
   "version": "3.9.13"
  },
  "orig_nbformat": 4,
  "vscode": {
   "interpreter": {
    "hash": "a4fddbfe8d809e2d3e9162ef69ab0c6689347e519fade92586b6599260d81fd2"
   }
  }
 },
 "nbformat": 4,
 "nbformat_minor": 2
}
