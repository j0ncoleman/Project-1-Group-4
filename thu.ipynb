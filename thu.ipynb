{
 "cells": [
  {
   "cell_type": "code",
   "execution_count": 5,
   "id": "4d7a3872-8888-4c97-bb67-6dc7ef4066b6",
   "metadata": {},
   "outputs": [],
   "source": [
    "import pandas as pd\n",
    "import hvplot.pandas\n",
    "from pathlib import Path"
   ]
  },
  {
   "cell_type": "code",
   "execution_count": 343,
   "id": "f6e3c145-3153-4e26-94c3-15f24422171f",
   "metadata": {},
   "outputs": [
    {
     "data": {
      "text/html": [
       "<div>\n",
       "<style scoped>\n",
       "    .dataframe tbody tr th:only-of-type {\n",
       "        vertical-align: middle;\n",
       "    }\n",
       "\n",
       "    .dataframe tbody tr th {\n",
       "        vertical-align: top;\n",
       "    }\n",
       "\n",
       "    .dataframe thead th {\n",
       "        text-align: right;\n",
       "    }\n",
       "</style>\n",
       "<table border=\"1\" class=\"dataframe\">\n",
       "  <thead>\n",
       "    <tr style=\"text-align: right;\">\n",
       "      <th></th>\n",
       "      <th>Vacancy Rate (%)</th>\n",
       "      <th>Availability Rate (%)</th>\n",
       "      <th>Average Rent ($)</th>\n",
       "      <th>Median Rent ($)</th>\n",
       "      <th>% Change</th>\n",
       "      <th>Units</th>\n",
       "    </tr>\n",
       "    <tr>\n",
       "      <th>Year</th>\n",
       "      <th></th>\n",
       "      <th></th>\n",
       "      <th></th>\n",
       "      <th></th>\n",
       "      <th></th>\n",
       "      <th></th>\n",
       "    </tr>\n",
       "  </thead>\n",
       "  <tbody>\n",
       "    <tr>\n",
       "      <th>2011 October</th>\n",
       "      <td>2.5</td>\n",
       "      <td>3.4</td>\n",
       "      <td>826</td>\n",
       "      <td>775</td>\n",
       "      <td>2.3</td>\n",
       "      <td>1,838,977</td>\n",
       "    </tr>\n",
       "    <tr>\n",
       "      <th>2012 October</th>\n",
       "      <td>2.8</td>\n",
       "      <td>3.7</td>\n",
       "      <td>844</td>\n",
       "      <td>800</td>\n",
       "      <td>2.1</td>\n",
       "      <td>1,853,137</td>\n",
       "    </tr>\n",
       "    <tr>\n",
       "      <th>2013 October</th>\n",
       "      <td>2.9</td>\n",
       "      <td>3.9</td>\n",
       "      <td>862</td>\n",
       "      <td>800</td>\n",
       "      <td>2.5</td>\n",
       "      <td>1,916,660</td>\n",
       "    </tr>\n",
       "    <tr>\n",
       "      <th>2014 October</th>\n",
       "      <td>3.0</td>\n",
       "      <td>3.9</td>\n",
       "      <td>883</td>\n",
       "      <td>825</td>\n",
       "      <td>2.4</td>\n",
       "      <td>1,961,877</td>\n",
       "    </tr>\n",
       "    <tr>\n",
       "      <th>2015 October</th>\n",
       "      <td>3.5</td>\n",
       "      <td>4.5</td>\n",
       "      <td>907</td>\n",
       "      <td>850</td>\n",
       "      <td>2.3</td>\n",
       "      <td>1,996,883</td>\n",
       "    </tr>\n",
       "  </tbody>\n",
       "</table>\n",
       "</div>"
      ],
      "text/plain": [
       "              Vacancy Rate (%) Availability Rate (%) Average Rent ($)  \\\n",
       "Year                                                                    \n",
       "2011 October               2.5                   3.4              826   \n",
       "2012 October               2.8                   3.7              844   \n",
       "2013 October               2.9                   3.9              862   \n",
       "2014 October               3.0                   3.9              883   \n",
       "2015 October               3.5                   4.5              907   \n",
       "\n",
       "             Median Rent ($)  % Change      Units  \n",
       "Year                                               \n",
       "2011 October             775       2.3  1,838,977  \n",
       "2012 October             800       2.1  1,853,137  \n",
       "2013 October             800       2.5  1,916,660  \n",
       "2014 October             825       2.4  1,961,877  \n",
       "2015 October             850       2.3  1,996,883  "
      ]
     },
     "metadata": {},
     "output_type": "display_data"
    },
    {
     "data": {
      "text/html": [
       "<div>\n",
       "<style scoped>\n",
       "    .dataframe tbody tr th:only-of-type {\n",
       "        vertical-align: middle;\n",
       "    }\n",
       "\n",
       "    .dataframe tbody tr th {\n",
       "        vertical-align: top;\n",
       "    }\n",
       "\n",
       "    .dataframe thead th {\n",
       "        text-align: right;\n",
       "    }\n",
       "</style>\n",
       "<table border=\"1\" class=\"dataframe\">\n",
       "  <thead>\n",
       "    <tr style=\"text-align: right;\">\n",
       "      <th></th>\n",
       "      <th>Vacancy Rate (%)</th>\n",
       "      <th>Availability Rate (%)</th>\n",
       "      <th>Average Rent ($)</th>\n",
       "      <th>Median Rent ($)</th>\n",
       "      <th>% Change</th>\n",
       "      <th>Units</th>\n",
       "    </tr>\n",
       "    <tr>\n",
       "      <th>Year</th>\n",
       "      <th></th>\n",
       "      <th></th>\n",
       "      <th></th>\n",
       "      <th></th>\n",
       "      <th></th>\n",
       "      <th></th>\n",
       "    </tr>\n",
       "  </thead>\n",
       "  <tbody>\n",
       "    <tr>\n",
       "      <th>2017 October</th>\n",
       "      <td>3.0</td>\n",
       "      <td>3.9</td>\n",
       "      <td>956</td>\n",
       "      <td>886</td>\n",
       "      <td>2.7</td>\n",
       "      <td>2,062,419</td>\n",
       "    </tr>\n",
       "    <tr>\n",
       "      <th>2018 October</th>\n",
       "      <td>2.4</td>\n",
       "      <td>**</td>\n",
       "      <td>997</td>\n",
       "      <td>912</td>\n",
       "      <td>3.4</td>\n",
       "      <td>2,100,561</td>\n",
       "    </tr>\n",
       "    <tr>\n",
       "      <th>2019 October</th>\n",
       "      <td>2.3</td>\n",
       "      <td>**</td>\n",
       "      <td>1,049</td>\n",
       "      <td>959</td>\n",
       "      <td>4.1</td>\n",
       "      <td>2,126,060</td>\n",
       "    </tr>\n",
       "    <tr>\n",
       "      <th>2020 October</th>\n",
       "      <td>3.1</td>\n",
       "      <td>**</td>\n",
       "      <td>1,097</td>\n",
       "      <td>1,000</td>\n",
       "      <td>3.7</td>\n",
       "      <td>2,174,373</td>\n",
       "    </tr>\n",
       "    <tr>\n",
       "      <th>2021 October</th>\n",
       "      <td>3.1</td>\n",
       "      <td>**</td>\n",
       "      <td>1,134</td>\n",
       "      <td>1,047</td>\n",
       "      <td>3.0</td>\n",
       "      <td>2,215,712</td>\n",
       "    </tr>\n",
       "  </tbody>\n",
       "</table>\n",
       "</div>"
      ],
      "text/plain": [
       "              Vacancy Rate (%) Availability Rate (%) Average Rent ($)  \\\n",
       "Year                                                                    \n",
       "2017 October               3.0                   3.9              956   \n",
       "2018 October               2.4                    **              997   \n",
       "2019 October               2.3                    **            1,049   \n",
       "2020 October               3.1                    **            1,097   \n",
       "2021 October               3.1                    **            1,134   \n",
       "\n",
       "             Median Rent ($)  % Change      Units  \n",
       "Year                                               \n",
       "2017 October             886       2.7  2,062,419  \n",
       "2018 October             912       3.4  2,100,561  \n",
       "2019 October             959       4.1  2,126,060  \n",
       "2020 October           1,000       3.7  2,174,373  \n",
       "2021 October           1,047       3.0  2,215,712  "
      ]
     },
     "metadata": {},
     "output_type": "display_data"
    }
   ],
   "source": [
    "rental_price = pd.read_csv(\n",
    "    Path(\"/Users/thunguyen/Documents/Fintech/rental/rent.csv\"),\n",
    "    index_col=\"Year\")\n",
    "display(rental_price.head())\n",
    "display(rental_price.tail())"
   ]
  },
  {
   "cell_type": "code",
   "execution_count": 344,
   "id": "8a2d32f2-d880-4851-a582-81c257755896",
   "metadata": {},
   "outputs": [],
   "source": [
    "rental_price = rental_price[[\"Average Rent ($)\"]]"
   ]
  },
  {
   "cell_type": "code",
   "execution_count": 345,
   "id": "0bfa1d69-cc11-4c1c-ae10-bed50a8a29d1",
   "metadata": {
    "tags": []
   },
   "outputs": [
    {
     "data": {},
     "metadata": {},
     "output_type": "display_data"
    },
    {
     "data": {
      "application/vnd.holoviews_exec.v0+json": "",
      "text/html": [
       "<div id='7835'>\n",
       "  <div class=\"bk-root\" id=\"d95ec8eb-9558-4c58-89b4-0f201cc04e16\" data-root-id=\"7835\"></div>\n",
       "</div>\n",
       "<script type=\"application/javascript\">(function(root) {\n",
       "  function embed_document(root) {\n",
       "    var docs_json = {\"ab9a1535-f950-4bf0-8c80-0894a4cce591\":{\"defs\":[{\"extends\":null,\"module\":null,\"name\":\"ReactiveHTML1\",\"overrides\":[],\"properties\":[]},{\"extends\":null,\"module\":null,\"name\":\"FlexBox1\",\"overrides\":[],\"properties\":[{\"default\":\"flex-start\",\"kind\":null,\"name\":\"align_content\"},{\"default\":\"flex-start\",\"kind\":null,\"name\":\"align_items\"},{\"default\":\"row\",\"kind\":null,\"name\":\"flex_direction\"},{\"default\":\"wrap\",\"kind\":null,\"name\":\"flex_wrap\"},{\"default\":\"flex-start\",\"kind\":null,\"name\":\"justify_content\"}]},{\"extends\":null,\"module\":null,\"name\":\"GridStack1\",\"overrides\":[],\"properties\":[{\"default\":\"warn\",\"kind\":null,\"name\":\"mode\"},{\"default\":null,\"kind\":null,\"name\":\"ncols\"},{\"default\":null,\"kind\":null,\"name\":\"nrows\"},{\"default\":true,\"kind\":null,\"name\":\"allow_resize\"},{\"default\":true,\"kind\":null,\"name\":\"allow_drag\"},{\"default\":[],\"kind\":null,\"name\":\"state\"}]},{\"extends\":null,\"module\":null,\"name\":\"click1\",\"overrides\":[],\"properties\":[{\"default\":\"\",\"kind\":null,\"name\":\"terminal_output\"},{\"default\":\"\",\"kind\":null,\"name\":\"debug_name\"},{\"default\":0,\"kind\":null,\"name\":\"clears\"}]},{\"extends\":null,\"module\":null,\"name\":\"NotificationAreaBase1\",\"overrides\":[],\"properties\":[{\"default\":\"bottom-right\",\"kind\":null,\"name\":\"position\"},{\"default\":0,\"kind\":null,\"name\":\"_clear\"}]},{\"extends\":null,\"module\":null,\"name\":\"NotificationArea1\",\"overrides\":[],\"properties\":[{\"default\":[],\"kind\":null,\"name\":\"notifications\"},{\"default\":\"bottom-right\",\"kind\":null,\"name\":\"position\"},{\"default\":0,\"kind\":null,\"name\":\"_clear\"},{\"default\":[{\"background\":\"#ffc107\",\"icon\":{\"className\":\"fas fa-exclamation-triangle\",\"color\":\"white\",\"tagName\":\"i\"},\"type\":\"warning\"},{\"background\":\"#007bff\",\"icon\":{\"className\":\"fas fa-info-circle\",\"color\":\"white\",\"tagName\":\"i\"},\"type\":\"info\"}],\"kind\":null,\"name\":\"types\"}]},{\"extends\":null,\"module\":null,\"name\":\"Notification\",\"overrides\":[],\"properties\":[{\"default\":null,\"kind\":null,\"name\":\"background\"},{\"default\":3000,\"kind\":null,\"name\":\"duration\"},{\"default\":null,\"kind\":null,\"name\":\"icon\"},{\"default\":\"\",\"kind\":null,\"name\":\"message\"},{\"default\":null,\"kind\":null,\"name\":\"notification_type\"},{\"default\":false,\"kind\":null,\"name\":\"_destroyed\"}]},{\"extends\":null,\"module\":null,\"name\":\"TemplateActions1\",\"overrides\":[],\"properties\":[{\"default\":0,\"kind\":null,\"name\":\"open_modal\"},{\"default\":0,\"kind\":null,\"name\":\"close_modal\"}]},{\"extends\":null,\"module\":null,\"name\":\"MaterialTemplateActions1\",\"overrides\":[],\"properties\":[{\"default\":0,\"kind\":null,\"name\":\"open_modal\"},{\"default\":0,\"kind\":null,\"name\":\"close_modal\"}]}],\"roots\":{\"references\":[{\"attributes\":{\"line_color\":\"red\",\"line_width\":2,\"x\":{\"field\":\"Year\"},\"y\":{\"field\":\"Average Rent ($)\"}},\"id\":\"7876\",\"type\":\"Line\"},{\"attributes\":{},\"id\":\"7881\",\"type\":\"CategoricalTickFormatter\"},{\"attributes\":{\"margin\":[5,5,5,5],\"name\":\"HSpacer08449\",\"sizing_mode\":\"stretch_width\"},\"id\":\"7836\",\"type\":\"Spacer\"},{\"attributes\":{\"coordinates\":null,\"group\":null,\"text\":\"Rental price index in Canada from 2011 to 2021\",\"text_color\":\"black\",\"text_font_size\":\"12pt\"},\"id\":\"7841\",\"type\":\"Title\"},{\"attributes\":{},\"id\":\"7878\",\"type\":\"CategoricalTickFormatter\"},{\"attributes\":{\"line_color\":\"red\",\"line_width\":2,\"x\":{\"field\":\"Year\"},\"y\":{\"field\":\"Average Rent ($)\"}},\"id\":\"7871\",\"type\":\"Line\"},{\"attributes\":{},\"id\":\"7847\",\"type\":\"CategoricalScale\"},{\"attributes\":{\"margin\":[5,5,5,5],\"name\":\"HSpacer08450\",\"sizing_mode\":\"stretch_width\"},\"id\":\"7893\",\"type\":\"Spacer\"},{\"attributes\":{},\"id\":\"7879\",\"type\":\"AllLabels\"},{\"attributes\":{\"source\":{\"id\":\"7868\"}},\"id\":\"7875\",\"type\":\"CDSView\"},{\"attributes\":{},\"id\":\"7845\",\"type\":\"CategoricalScale\"},{\"attributes\":{},\"id\":\"7890\",\"type\":\"UnionRenderers\"},{\"attributes\":{\"axis_label\":\"Year\",\"coordinates\":null,\"formatter\":{\"id\":\"7878\"},\"group\":null,\"major_label_orientation\":0.7853981633974483,\"major_label_policy\":{\"id\":\"7879\"},\"ticker\":{\"id\":\"7850\"}},\"id\":\"7849\",\"type\":\"CategoricalAxis\"},{\"attributes\":{\"axis_label\":\"Average Rent ($)\",\"coordinates\":null,\"formatter\":{\"id\":\"7881\"},\"group\":null,\"major_label_policy\":{\"id\":\"7882\"},\"ticker\":{\"id\":\"7853\"}},\"id\":\"7852\",\"type\":\"CategoricalAxis\"},{\"attributes\":{},\"id\":\"7857\",\"type\":\"WheelZoomTool\"},{\"attributes\":{},\"id\":\"7882\",\"type\":\"AllLabels\"},{\"attributes\":{\"data\":{\"Average Rent ($)\":[\"826\",\"844\",\"862\",\"883\",\"907\",\"926\",\"956\",\"997\",\"1,049\",\"1,097\",\"1,134\"],\"Average_Rent_left_parenthesis_right_parenthesis\":[\"826\",\"844\",\"862\",\"883\",\"907\",\"926\",\"956\",\"997\",\"1,049\",\"1,097\",\"1,134\"],\"Year\":[\"2011 October\",\"2012 October\",\"2013 October\",\"2014 October\",\"2015 October\",\"2016 October\",\"2017 October\",\"2018 October\",\"2019 October\",\"2020 October\",\"2021 October\"]},\"selected\":{\"id\":\"7869\"},\"selection_policy\":{\"id\":\"7890\"}},\"id\":\"7868\",\"type\":\"ColumnDataSource\"},{\"attributes\":{\"tools\":[{\"id\":\"7839\"},{\"id\":\"7855\"},{\"id\":\"7856\"},{\"id\":\"7857\"},{\"id\":\"7858\"},{\"id\":\"7859\"}]},\"id\":\"7861\",\"type\":\"Toolbar\"},{\"attributes\":{},\"id\":\"7853\",\"type\":\"CategoricalTicker\"},{\"attributes\":{\"axis\":{\"id\":\"7849\"},\"coordinates\":null,\"grid_line_color\":null,\"group\":null,\"ticker\":null},\"id\":\"7851\",\"type\":\"Grid\"},{\"attributes\":{\"below\":[{\"id\":\"7849\"}],\"center\":[{\"id\":\"7851\"},{\"id\":\"7854\"}],\"height\":300,\"left\":[{\"id\":\"7852\"}],\"margin\":[5,5,5,5],\"min_border_bottom\":10,\"min_border_left\":10,\"min_border_right\":10,\"min_border_top\":10,\"renderers\":[{\"id\":\"7874\"}],\"sizing_mode\":\"fixed\",\"title\":{\"id\":\"7841\"},\"toolbar\":{\"id\":\"7861\"},\"width\":700,\"x_range\":{\"id\":\"7837\"},\"x_scale\":{\"id\":\"7845\"},\"y_range\":{\"id\":\"7838\"},\"y_scale\":{\"id\":\"7847\"}},\"id\":\"7840\",\"subtype\":\"Figure\",\"type\":\"Plot\"},{\"attributes\":{\"callback\":null,\"renderers\":[{\"id\":\"7874\"}],\"tags\":[\"hv_created\"],\"tooltips\":[[\"Year\",\"@{Year}\"],[\"Average Rent ($)\",\"@{Average_Rent_left_parenthesis_right_parenthesis}\"]]},\"id\":\"7839\",\"type\":\"HoverTool\"},{\"attributes\":{},\"id\":\"7856\",\"type\":\"PanTool\"},{\"attributes\":{\"axis\":{\"id\":\"7852\"},\"coordinates\":null,\"dimension\":1,\"grid_line_color\":null,\"group\":null,\"ticker\":null},\"id\":\"7854\",\"type\":\"Grid\"},{\"attributes\":{},\"id\":\"7850\",\"type\":\"CategoricalTicker\"},{\"attributes\":{\"line_alpha\":0.1,\"line_color\":\"red\",\"line_width\":2,\"x\":{\"field\":\"Year\"},\"y\":{\"field\":\"Average Rent ($)\"}},\"id\":\"7872\",\"type\":\"Line\"},{\"attributes\":{\"children\":[{\"id\":\"7836\"},{\"id\":\"7840\"},{\"id\":\"7893\"}],\"margin\":[0,0,0,0],\"name\":\"Row08445\",\"tags\":[\"embedded\"]},\"id\":\"7835\",\"type\":\"Row\"},{\"attributes\":{},\"id\":\"7869\",\"type\":\"Selection\"},{\"attributes\":{\"factors\":[\"826\",\"844\",\"862\",\"883\",\"907\",\"926\",\"956\",\"997\",\"1,049\",\"1,097\",\"1,134\"],\"tags\":[[[\"Average Rent ($)\",\"Average Rent ($)\",null]]]},\"id\":\"7838\",\"type\":\"FactorRange\"},{\"attributes\":{\"line_alpha\":0.2,\"line_color\":\"red\",\"line_width\":2,\"x\":{\"field\":\"Year\"},\"y\":{\"field\":\"Average Rent ($)\"}},\"id\":\"7873\",\"type\":\"Line\"},{\"attributes\":{},\"id\":\"7855\",\"type\":\"SaveTool\"},{\"attributes\":{\"overlay\":{\"id\":\"7860\"}},\"id\":\"7858\",\"type\":\"BoxZoomTool\"},{\"attributes\":{},\"id\":\"7859\",\"type\":\"ResetTool\"},{\"attributes\":{\"factors\":[\"2011 October\",\"2012 October\",\"2013 October\",\"2014 October\",\"2015 October\",\"2016 October\",\"2017 October\",\"2018 October\",\"2019 October\",\"2020 October\",\"2021 October\"],\"tags\":[[[\"Year\",\"Year\",null]]]},\"id\":\"7837\",\"type\":\"FactorRange\"},{\"attributes\":{\"bottom_units\":\"screen\",\"coordinates\":null,\"fill_alpha\":0.5,\"fill_color\":\"lightgrey\",\"group\":null,\"left_units\":\"screen\",\"level\":\"overlay\",\"line_alpha\":1.0,\"line_color\":\"black\",\"line_dash\":[4,4],\"line_width\":2,\"right_units\":\"screen\",\"syncable\":false,\"top_units\":\"screen\"},\"id\":\"7860\",\"type\":\"BoxAnnotation\"},{\"attributes\":{\"coordinates\":null,\"data_source\":{\"id\":\"7868\"},\"glyph\":{\"id\":\"7871\"},\"group\":null,\"hover_glyph\":null,\"muted_glyph\":{\"id\":\"7873\"},\"nonselection_glyph\":{\"id\":\"7872\"},\"selection_glyph\":{\"id\":\"7876\"},\"view\":{\"id\":\"7875\"}},\"id\":\"7874\",\"type\":\"GlyphRenderer\"}],\"root_ids\":[\"7835\"]},\"title\":\"Bokeh Application\",\"version\":\"2.4.3\"}};\n",
       "    var render_items = [{\"docid\":\"ab9a1535-f950-4bf0-8c80-0894a4cce591\",\"root_ids\":[\"7835\"],\"roots\":{\"7835\":\"d95ec8eb-9558-4c58-89b4-0f201cc04e16\"}}];\n",
       "    root.Bokeh.embed.embed_items_notebook(docs_json, render_items);\n",
       "    for (const render_item of render_items) {\n",
       "      for (const root_id of render_item.root_ids) {\n",
       "\tconst id_el = document.getElementById(root_id)\n",
       "\tif (id_el.children.length && (id_el.children[0].className === 'bk-root')) {\n",
       "\t  const root_el = id_el.children[0]\n",
       "\t  root_el.id = root_el.id + '-rendered'\n",
       "\t}\n",
       "      }\n",
       "    }\n",
       "  }\n",
       "  if (root.Bokeh !== undefined && root.Bokeh.Panel !== undefined) {\n",
       "    embed_document(root);\n",
       "  } else {\n",
       "    var attempts = 0;\n",
       "    var timer = setInterval(function(root) {\n",
       "      if (root.Bokeh !== undefined && root.Bokeh.Panel !== undefined) {\n",
       "        clearInterval(timer);\n",
       "        embed_document(root);\n",
       "      } else if (document.readyState == \"complete\") {\n",
       "        attempts++;\n",
       "        if (attempts > 200) {\n",
       "          clearInterval(timer);\n",
       "          console.log(\"Bokeh: ERROR: Unable to run BokehJS code because BokehJS library is missing\");\n",
       "        }\n",
       "      }\n",
       "    }, 25, root)\n",
       "  }\n",
       "})(window);</script>"
      ],
      "text/plain": [
       ":Curve   [Year]   (Average Rent ($))"
      ]
     },
     "execution_count": 345,
     "metadata": {
      "application/vnd.holoviews_exec.v0+json": {
       "id": "7835"
      }
     },
     "output_type": "execute_result"
    }
   ],
   "source": [
    "rental_price.hvplot(\n",
    "    xlabel='Year',\n",
    "    ylabel='Average Rent ($)', \n",
    "    rot=45,\n",
    "    label='Rental price index in Canada from 2011 to 2021',\n",
    "    line_color=\"red\"\n",
    ")"
   ]
  },
  {
   "cell_type": "code",
   "execution_count": 324,
   "id": "a531b817-db43-4bb8-834c-68ae3ea0795e",
   "metadata": {},
   "outputs": [],
   "source": [
    "import numpy as np\n",
    "import pandas as pd\n",
    "import hvplot.pandas\n",
    "import matplotlib.pyplot as plt\n",
    "from pathlib import Path"
   ]
  },
  {
   "cell_type": "code",
   "execution_count": 340,
   "id": "f619aa98-2158-4997-8aa0-28652899a0e9",
   "metadata": {},
   "outputs": [],
   "source": [
    "housing_df = pd.read_csv(\n",
    "    Path(\"/Users/thunguyen/Documents/Fintech/rental/housing_data.csv\"))\n",
    "housing_df = housing_df[[\"Date\",\"Average Price\"]]\n",
    "\n",
    "housing_df[\"Date\"] = pd.to_datetime(housing_df[\"Date\"])\n",
    "\n",
    "housing_df[\"Year\"] = housing_df[\"Date\"].dt.year\n",
    "\n",
    "yearly_housing_data = housing_df.groupby(\"Year\").mean()\n",
    "\n",
    "yearly_housing_data[\"Average Price\"] = yearly_housing_data[\"Average Price\"].div(10000).round(2)\n"
   ]
  },
  {
   "cell_type": "code",
   "execution_count": 339,
   "id": "44e1d9d7-3c19-4764-b534-379feb9fb9ad",
   "metadata": {},
   "outputs": [],
   "source": [
    "population_df = pd.read_csv(\n",
    "    Path(\"/Users/thunguyen/Documents/Fintech/rental/population_growth.csv\"), index_col= \"Year\")\n",
    "population_df = population_df[[\"Population\"]]\n",
    "population_df[\"Population\"] = population_df[\"Population\"].div(1000000).round(2)\n"
   ]
  },
  {
   "cell_type": "code",
   "execution_count": 354,
   "id": "eb13a976-dc66-4076-ba84-a92542054452",
   "metadata": {},
   "outputs": [
    {
     "data": {},
     "metadata": {},
     "output_type": "display_data"
    },
    {
     "data": {
      "application/vnd.holoviews_exec.v0+json": "",
      "text/html": [
       "<div id='8263'>\n",
       "  <div class=\"bk-root\" id=\"dad76fd6-1efb-452f-ac22-30d6e3dfc40c\" data-root-id=\"8263\"></div>\n",
       "</div>\n",
       "<script type=\"application/javascript\">(function(root) {\n",
       "  function embed_document(root) {\n",
       "    var docs_json = {\"b3535750-de87-43d5-9e91-2f4b1e099b27\":{\"defs\":[{\"extends\":null,\"module\":null,\"name\":\"ReactiveHTML1\",\"overrides\":[],\"properties\":[]},{\"extends\":null,\"module\":null,\"name\":\"FlexBox1\",\"overrides\":[],\"properties\":[{\"default\":\"flex-start\",\"kind\":null,\"name\":\"align_content\"},{\"default\":\"flex-start\",\"kind\":null,\"name\":\"align_items\"},{\"default\":\"row\",\"kind\":null,\"name\":\"flex_direction\"},{\"default\":\"wrap\",\"kind\":null,\"name\":\"flex_wrap\"},{\"default\":\"flex-start\",\"kind\":null,\"name\":\"justify_content\"}]},{\"extends\":null,\"module\":null,\"name\":\"GridStack1\",\"overrides\":[],\"properties\":[{\"default\":\"warn\",\"kind\":null,\"name\":\"mode\"},{\"default\":null,\"kind\":null,\"name\":\"ncols\"},{\"default\":null,\"kind\":null,\"name\":\"nrows\"},{\"default\":true,\"kind\":null,\"name\":\"allow_resize\"},{\"default\":true,\"kind\":null,\"name\":\"allow_drag\"},{\"default\":[],\"kind\":null,\"name\":\"state\"}]},{\"extends\":null,\"module\":null,\"name\":\"click1\",\"overrides\":[],\"properties\":[{\"default\":\"\",\"kind\":null,\"name\":\"terminal_output\"},{\"default\":\"\",\"kind\":null,\"name\":\"debug_name\"},{\"default\":0,\"kind\":null,\"name\":\"clears\"}]},{\"extends\":null,\"module\":null,\"name\":\"NotificationAreaBase1\",\"overrides\":[],\"properties\":[{\"default\":\"bottom-right\",\"kind\":null,\"name\":\"position\"},{\"default\":0,\"kind\":null,\"name\":\"_clear\"}]},{\"extends\":null,\"module\":null,\"name\":\"NotificationArea1\",\"overrides\":[],\"properties\":[{\"default\":[],\"kind\":null,\"name\":\"notifications\"},{\"default\":\"bottom-right\",\"kind\":null,\"name\":\"position\"},{\"default\":0,\"kind\":null,\"name\":\"_clear\"},{\"default\":[{\"background\":\"#ffc107\",\"icon\":{\"className\":\"fas fa-exclamation-triangle\",\"color\":\"white\",\"tagName\":\"i\"},\"type\":\"warning\"},{\"background\":\"#007bff\",\"icon\":{\"className\":\"fas fa-info-circle\",\"color\":\"white\",\"tagName\":\"i\"},\"type\":\"info\"}],\"kind\":null,\"name\":\"types\"}]},{\"extends\":null,\"module\":null,\"name\":\"Notification\",\"overrides\":[],\"properties\":[{\"default\":null,\"kind\":null,\"name\":\"background\"},{\"default\":3000,\"kind\":null,\"name\":\"duration\"},{\"default\":null,\"kind\":null,\"name\":\"icon\"},{\"default\":\"\",\"kind\":null,\"name\":\"message\"},{\"default\":null,\"kind\":null,\"name\":\"notification_type\"},{\"default\":false,\"kind\":null,\"name\":\"_destroyed\"}]},{\"extends\":null,\"module\":null,\"name\":\"TemplateActions1\",\"overrides\":[],\"properties\":[{\"default\":0,\"kind\":null,\"name\":\"open_modal\"},{\"default\":0,\"kind\":null,\"name\":\"close_modal\"}]},{\"extends\":null,\"module\":null,\"name\":\"MaterialTemplateActions1\",\"overrides\":[],\"properties\":[{\"default\":0,\"kind\":null,\"name\":\"open_modal\"},{\"default\":0,\"kind\":null,\"name\":\"close_modal\"}]}],\"roots\":{\"references\":[{\"attributes\":{\"fill_alpha\":{\"value\":0.2},\"fill_color\":{\"value\":\"#30a2da\"},\"hatch_alpha\":{\"value\":0.2},\"hatch_color\":{\"value\":\"#30a2da\"},\"line_alpha\":{\"value\":0.2},\"line_color\":{\"value\":\"#30a2da\"},\"size\":{\"value\":5.477225575051661},\"x\":{\"field\":\"Year\"},\"y\":{\"field\":\"Population/Average Price\"}},\"id\":\"8310\",\"type\":\"Scatter\"},{\"attributes\":{\"source\":{\"id\":\"8305\"}},\"id\":\"8312\",\"type\":\"CDSView\"},{\"attributes\":{},\"id\":\"8306\",\"type\":\"Selection\"},{\"attributes\":{\"fill_alpha\":{\"value\":0.1},\"fill_color\":{\"value\":\"#fc4f30\"},\"hatch_alpha\":{\"value\":0.1},\"hatch_color\":{\"value\":\"#fc4f30\"},\"line_alpha\":{\"value\":0.1},\"line_color\":{\"value\":\"#fc4f30\"},\"size\":{\"value\":5.477225575051661},\"x\":{\"field\":\"Year\"},\"y\":{\"field\":\"Population/Average Price\"}},\"id\":\"8330\",\"type\":\"Scatter\"},{\"attributes\":{\"fill_alpha\":{\"value\":0.1},\"fill_color\":{\"value\":\"#30a2da\"},\"hatch_alpha\":{\"value\":0.1},\"hatch_color\":{\"value\":\"#30a2da\"},\"line_alpha\":{\"value\":0.1},\"line_color\":{\"value\":\"#30a2da\"},\"size\":{\"value\":5.477225575051661},\"x\":{\"field\":\"Year\"},\"y\":{\"field\":\"Population/Average Price\"}},\"id\":\"8309\",\"type\":\"Scatter\"},{\"attributes\":{\"coordinates\":null,\"data_source\":{\"id\":\"8305\"},\"glyph\":{\"id\":\"8308\"},\"group\":null,\"hover_glyph\":null,\"muted_glyph\":{\"id\":\"8310\"},\"nonselection_glyph\":{\"id\":\"8309\"},\"selection_glyph\":{\"id\":\"8325\"},\"view\":{\"id\":\"8312\"}},\"id\":\"8311\",\"type\":\"GlyphRenderer\"},{\"attributes\":{\"click_policy\":\"mute\",\"coordinates\":null,\"group\":null,\"items\":[{\"id\":\"8324\"},{\"id\":\"8346\"}],\"location\":[0,0],\"title\":\"Variable\"},\"id\":\"8323\",\"type\":\"Legend\"},{\"attributes\":{\"callback\":null,\"renderers\":[{\"id\":\"8311\"},{\"id\":\"8332\"}],\"tags\":[\"hv_created\"],\"tooltips\":[[\"Variable\",\"@{Variable}\"],[\"Year\",\"@{Year}\"],[\"Population/Average Price\",\"@{Population_over_Average_Price}\"]]},\"id\":\"8267\",\"type\":\"HoverTool\"},{\"attributes\":{\"margin\":[5,5,5,5],\"name\":\"HSpacer08917\",\"sizing_mode\":\"stretch_width\"},\"id\":\"8264\",\"type\":\"Spacer\"},{\"attributes\":{\"label\":{\"value\":\"Population\"},\"renderers\":[{\"id\":\"8311\"}]},\"id\":\"8324\",\"type\":\"LegendItem\"},{\"attributes\":{\"angle\":{\"value\":0.0},\"fill_alpha\":{\"value\":1.0},\"fill_color\":{\"value\":\"#30a2da\"},\"hatch_alpha\":{\"value\":1.0},\"hatch_color\":{\"value\":\"#30a2da\"},\"hatch_scale\":{\"value\":12.0},\"hatch_weight\":{\"value\":1.0},\"line_alpha\":{\"value\":1.0},\"line_cap\":{\"value\":\"butt\"},\"line_color\":{\"value\":\"#30a2da\"},\"line_dash\":{\"value\":[]},\"line_dash_offset\":{\"value\":0},\"line_join\":{\"value\":\"bevel\"},\"line_width\":{\"value\":1},\"marker\":{\"value\":\"circle\"},\"size\":{\"value\":5.477225575051661},\"x\":{\"field\":\"Year\"},\"y\":{\"field\":\"Population/Average Price\"}},\"id\":\"8325\",\"type\":\"Scatter\"},{\"attributes\":{},\"id\":\"8276\",\"type\":\"LinearScale\"},{\"attributes\":{},\"id\":\"8274\",\"type\":\"LinearScale\"},{\"attributes\":{\"label\":{\"value\":\"Average Price\"},\"renderers\":[{\"id\":\"8332\"}]},\"id\":\"8346\",\"type\":\"LegendItem\"},{\"attributes\":{},\"id\":\"8327\",\"type\":\"Selection\"},{\"attributes\":{\"coordinates\":null,\"group\":null,\"text\":\"Correlation of interest rates and housing prices\",\"text_color\":\"black\",\"text_font_size\":\"12pt\"},\"id\":\"8270\",\"type\":\"Title\"},{\"attributes\":{\"axis_label\":\"Year\",\"coordinates\":null,\"formatter\":{\"id\":\"8300\"},\"group\":null,\"major_label_orientation\":1.5707963267948966,\"major_label_policy\":{\"id\":\"8301\"},\"ticker\":{\"id\":\"8279\"}},\"id\":\"8278\",\"type\":\"LinearAxis\"},{\"attributes\":{\"fill_color\":{\"value\":\"#30a2da\"},\"hatch_color\":{\"value\":\"#30a2da\"},\"line_color\":{\"value\":\"#30a2da\"},\"size\":{\"value\":5.477225575051661},\"x\":{\"field\":\"Year\"},\"y\":{\"field\":\"Population/Average Price\"}},\"id\":\"8308\",\"type\":\"Scatter\"},{\"attributes\":{\"fill_color\":{\"value\":\"#fc4f30\"},\"hatch_color\":{\"value\":\"#fc4f30\"},\"line_color\":{\"value\":\"#fc4f30\"},\"size\":{\"value\":5.477225575051661},\"x\":{\"field\":\"Year\"},\"y\":{\"field\":\"Population/Average Price\"}},\"id\":\"8329\",\"type\":\"Scatter\"},{\"attributes\":{\"angle\":{\"value\":0.0},\"fill_alpha\":{\"value\":1.0},\"fill_color\":{\"value\":\"#fc4f30\"},\"hatch_alpha\":{\"value\":1.0},\"hatch_color\":{\"value\":\"#fc4f30\"},\"hatch_scale\":{\"value\":12.0},\"hatch_weight\":{\"value\":1.0},\"line_alpha\":{\"value\":1.0},\"line_cap\":{\"value\":\"butt\"},\"line_color\":{\"value\":\"#fc4f30\"},\"line_dash\":{\"value\":[]},\"line_dash_offset\":{\"value\":0},\"line_join\":{\"value\":\"bevel\"},\"line_width\":{\"value\":1},\"marker\":{\"value\":\"circle\"},\"size\":{\"value\":5.477225575051661},\"x\":{\"field\":\"Year\"},\"y\":{\"field\":\"Population/Average Price\"}},\"id\":\"8347\",\"type\":\"Scatter\"},{\"attributes\":{\"data\":{\"Population/Average Price\":{\"__ndarray__\":\"H4XrUbgeQEApXI/C9UhAQFK4HoXrcUBAAAAAAACgQEBxPQrXo9BAQAAAAAAAAEFA7FG4HoUrQUB7FK5H4VpBQArXo3A9ikFAuB6F61G4QUCamZmZmdlBQK5H4XoUDkJAZmZmZmZGQkApXI/C9YhCQM3MzMzMzEJA4XoUrkcBQ0A9CtejcB1DQNejcD0Kd0NAcT0K16OwPkCF61G4HgU/QFyPwvUoXD9ApHA9CtejP0BxPQrXo/A/QA==\",\"dtype\":\"float64\",\"order\":\"little\",\"shape\":[23]},\"Population_over_Average_Price\":{\"__ndarray__\":\"H4XrUbgeQEApXI/C9UhAQFK4HoXrcUBAAAAAAACgQEBxPQrXo9BAQAAAAAAAAEFA7FG4HoUrQUB7FK5H4VpBQArXo3A9ikFAuB6F61G4QUCamZmZmdlBQK5H4XoUDkJAZmZmZmZGQkApXI/C9YhCQM3MzMzMzEJA4XoUrkcBQ0A9CtejcB1DQNejcD0Kd0NAcT0K16OwPkCF61G4HgU/QFyPwvUoXD9ApHA9CtejP0BxPQrXo/A/QA==\",\"dtype\":\"float64\",\"order\":\"little\",\"shape\":[23]},\"Variable\":[\"Population\",\"Population\",\"Population\",\"Population\",\"Population\",\"Population\",\"Population\",\"Population\",\"Population\",\"Population\",\"Population\",\"Population\",\"Population\",\"Population\",\"Population\",\"Population\",\"Population\",\"Population\",\"Population\",\"Population\",\"Population\",\"Population\",\"Population\"],\"Year\":[2005,2006,2007,2008,2009,2010,2011,2012,2013,2014,2015,2016,2017,2018,2019,2020,2021,2022,2000,2001,2002,2003,2004]},\"selected\":{\"id\":\"8306\"},\"selection_policy\":{\"id\":\"8320\"}},\"id\":\"8305\",\"type\":\"ColumnDataSource\"},{\"attributes\":{\"fill_alpha\":{\"value\":0.2},\"fill_color\":{\"value\":\"#fc4f30\"},\"hatch_alpha\":{\"value\":0.2},\"hatch_color\":{\"value\":\"#fc4f30\"},\"line_alpha\":{\"value\":0.2},\"line_color\":{\"value\":\"#fc4f30\"},\"size\":{\"value\":5.477225575051661},\"x\":{\"field\":\"Year\"},\"y\":{\"field\":\"Population/Average Price\"}},\"id\":\"8331\",\"type\":\"Scatter\"},{\"attributes\":{},\"id\":\"8287\",\"type\":\"PanTool\"},{\"attributes\":{},\"id\":\"8303\",\"type\":\"BasicTickFormatter\"},{\"attributes\":{\"axis\":{\"id\":\"8278\"},\"coordinates\":null,\"grid_line_color\":null,\"group\":null,\"ticker\":null},\"id\":\"8281\",\"type\":\"Grid\"},{\"attributes\":{},\"id\":\"8279\",\"type\":\"BasicTicker\"},{\"attributes\":{},\"id\":\"8301\",\"type\":\"AllLabels\"},{\"attributes\":{\"axis_label\":\"Population/Average Price\",\"coordinates\":null,\"formatter\":{\"id\":\"8303\"},\"group\":null,\"major_label_policy\":{\"id\":\"8304\"},\"ticker\":{\"id\":\"8283\"}},\"id\":\"8282\",\"type\":\"LinearAxis\"},{\"attributes\":{\"axis\":{\"id\":\"8282\"},\"coordinates\":null,\"dimension\":1,\"grid_line_color\":null,\"group\":null,\"ticker\":null},\"id\":\"8285\",\"type\":\"Grid\"},{\"attributes\":{\"source\":{\"id\":\"8326\"}},\"id\":\"8333\",\"type\":\"CDSView\"},{\"attributes\":{\"margin\":[5,5,5,5],\"name\":\"HSpacer08918\",\"sizing_mode\":\"stretch_width\"},\"id\":\"8360\",\"type\":\"Spacer\"},{\"attributes\":{},\"id\":\"8283\",\"type\":\"BasicTicker\"},{\"attributes\":{},\"id\":\"8288\",\"type\":\"WheelZoomTool\"},{\"attributes\":{\"data\":{\"Population/Average Price\":{\"__ndarray__\":\"SOF6FK7HOECPwvUoXA89QHsUrkfhukBAj8L1KFxPQUDXo3A9CtdAQHE9CtejUEJA4XoUrkeBQ0DNzMzMzIxEQD0K16Nw/URAcT0K16MwRkDsUbgehStIQHsUrkfhOkxA16NwPQoXT0AfhetRuP5NQLgehetR+ExAXI/C9SgcT0AK16NwPZpTQHsUrkfh2lVAAAAAAAAA+H8AAAAAAAD4fwAAAAAAAPh/AAAAAAAA+H8AAAAAAAD4fw==\",\"dtype\":\"float64\",\"order\":\"little\",\"shape\":[23]},\"Population_over_Average_Price\":{\"__ndarray__\":\"SOF6FK7HOECPwvUoXA89QHsUrkfhukBAj8L1KFxPQUDXo3A9CtdAQHE9CtejUEJA4XoUrkeBQ0DNzMzMzIxEQD0K16Nw/URAcT0K16MwRkDsUbgehStIQHsUrkfhOkxA16NwPQoXT0AfhetRuP5NQLgehetR+ExAXI/C9SgcT0AK16NwPZpTQHsUrkfh2lVAAAAAAAAA+H8AAAAAAAD4fwAAAAAAAPh/AAAAAAAA+H8AAAAAAAD4fw==\",\"dtype\":\"float64\",\"order\":\"little\",\"shape\":[23]},\"Variable\":[\"Average Price\",\"Average Price\",\"Average Price\",\"Average Price\",\"Average Price\",\"Average Price\",\"Average Price\",\"Average Price\",\"Average Price\",\"Average Price\",\"Average Price\",\"Average Price\",\"Average Price\",\"Average Price\",\"Average Price\",\"Average Price\",\"Average Price\",\"Average Price\",\"Average Price\",\"Average Price\",\"Average Price\",\"Average Price\",\"Average Price\"],\"Year\":[2005,2006,2007,2008,2009,2010,2011,2012,2013,2014,2015,2016,2017,2018,2019,2020,2021,2022,2000,2001,2002,2003,2004]},\"selected\":{\"id\":\"8327\"},\"selection_policy\":{\"id\":\"8343\"}},\"id\":\"8326\",\"type\":\"ColumnDataSource\"},{\"attributes\":{},\"id\":\"8286\",\"type\":\"SaveTool\"},{\"attributes\":{\"tools\":[{\"id\":\"8267\"},{\"id\":\"8286\"},{\"id\":\"8287\"},{\"id\":\"8288\"},{\"id\":\"8289\"},{\"id\":\"8290\"}]},\"id\":\"8292\",\"type\":\"Toolbar\"},{\"attributes\":{\"coordinates\":null,\"data_source\":{\"id\":\"8326\"},\"glyph\":{\"id\":\"8329\"},\"group\":null,\"hover_glyph\":null,\"muted_glyph\":{\"id\":\"8331\"},\"nonselection_glyph\":{\"id\":\"8330\"},\"selection_glyph\":{\"id\":\"8347\"},\"view\":{\"id\":\"8333\"}},\"id\":\"8332\",\"type\":\"GlyphRenderer\"},{\"attributes\":{\"overlay\":{\"id\":\"8291\"}},\"id\":\"8289\",\"type\":\"BoxZoomTool\"},{\"attributes\":{},\"id\":\"8290\",\"type\":\"ResetTool\"},{\"attributes\":{\"below\":[{\"id\":\"8278\"}],\"center\":[{\"id\":\"8281\"},{\"id\":\"8285\"}],\"height\":300,\"left\":[{\"id\":\"8282\"}],\"margin\":[5,5,5,5],\"min_border_bottom\":10,\"min_border_left\":10,\"min_border_right\":10,\"min_border_top\":10,\"renderers\":[{\"id\":\"8311\"},{\"id\":\"8332\"}],\"right\":[{\"id\":\"8323\"}],\"sizing_mode\":\"fixed\",\"title\":{\"id\":\"8270\"},\"toolbar\":{\"id\":\"8292\"},\"width\":1000,\"x_range\":{\"id\":\"8265\"},\"x_scale\":{\"id\":\"8274\"},\"y_range\":{\"id\":\"8266\"},\"y_scale\":{\"id\":\"8276\"}},\"id\":\"8269\",\"subtype\":\"Figure\",\"type\":\"Plot\"},{\"attributes\":{\"bottom_units\":\"screen\",\"coordinates\":null,\"fill_alpha\":0.5,\"fill_color\":\"lightgrey\",\"group\":null,\"left_units\":\"screen\",\"level\":\"overlay\",\"line_alpha\":1.0,\"line_color\":\"black\",\"line_dash\":[4,4],\"line_width\":2,\"right_units\":\"screen\",\"syncable\":false,\"top_units\":\"screen\"},\"id\":\"8291\",\"type\":\"BoxAnnotation\"},{\"attributes\":{\"end\":93.684,\"reset_end\":93.684,\"reset_start\":18.516000000000002,\"start\":18.516000000000002,\"tags\":[[[\"Population/Average Price\",\"Population/Average Price\",null]]]},\"id\":\"8266\",\"type\":\"Range1d\"},{\"attributes\":{},\"id\":\"8300\",\"type\":\"BasicTickFormatter\"},{\"attributes\":{\"end\":2022.66,\"reset_end\":2022.66,\"reset_start\":1999.34,\"start\":1999.34,\"tags\":[[[\"Year\",\"Year\",null]]]},\"id\":\"8265\",\"type\":\"Range1d\"},{\"attributes\":{\"children\":[{\"id\":\"8264\"},{\"id\":\"8269\"},{\"id\":\"8360\"}],\"margin\":[0,0,0,0],\"name\":\"Row08913\",\"tags\":[\"embedded\"]},\"id\":\"8263\",\"type\":\"Row\"},{\"attributes\":{},\"id\":\"8304\",\"type\":\"AllLabels\"},{\"attributes\":{},\"id\":\"8320\",\"type\":\"UnionRenderers\"},{\"attributes\":{},\"id\":\"8343\",\"type\":\"UnionRenderers\"}],\"root_ids\":[\"8263\"]},\"title\":\"Bokeh Application\",\"version\":\"2.4.3\"}};\n",
       "    var render_items = [{\"docid\":\"b3535750-de87-43d5-9e91-2f4b1e099b27\",\"root_ids\":[\"8263\"],\"roots\":{\"8263\":\"dad76fd6-1efb-452f-ac22-30d6e3dfc40c\"}}];\n",
       "    root.Bokeh.embed.embed_items_notebook(docs_json, render_items);\n",
       "    for (const render_item of render_items) {\n",
       "      for (const root_id of render_item.root_ids) {\n",
       "\tconst id_el = document.getElementById(root_id)\n",
       "\tif (id_el.children.length && (id_el.children[0].className === 'bk-root')) {\n",
       "\t  const root_el = id_el.children[0]\n",
       "\t  root_el.id = root_el.id + '-rendered'\n",
       "\t}\n",
       "      }\n",
       "    }\n",
       "  }\n",
       "  if (root.Bokeh !== undefined && root.Bokeh.Panel !== undefined) {\n",
       "    embed_document(root);\n",
       "  } else {\n",
       "    var attempts = 0;\n",
       "    var timer = setInterval(function(root) {\n",
       "      if (root.Bokeh !== undefined && root.Bokeh.Panel !== undefined) {\n",
       "        clearInterval(timer);\n",
       "        embed_document(root);\n",
       "      } else if (document.readyState == \"complete\") {\n",
       "        attempts++;\n",
       "        if (attempts > 200) {\n",
       "          clearInterval(timer);\n",
       "          console.log(\"Bokeh: ERROR: Unable to run BokehJS code because BokehJS library is missing\");\n",
       "        }\n",
       "      }\n",
       "    }, 25, root)\n",
       "  }\n",
       "})(window);</script>"
      ],
      "text/plain": [
       ":NdOverlay   [Variable]\n",
       "   :Scatter   [Year]   (Population/Average Price)"
      ]
     },
     "execution_count": 354,
     "metadata": {
      "application/vnd.holoviews_exec.v0+json": {
       "id": "8263"
      }
     },
     "output_type": "execute_result"
    }
   ],
   "source": [
    "correlation_housing_population_df = pd.concat([yearly_housing_data, population_df], axis=\"columns\",\n",
    "    join=\"outer\")\n",
    "correlation_housing_population_df.hvplot.scatter(title=\"Correlation of interest rates and housing prices\", x=\"Year\", y=[\"Population\", \"Average Price\"], value_label=\"Population/Average Price\",\n",
    "                                                rot=90, height=300, width=1000)"
   ]
  },
  {
   "cell_type": "code",
   "execution_count": 357,
   "id": "403416ac-bb0e-490e-bb9c-473d27a9e9ae",
   "metadata": {},
   "outputs": [],
   "source": [
    "interest_df = pd.read_csv(\n",
    "    Path(\"/Users/thunguyen/Documents/Fintech/rental/interest_rates.csv\"))\n",
    "interest_df[\"Date\"] = pd.to_datetime(interest_df[\"Date\"])\n",
    "\n",
    "interest_df[\"Year\"] = interest_df[\"Date\"].dt.year\n",
    "\n",
    "yearly_interest_df = interest_df.groupby(\"Year\").mean()"
   ]
  },
  {
   "cell_type": "code",
   "execution_count": 358,
   "id": "3be109f0-57b6-40a5-b999-ca4f5007eef0",
   "metadata": {},
   "outputs": [
    {
     "data": {},
     "metadata": {},
     "output_type": "display_data"
    },
    {
     "data": {
      "application/vnd.holoviews_exec.v0+json": "",
      "text/html": [
       "<div id='8422'>\n",
       "  <div class=\"bk-root\" id=\"10fac43e-894d-4ce8-8b68-77945c2e8cce\" data-root-id=\"8422\"></div>\n",
       "</div>\n",
       "<script type=\"application/javascript\">(function(root) {\n",
       "  function embed_document(root) {\n",
       "    var docs_json = {\"69b43d97-bcd9-4b82-bdf3-2592060f2c9a\":{\"defs\":[{\"extends\":null,\"module\":null,\"name\":\"ReactiveHTML1\",\"overrides\":[],\"properties\":[]},{\"extends\":null,\"module\":null,\"name\":\"FlexBox1\",\"overrides\":[],\"properties\":[{\"default\":\"flex-start\",\"kind\":null,\"name\":\"align_content\"},{\"default\":\"flex-start\",\"kind\":null,\"name\":\"align_items\"},{\"default\":\"row\",\"kind\":null,\"name\":\"flex_direction\"},{\"default\":\"wrap\",\"kind\":null,\"name\":\"flex_wrap\"},{\"default\":\"flex-start\",\"kind\":null,\"name\":\"justify_content\"}]},{\"extends\":null,\"module\":null,\"name\":\"GridStack1\",\"overrides\":[],\"properties\":[{\"default\":\"warn\",\"kind\":null,\"name\":\"mode\"},{\"default\":null,\"kind\":null,\"name\":\"ncols\"},{\"default\":null,\"kind\":null,\"name\":\"nrows\"},{\"default\":true,\"kind\":null,\"name\":\"allow_resize\"},{\"default\":true,\"kind\":null,\"name\":\"allow_drag\"},{\"default\":[],\"kind\":null,\"name\":\"state\"}]},{\"extends\":null,\"module\":null,\"name\":\"click1\",\"overrides\":[],\"properties\":[{\"default\":\"\",\"kind\":null,\"name\":\"terminal_output\"},{\"default\":\"\",\"kind\":null,\"name\":\"debug_name\"},{\"default\":0,\"kind\":null,\"name\":\"clears\"}]},{\"extends\":null,\"module\":null,\"name\":\"NotificationAreaBase1\",\"overrides\":[],\"properties\":[{\"default\":\"bottom-right\",\"kind\":null,\"name\":\"position\"},{\"default\":0,\"kind\":null,\"name\":\"_clear\"}]},{\"extends\":null,\"module\":null,\"name\":\"NotificationArea1\",\"overrides\":[],\"properties\":[{\"default\":[],\"kind\":null,\"name\":\"notifications\"},{\"default\":\"bottom-right\",\"kind\":null,\"name\":\"position\"},{\"default\":0,\"kind\":null,\"name\":\"_clear\"},{\"default\":[{\"background\":\"#ffc107\",\"icon\":{\"className\":\"fas fa-exclamation-triangle\",\"color\":\"white\",\"tagName\":\"i\"},\"type\":\"warning\"},{\"background\":\"#007bff\",\"icon\":{\"className\":\"fas fa-info-circle\",\"color\":\"white\",\"tagName\":\"i\"},\"type\":\"info\"}],\"kind\":null,\"name\":\"types\"}]},{\"extends\":null,\"module\":null,\"name\":\"Notification\",\"overrides\":[],\"properties\":[{\"default\":null,\"kind\":null,\"name\":\"background\"},{\"default\":3000,\"kind\":null,\"name\":\"duration\"},{\"default\":null,\"kind\":null,\"name\":\"icon\"},{\"default\":\"\",\"kind\":null,\"name\":\"message\"},{\"default\":null,\"kind\":null,\"name\":\"notification_type\"},{\"default\":false,\"kind\":null,\"name\":\"_destroyed\"}]},{\"extends\":null,\"module\":null,\"name\":\"TemplateActions1\",\"overrides\":[],\"properties\":[{\"default\":0,\"kind\":null,\"name\":\"open_modal\"},{\"default\":0,\"kind\":null,\"name\":\"close_modal\"}]},{\"extends\":null,\"module\":null,\"name\":\"MaterialTemplateActions1\",\"overrides\":[],\"properties\":[{\"default\":0,\"kind\":null,\"name\":\"open_modal\"},{\"default\":0,\"kind\":null,\"name\":\"close_modal\"}]}],\"roots\":{\"references\":[{\"attributes\":{\"source\":{\"id\":\"8464\"}},\"id\":\"8471\",\"type\":\"CDSView\"},{\"attributes\":{\"source\":{\"id\":\"8485\"}},\"id\":\"8492\",\"type\":\"CDSView\"},{\"attributes\":{\"angle\":{\"value\":0.0},\"fill_alpha\":{\"value\":1.0},\"fill_color\":{\"value\":\"#30a2da\"},\"hatch_alpha\":{\"value\":1.0},\"hatch_color\":{\"value\":\"#30a2da\"},\"hatch_scale\":{\"value\":12.0},\"hatch_weight\":{\"value\":1.0},\"line_alpha\":{\"value\":1.0},\"line_cap\":{\"value\":\"butt\"},\"line_color\":{\"value\":\"#30a2da\"},\"line_dash\":{\"value\":[]},\"line_dash_offset\":{\"value\":0},\"line_join\":{\"value\":\"bevel\"},\"line_width\":{\"value\":1},\"marker\":{\"value\":\"circle\"},\"size\":{\"value\":5.477225575051661},\"x\":{\"field\":\"Year\"},\"y\":{\"field\":\"Prime Rate/Average Price\"}},\"id\":\"8484\",\"type\":\"Scatter\"},{\"attributes\":{\"coordinates\":null,\"data_source\":{\"id\":\"8485\"},\"glyph\":{\"id\":\"8488\"},\"group\":null,\"hover_glyph\":null,\"muted_glyph\":{\"id\":\"8490\"},\"nonselection_glyph\":{\"id\":\"8489\"},\"selection_glyph\":{\"id\":\"8506\"},\"view\":{\"id\":\"8492\"}},\"id\":\"8491\",\"type\":\"GlyphRenderer\"},{\"attributes\":{\"click_policy\":\"mute\",\"coordinates\":null,\"group\":null,\"items\":[{\"id\":\"8483\"},{\"id\":\"8505\"}],\"location\":[0,0],\"title\":\"Variable\"},\"id\":\"8482\",\"type\":\"Legend\"},{\"attributes\":{\"label\":{\"value\":\"Prime Rate\"},\"renderers\":[{\"id\":\"8470\"}]},\"id\":\"8483\",\"type\":\"LegendItem\"},{\"attributes\":{},\"id\":\"8435\",\"type\":\"LinearScale\"},{\"attributes\":{},\"id\":\"8433\",\"type\":\"LinearScale\"},{\"attributes\":{\"coordinates\":null,\"group\":null,\"text\":\"Correlation of population growth and housing prices\",\"text_color\":\"black\",\"text_font_size\":\"12pt\"},\"id\":\"8429\",\"type\":\"Title\"},{\"attributes\":{},\"id\":\"8463\",\"type\":\"AllLabels\"},{\"attributes\":{\"axis_label\":\"Year\",\"coordinates\":null,\"formatter\":{\"id\":\"8459\"},\"group\":null,\"major_label_orientation\":1.5707963267948966,\"major_label_policy\":{\"id\":\"8460\"},\"ticker\":{\"id\":\"8438\"}},\"id\":\"8437\",\"type\":\"LinearAxis\"},{\"attributes\":{\"fill_alpha\":{\"value\":0.2},\"fill_color\":{\"value\":\"#30a2da\"},\"hatch_alpha\":{\"value\":0.2},\"hatch_color\":{\"value\":\"#30a2da\"},\"line_alpha\":{\"value\":0.2},\"line_color\":{\"value\":\"#30a2da\"},\"size\":{\"value\":5.477225575051661},\"x\":{\"field\":\"Year\"},\"y\":{\"field\":\"Prime Rate/Average Price\"}},\"id\":\"8469\",\"type\":\"Scatter\"},{\"attributes\":{},\"id\":\"8446\",\"type\":\"PanTool\"},{\"attributes\":{\"children\":[{\"id\":\"8423\"},{\"id\":\"8428\"},{\"id\":\"8519\"}],\"margin\":[0,0,0,0],\"name\":\"Row09075\",\"tags\":[\"embedded\"]},\"id\":\"8422\",\"type\":\"Row\"},{\"attributes\":{\"axis\":{\"id\":\"8437\"},\"coordinates\":null,\"grid_line_color\":null,\"group\":null,\"ticker\":null},\"id\":\"8440\",\"type\":\"Grid\"},{\"attributes\":{\"fill_alpha\":{\"value\":0.2},\"fill_color\":{\"value\":\"#fc4f30\"},\"hatch_alpha\":{\"value\":0.2},\"hatch_color\":{\"value\":\"#fc4f30\"},\"line_alpha\":{\"value\":0.2},\"line_color\":{\"value\":\"#fc4f30\"},\"size\":{\"value\":5.477225575051661},\"x\":{\"field\":\"Year\"},\"y\":{\"field\":\"Prime Rate/Average Price\"}},\"id\":\"8490\",\"type\":\"Scatter\"},{\"attributes\":{\"end\":2024.32,\"reset_end\":2024.32,\"reset_start\":1977.68,\"start\":1977.68,\"tags\":[[[\"Year\",\"Year\",null]]]},\"id\":\"8424\",\"type\":\"Range1d\"},{\"attributes\":{},\"id\":\"8438\",\"type\":\"BasicTicker\"},{\"attributes\":{},\"id\":\"8460\",\"type\":\"AllLabels\"},{\"attributes\":{\"data\":{\"Prime Rate/Average Price\":{\"__ndarray__\":\"LS0tLS2tKUDUFSzKouwsQBQ7sRM7aTNAjxFKmITpL0BCL/RCL3QmQMWUtuusJShAvtALvdArJUBC5oT+WgglQIZe6IVeSCNAllqplVppJUA3ciM3coMqQMTNk+/IMCxAqWDZnu0ZJEB2Yid2YiceQMLH7Amp5xdAHp++tjgYG0BP7MRO7EQhQI1+1csFqhhAsRM7sRO7E0C2tbW1tbUaQHIjN3IjtxlAFDuxEzvxHEA7a0kUU9oXQAy90Au90BBAciM3ciO3EkAMvdALvQAQQP+MaTLAlBFAntiJndgJF0BnZmZmZmYYQEut1EqtJBNAP/ADP/BjA0D8wA/8wK8EQAAAAAAAAAhAAAAAAAAACEAAAAAAAAAIQAAAAAAAAAhAm3/GNBlgBkCamZmZmZkFQOEHfuAHHgdA+lf5e23EDECamZmZmZkPQPVCL/RCLwZAmpmZmZmZA0C2Uiu1UisQQM3MzMzMzBlA\",\"dtype\":\"float64\",\"order\":\"little\",\"shape\":[45]},\"Prime_Rate_over_Average_Price\":{\"__ndarray__\":\"LS0tLS2tKUDUFSzKouwsQBQ7sRM7aTNAjxFKmITpL0BCL/RCL3QmQMWUtuusJShAvtALvdArJUBC5oT+WgglQIZe6IVeSCNAllqplVppJUA3ciM3coMqQMTNk+/IMCxAqWDZnu0ZJEB2Yid2YiceQMLH7Amp5xdAHp++tjgYG0BP7MRO7EQhQI1+1csFqhhAsRM7sRO7E0C2tbW1tbUaQHIjN3IjtxlAFDuxEzvxHEA7a0kUU9oXQAy90Au90BBAciM3ciO3EkAMvdALvQAQQP+MaTLAlBFAntiJndgJF0BnZmZmZmYYQEut1EqtJBNAP/ADP/BjA0D8wA/8wK8EQAAAAAAAAAhAAAAAAAAACEAAAAAAAAAIQAAAAAAAAAhAm3/GNBlgBkCamZmZmZkFQOEHfuAHHgdA+lf5e23EDECamZmZmZkPQPVCL/RCLwZAmpmZmZmZA0C2Uiu1UisQQM3MzMzMzBlA\",\"dtype\":\"float64\",\"order\":\"little\",\"shape\":[45]},\"Variable\":[\"Prime Rate\",\"Prime Rate\",\"Prime Rate\",\"Prime Rate\",\"Prime Rate\",\"Prime Rate\",\"Prime Rate\",\"Prime Rate\",\"Prime Rate\",\"Prime Rate\",\"Prime Rate\",\"Prime Rate\",\"Prime Rate\",\"Prime Rate\",\"Prime Rate\",\"Prime Rate\",\"Prime Rate\",\"Prime Rate\",\"Prime Rate\",\"Prime Rate\",\"Prime Rate\",\"Prime Rate\",\"Prime Rate\",\"Prime Rate\",\"Prime Rate\",\"Prime Rate\",\"Prime Rate\",\"Prime Rate\",\"Prime Rate\",\"Prime Rate\",\"Prime Rate\",\"Prime Rate\",\"Prime Rate\",\"Prime Rate\",\"Prime Rate\",\"Prime Rate\",\"Prime Rate\",\"Prime Rate\",\"Prime Rate\",\"Prime Rate\",\"Prime Rate\",\"Prime Rate\",\"Prime Rate\",\"Prime Rate\",\"Prime Rate\"],\"Year\":[1979,1980,1981,1982,1983,1984,1985,1986,1987,1988,1989,1990,1991,1992,1993,1994,1995,1996,1997,1998,1999,2000,2001,2002,2003,2004,2005,2006,2007,2008,2009,2010,2011,2012,2013,2014,2015,2016,2017,2018,2019,2020,2021,2022,2023]},\"selected\":{\"id\":\"8465\"},\"selection_policy\":{\"id\":\"8479\"}},\"id\":\"8464\",\"type\":\"ColumnDataSource\"},{\"attributes\":{\"axis_label\":\"Prime Rate/Average Price\",\"coordinates\":null,\"formatter\":{\"id\":\"8462\"},\"group\":null,\"major_label_policy\":{\"id\":\"8463\"},\"ticker\":{\"id\":\"8442\"}},\"id\":\"8441\",\"type\":\"LinearAxis\"},{\"attributes\":{\"end\":95.91962019230769,\"reset_end\":95.91962019230769,\"reset_start\":-6.075822115384616,\"start\":-6.075822115384616,\"tags\":[[[\"Prime Rate/Average Price\",\"Prime Rate/Average Price\",null]]]},\"id\":\"8425\",\"type\":\"Range1d\"},{\"attributes\":{\"axis\":{\"id\":\"8441\"},\"coordinates\":null,\"dimension\":1,\"grid_line_color\":null,\"group\":null,\"ticker\":null},\"id\":\"8444\",\"type\":\"Grid\"},{\"attributes\":{},\"id\":\"8462\",\"type\":\"BasicTickFormatter\"},{\"attributes\":{\"below\":[{\"id\":\"8437\"}],\"center\":[{\"id\":\"8440\"},{\"id\":\"8444\"}],\"height\":300,\"left\":[{\"id\":\"8441\"}],\"margin\":[5,5,5,5],\"min_border_bottom\":10,\"min_border_left\":10,\"min_border_right\":10,\"min_border_top\":10,\"renderers\":[{\"id\":\"8470\"},{\"id\":\"8491\"}],\"right\":[{\"id\":\"8482\"}],\"sizing_mode\":\"fixed\",\"title\":{\"id\":\"8429\"},\"toolbar\":{\"id\":\"8451\"},\"width\":1000,\"x_range\":{\"id\":\"8424\"},\"x_scale\":{\"id\":\"8433\"},\"y_range\":{\"id\":\"8425\"},\"y_scale\":{\"id\":\"8435\"}},\"id\":\"8428\",\"subtype\":\"Figure\",\"type\":\"Plot\"},{\"attributes\":{},\"id\":\"8442\",\"type\":\"BasicTicker\"},{\"attributes\":{},\"id\":\"8447\",\"type\":\"WheelZoomTool\"},{\"attributes\":{\"fill_color\":{\"value\":\"#30a2da\"},\"hatch_color\":{\"value\":\"#30a2da\"},\"line_color\":{\"value\":\"#30a2da\"},\"size\":{\"value\":5.477225575051661},\"x\":{\"field\":\"Year\"},\"y\":{\"field\":\"Prime Rate/Average Price\"}},\"id\":\"8467\",\"type\":\"Scatter\"},{\"attributes\":{\"angle\":{\"value\":0.0},\"fill_alpha\":{\"value\":1.0},\"fill_color\":{\"value\":\"#fc4f30\"},\"hatch_alpha\":{\"value\":1.0},\"hatch_color\":{\"value\":\"#fc4f30\"},\"hatch_scale\":{\"value\":12.0},\"hatch_weight\":{\"value\":1.0},\"line_alpha\":{\"value\":1.0},\"line_cap\":{\"value\":\"butt\"},\"line_color\":{\"value\":\"#fc4f30\"},\"line_dash\":{\"value\":[]},\"line_dash_offset\":{\"value\":0},\"line_join\":{\"value\":\"bevel\"},\"line_width\":{\"value\":1},\"marker\":{\"value\":\"circle\"},\"size\":{\"value\":5.477225575051661},\"x\":{\"field\":\"Year\"},\"y\":{\"field\":\"Prime Rate/Average Price\"}},\"id\":\"8506\",\"type\":\"Scatter\"},{\"attributes\":{},\"id\":\"8445\",\"type\":\"SaveTool\"},{\"attributes\":{\"fill_alpha\":{\"value\":0.1},\"fill_color\":{\"value\":\"#30a2da\"},\"hatch_alpha\":{\"value\":0.1},\"hatch_color\":{\"value\":\"#30a2da\"},\"line_alpha\":{\"value\":0.1},\"line_color\":{\"value\":\"#30a2da\"},\"size\":{\"value\":5.477225575051661},\"x\":{\"field\":\"Year\"},\"y\":{\"field\":\"Prime Rate/Average Price\"}},\"id\":\"8468\",\"type\":\"Scatter\"},{\"attributes\":{\"label\":{\"value\":\"Average Price\"},\"renderers\":[{\"id\":\"8491\"}]},\"id\":\"8505\",\"type\":\"LegendItem\"},{\"attributes\":{\"fill_alpha\":{\"value\":0.1},\"fill_color\":{\"value\":\"#fc4f30\"},\"hatch_alpha\":{\"value\":0.1},\"hatch_color\":{\"value\":\"#fc4f30\"},\"line_alpha\":{\"value\":0.1},\"line_color\":{\"value\":\"#fc4f30\"},\"size\":{\"value\":5.477225575051661},\"x\":{\"field\":\"Year\"},\"y\":{\"field\":\"Prime Rate/Average Price\"}},\"id\":\"8489\",\"type\":\"Scatter\"},{\"attributes\":{\"overlay\":{\"id\":\"8450\"}},\"id\":\"8448\",\"type\":\"BoxZoomTool\"},{\"attributes\":{},\"id\":\"8449\",\"type\":\"ResetTool\"},{\"attributes\":{\"margin\":[5,5,5,5],\"name\":\"HSpacer09079\",\"sizing_mode\":\"stretch_width\"},\"id\":\"8423\",\"type\":\"Spacer\"},{\"attributes\":{\"bottom_units\":\"screen\",\"coordinates\":null,\"fill_alpha\":0.5,\"fill_color\":\"lightgrey\",\"group\":null,\"left_units\":\"screen\",\"level\":\"overlay\",\"line_alpha\":1.0,\"line_color\":\"black\",\"line_dash\":[4,4],\"line_width\":2,\"right_units\":\"screen\",\"syncable\":false,\"top_units\":\"screen\"},\"id\":\"8450\",\"type\":\"BoxAnnotation\"},{\"attributes\":{\"margin\":[5,5,5,5],\"name\":\"HSpacer09080\",\"sizing_mode\":\"stretch_width\"},\"id\":\"8519\",\"type\":\"Spacer\"},{\"attributes\":{\"fill_color\":{\"value\":\"#fc4f30\"},\"hatch_color\":{\"value\":\"#fc4f30\"},\"line_color\":{\"value\":\"#fc4f30\"},\"size\":{\"value\":5.477225575051661},\"x\":{\"field\":\"Year\"},\"y\":{\"field\":\"Prime Rate/Average Price\"}},\"id\":\"8488\",\"type\":\"Scatter\"},{\"attributes\":{\"coordinates\":null,\"data_source\":{\"id\":\"8464\"},\"glyph\":{\"id\":\"8467\"},\"group\":null,\"hover_glyph\":null,\"muted_glyph\":{\"id\":\"8469\"},\"nonselection_glyph\":{\"id\":\"8468\"},\"selection_glyph\":{\"id\":\"8484\"},\"view\":{\"id\":\"8471\"}},\"id\":\"8470\",\"type\":\"GlyphRenderer\"},{\"attributes\":{},\"id\":\"8502\",\"type\":\"UnionRenderers\"},{\"attributes\":{\"data\":{\"Prime Rate/Average Price\":{\"__ndarray__\":\"AAAAAAAA+H8AAAAAAAD4fwAAAAAAAPh/AAAAAAAA+H8AAAAAAAD4fwAAAAAAAPh/AAAAAAAA+H8AAAAAAAD4fwAAAAAAAPh/AAAAAAAA+H8AAAAAAAD4fwAAAAAAAPh/AAAAAAAA+H8AAAAAAAD4fwAAAAAAAPh/AAAAAAAA+H8AAAAAAAD4fwAAAAAAAPh/AAAAAAAA+H8AAAAAAAD4fwAAAAAAAPh/AAAAAAAA+H8AAAAAAAD4fwAAAAAAAPh/AAAAAAAA+H8AAAAAAAD4f0jhehSuxzhAj8L1KFwPPUB7FK5H4bpAQI/C9ShcT0FA16NwPQrXQEBxPQrXo1BCQOF6FK5HgUNAzczMzMyMREA9CtejcP1EQHE9CtejMEZA7FG4HoUrSEB7FK5H4TpMQNejcD0KF09AH4XrUbj+TUC4HoXrUfhMQFyPwvUoHE9ACtejcD2aU0B7FK5H4dpVQAAAAAAAAPh/\",\"dtype\":\"float64\",\"order\":\"little\",\"shape\":[45]},\"Prime_Rate_over_Average_Price\":{\"__ndarray__\":\"AAAAAAAA+H8AAAAAAAD4fwAAAAAAAPh/AAAAAAAA+H8AAAAAAAD4fwAAAAAAAPh/AAAAAAAA+H8AAAAAAAD4fwAAAAAAAPh/AAAAAAAA+H8AAAAAAAD4fwAAAAAAAPh/AAAAAAAA+H8AAAAAAAD4fwAAAAAAAPh/AAAAAAAA+H8AAAAAAAD4fwAAAAAAAPh/AAAAAAAA+H8AAAAAAAD4fwAAAAAAAPh/AAAAAAAA+H8AAAAAAAD4fwAAAAAAAPh/AAAAAAAA+H8AAAAAAAD4f0jhehSuxzhAj8L1KFwPPUB7FK5H4bpAQI/C9ShcT0FA16NwPQrXQEBxPQrXo1BCQOF6FK5HgUNAzczMzMyMREA9CtejcP1EQHE9CtejMEZA7FG4HoUrSEB7FK5H4TpMQNejcD0KF09AH4XrUbj+TUC4HoXrUfhMQFyPwvUoHE9ACtejcD2aU0B7FK5H4dpVQAAAAAAAAPh/\",\"dtype\":\"float64\",\"order\":\"little\",\"shape\":[45]},\"Variable\":[\"Average Price\",\"Average Price\",\"Average Price\",\"Average Price\",\"Average Price\",\"Average Price\",\"Average Price\",\"Average Price\",\"Average Price\",\"Average Price\",\"Average Price\",\"Average Price\",\"Average Price\",\"Average Price\",\"Average Price\",\"Average Price\",\"Average Price\",\"Average Price\",\"Average Price\",\"Average Price\",\"Average Price\",\"Average Price\",\"Average Price\",\"Average Price\",\"Average Price\",\"Average Price\",\"Average Price\",\"Average Price\",\"Average Price\",\"Average Price\",\"Average Price\",\"Average Price\",\"Average Price\",\"Average Price\",\"Average Price\",\"Average Price\",\"Average Price\",\"Average Price\",\"Average Price\",\"Average Price\",\"Average Price\",\"Average Price\",\"Average Price\",\"Average Price\",\"Average Price\"],\"Year\":[1979,1980,1981,1982,1983,1984,1985,1986,1987,1988,1989,1990,1991,1992,1993,1994,1995,1996,1997,1998,1999,2000,2001,2002,2003,2004,2005,2006,2007,2008,2009,2010,2011,2012,2013,2014,2015,2016,2017,2018,2019,2020,2021,2022,2023]},\"selected\":{\"id\":\"8486\"},\"selection_policy\":{\"id\":\"8502\"}},\"id\":\"8485\",\"type\":\"ColumnDataSource\"},{\"attributes\":{\"callback\":null,\"renderers\":[{\"id\":\"8470\"},{\"id\":\"8491\"}],\"tags\":[\"hv_created\"],\"tooltips\":[[\"Variable\",\"@{Variable}\"],[\"Year\",\"@{Year}\"],[\"Prime Rate/Average Price\",\"@{Prime_Rate_over_Average_Price}\"]]},\"id\":\"8426\",\"type\":\"HoverTool\"},{\"attributes\":{},\"id\":\"8486\",\"type\":\"Selection\"},{\"attributes\":{},\"id\":\"8479\",\"type\":\"UnionRenderers\"},{\"attributes\":{},\"id\":\"8459\",\"type\":\"BasicTickFormatter\"},{\"attributes\":{\"tools\":[{\"id\":\"8426\"},{\"id\":\"8445\"},{\"id\":\"8446\"},{\"id\":\"8447\"},{\"id\":\"8448\"},{\"id\":\"8449\"}]},\"id\":\"8451\",\"type\":\"Toolbar\"},{\"attributes\":{},\"id\":\"8465\",\"type\":\"Selection\"}],\"root_ids\":[\"8422\"]},\"title\":\"Bokeh Application\",\"version\":\"2.4.3\"}};\n",
       "    var render_items = [{\"docid\":\"69b43d97-bcd9-4b82-bdf3-2592060f2c9a\",\"root_ids\":[\"8422\"],\"roots\":{\"8422\":\"10fac43e-894d-4ce8-8b68-77945c2e8cce\"}}];\n",
       "    root.Bokeh.embed.embed_items_notebook(docs_json, render_items);\n",
       "    for (const render_item of render_items) {\n",
       "      for (const root_id of render_item.root_ids) {\n",
       "\tconst id_el = document.getElementById(root_id)\n",
       "\tif (id_el.children.length && (id_el.children[0].className === 'bk-root')) {\n",
       "\t  const root_el = id_el.children[0]\n",
       "\t  root_el.id = root_el.id + '-rendered'\n",
       "\t}\n",
       "      }\n",
       "    }\n",
       "  }\n",
       "  if (root.Bokeh !== undefined && root.Bokeh.Panel !== undefined) {\n",
       "    embed_document(root);\n",
       "  } else {\n",
       "    var attempts = 0;\n",
       "    var timer = setInterval(function(root) {\n",
       "      if (root.Bokeh !== undefined && root.Bokeh.Panel !== undefined) {\n",
       "        clearInterval(timer);\n",
       "        embed_document(root);\n",
       "      } else if (document.readyState == \"complete\") {\n",
       "        attempts++;\n",
       "        if (attempts > 200) {\n",
       "          clearInterval(timer);\n",
       "          console.log(\"Bokeh: ERROR: Unable to run BokehJS code because BokehJS library is missing\");\n",
       "        }\n",
       "      }\n",
       "    }, 25, root)\n",
       "  }\n",
       "})(window);</script>"
      ],
      "text/plain": [
       ":NdOverlay   [Variable]\n",
       "   :Scatter   [Year]   (Prime Rate/Average Price)"
      ]
     },
     "execution_count": 358,
     "metadata": {
      "application/vnd.holoviews_exec.v0+json": {
       "id": "8422"
      }
     },
     "output_type": "execute_result"
    }
   ],
   "source": [
    "correlation_housing_interest_df = pd.concat([yearly_interest_df, yearly_housing_data], axis=\"columns\", join=\"outer\")\n",
    "correlation_housing_interest_df.hvplot.scatter(title=\"Correlation of population growth and housing prices\", \n",
    "                                               x=\"Year\", y=[\"Prime Rate\", \"Average Price\"], value_label=\"Prime Rate/Average Price\",\n",
    "                                                rot=90, height=300, width=1000)"
   ]
  }
 ],
 "metadata": {
  "kernelspec": {
   "display_name": "Python 3 (ipykernel)",
   "language": "python",
   "name": "python3"
  },
  "language_info": {
   "codemirror_mode": {
    "name": "ipython",
    "version": 3
   },
   "file_extension": ".py",
   "mimetype": "text/x-python",
   "name": "python",
   "nbconvert_exporter": "python",
   "pygments_lexer": "ipython3",
   "version": "3.9.15"
  }
 },
 "nbformat": 4,
 "nbformat_minor": 5
}
