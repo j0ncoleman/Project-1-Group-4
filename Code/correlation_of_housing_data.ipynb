{
 "cells": [
  {
   "cell_type": "code",
   "execution_count": 9,
   "id": "4d7a3872-8888-4c97-bb67-6dc7ef4066b6",
   "metadata": {},
   "outputs": [],
   "source": [
    "import numpy as np\n",
    "import pandas as pd\n",
    "import hvplot.pandas\n",
    "import matplotlib.pyplot as plt\n",
    "from pathlib import Path\n",
    "from datetime import datetime"
   ]
  },
  {
   "cell_type": "code",
   "execution_count": 4,
   "id": "f6e3c145-3153-4e26-94c3-15f24422171f",
   "metadata": {},
   "outputs": [
    {
     "data": {
      "text/html": [
       "<div>\n",
       "<style scoped>\n",
       "    .dataframe tbody tr th:only-of-type {\n",
       "        vertical-align: middle;\n",
       "    }\n",
       "\n",
       "    .dataframe tbody tr th {\n",
       "        vertical-align: top;\n",
       "    }\n",
       "\n",
       "    .dataframe thead th {\n",
       "        text-align: right;\n",
       "    }\n",
       "</style>\n",
       "<table border=\"1\" class=\"dataframe\">\n",
       "  <thead>\n",
       "    <tr style=\"text-align: right;\">\n",
       "      <th></th>\n",
       "      <th>Vacancy Rate (%)</th>\n",
       "      <th>Availability Rate (%)</th>\n",
       "      <th>Average Rent ($)</th>\n",
       "      <th>Median Rent ($)</th>\n",
       "      <th>% Change</th>\n",
       "      <th>Units</th>\n",
       "    </tr>\n",
       "    <tr>\n",
       "      <th>Year</th>\n",
       "      <th></th>\n",
       "      <th></th>\n",
       "      <th></th>\n",
       "      <th></th>\n",
       "      <th></th>\n",
       "      <th></th>\n",
       "    </tr>\n",
       "  </thead>\n",
       "  <tbody>\n",
       "    <tr>\n",
       "      <th>2011 October</th>\n",
       "      <td>2.5</td>\n",
       "      <td>3.4</td>\n",
       "      <td>826</td>\n",
       "      <td>775</td>\n",
       "      <td>2.3</td>\n",
       "      <td>1,838,977</td>\n",
       "    </tr>\n",
       "    <tr>\n",
       "      <th>2012 October</th>\n",
       "      <td>2.8</td>\n",
       "      <td>3.7</td>\n",
       "      <td>844</td>\n",
       "      <td>800</td>\n",
       "      <td>2.1</td>\n",
       "      <td>1,853,137</td>\n",
       "    </tr>\n",
       "    <tr>\n",
       "      <th>2013 October</th>\n",
       "      <td>2.9</td>\n",
       "      <td>3.9</td>\n",
       "      <td>862</td>\n",
       "      <td>800</td>\n",
       "      <td>2.5</td>\n",
       "      <td>1,916,660</td>\n",
       "    </tr>\n",
       "    <tr>\n",
       "      <th>2014 October</th>\n",
       "      <td>3.0</td>\n",
       "      <td>3.9</td>\n",
       "      <td>883</td>\n",
       "      <td>825</td>\n",
       "      <td>2.4</td>\n",
       "      <td>1,961,877</td>\n",
       "    </tr>\n",
       "    <tr>\n",
       "      <th>2015 October</th>\n",
       "      <td>3.5</td>\n",
       "      <td>4.5</td>\n",
       "      <td>907</td>\n",
       "      <td>850</td>\n",
       "      <td>2.3</td>\n",
       "      <td>1,996,883</td>\n",
       "    </tr>\n",
       "  </tbody>\n",
       "</table>\n",
       "</div>"
      ],
      "text/plain": [
       "              Vacancy Rate (%) Availability Rate (%) Average Rent ($)  \\\n",
       "Year                                                                    \n",
       "2011 October               2.5                   3.4              826   \n",
       "2012 October               2.8                   3.7              844   \n",
       "2013 October               2.9                   3.9              862   \n",
       "2014 October               3.0                   3.9              883   \n",
       "2015 October               3.5                   4.5              907   \n",
       "\n",
       "             Median Rent ($)  % Change      Units  \n",
       "Year                                               \n",
       "2011 October             775       2.3  1,838,977  \n",
       "2012 October             800       2.1  1,853,137  \n",
       "2013 October             800       2.5  1,916,660  \n",
       "2014 October             825       2.4  1,961,877  \n",
       "2015 October             850       2.3  1,996,883  "
      ]
     },
     "metadata": {},
     "output_type": "display_data"
    },
    {
     "data": {
      "text/html": [
       "<div>\n",
       "<style scoped>\n",
       "    .dataframe tbody tr th:only-of-type {\n",
       "        vertical-align: middle;\n",
       "    }\n",
       "\n",
       "    .dataframe tbody tr th {\n",
       "        vertical-align: top;\n",
       "    }\n",
       "\n",
       "    .dataframe thead th {\n",
       "        text-align: right;\n",
       "    }\n",
       "</style>\n",
       "<table border=\"1\" class=\"dataframe\">\n",
       "  <thead>\n",
       "    <tr style=\"text-align: right;\">\n",
       "      <th></th>\n",
       "      <th>Vacancy Rate (%)</th>\n",
       "      <th>Availability Rate (%)</th>\n",
       "      <th>Average Rent ($)</th>\n",
       "      <th>Median Rent ($)</th>\n",
       "      <th>% Change</th>\n",
       "      <th>Units</th>\n",
       "    </tr>\n",
       "    <tr>\n",
       "      <th>Year</th>\n",
       "      <th></th>\n",
       "      <th></th>\n",
       "      <th></th>\n",
       "      <th></th>\n",
       "      <th></th>\n",
       "      <th></th>\n",
       "    </tr>\n",
       "  </thead>\n",
       "  <tbody>\n",
       "    <tr>\n",
       "      <th>2017 October</th>\n",
       "      <td>3.0</td>\n",
       "      <td>3.9</td>\n",
       "      <td>956</td>\n",
       "      <td>886</td>\n",
       "      <td>2.7</td>\n",
       "      <td>2,062,419</td>\n",
       "    </tr>\n",
       "    <tr>\n",
       "      <th>2018 October</th>\n",
       "      <td>2.4</td>\n",
       "      <td>**</td>\n",
       "      <td>997</td>\n",
       "      <td>912</td>\n",
       "      <td>3.4</td>\n",
       "      <td>2,100,561</td>\n",
       "    </tr>\n",
       "    <tr>\n",
       "      <th>2019 October</th>\n",
       "      <td>2.3</td>\n",
       "      <td>**</td>\n",
       "      <td>1,049</td>\n",
       "      <td>959</td>\n",
       "      <td>4.1</td>\n",
       "      <td>2,126,060</td>\n",
       "    </tr>\n",
       "    <tr>\n",
       "      <th>2020 October</th>\n",
       "      <td>3.1</td>\n",
       "      <td>**</td>\n",
       "      <td>1,097</td>\n",
       "      <td>1,000</td>\n",
       "      <td>3.7</td>\n",
       "      <td>2,174,373</td>\n",
       "    </tr>\n",
       "    <tr>\n",
       "      <th>2021 October</th>\n",
       "      <td>3.1</td>\n",
       "      <td>**</td>\n",
       "      <td>1,134</td>\n",
       "      <td>1,047</td>\n",
       "      <td>3.0</td>\n",
       "      <td>2,215,712</td>\n",
       "    </tr>\n",
       "  </tbody>\n",
       "</table>\n",
       "</div>"
      ],
      "text/plain": [
       "              Vacancy Rate (%) Availability Rate (%) Average Rent ($)  \\\n",
       "Year                                                                    \n",
       "2017 October               3.0                   3.9              956   \n",
       "2018 October               2.4                    **              997   \n",
       "2019 October               2.3                    **            1,049   \n",
       "2020 October               3.1                    **            1,097   \n",
       "2021 October               3.1                    **            1,134   \n",
       "\n",
       "             Median Rent ($)  % Change      Units  \n",
       "Year                                               \n",
       "2017 October             886       2.7  2,062,419  \n",
       "2018 October             912       3.4  2,100,561  \n",
       "2019 October             959       4.1  2,126,060  \n",
       "2020 October           1,000       3.7  2,174,373  \n",
       "2021 October           1,047       3.0  2,215,712  "
      ]
     },
     "metadata": {},
     "output_type": "display_data"
    }
   ],
   "source": [
    "rental_price = pd.read_csv(\n",
    "    Path(\"/Users/thunguyen/Documents/Fintech/rental/rent.csv\"),\n",
    "    index_col=\"Year\")\n",
    "display(rental_price.head())\n",
    "display(rental_price.tail())"
   ]
  },
  {
   "cell_type": "code",
   "execution_count": 6,
   "id": "8a2d32f2-d880-4851-a582-81c257755896",
   "metadata": {},
   "outputs": [],
   "source": [
    "rental_price = rental_price[[\"Average Rent ($)\"]]"
   ]
  },
  {
   "cell_type": "code",
   "execution_count": 13,
   "id": "0bfa1d69-cc11-4c1c-ae10-bed50a8a29d1",
   "metadata": {
    "tags": []
   },
   "outputs": [
    {
     "data": {},
     "metadata": {},
     "output_type": "display_data"
    },
    {
     "data": {
      "application/vnd.holoviews_exec.v0+json": "",
      "text/html": [
       "<div id='1113'>\n",
       "  <div class=\"bk-root\" id=\"ef2ad6e1-1dfe-4458-948c-d305415cb77a\" data-root-id=\"1113\"></div>\n",
       "</div>\n",
       "<script type=\"application/javascript\">(function(root) {\n",
       "  function embed_document(root) {\n",
       "    var docs_json = {\"0f3777bd-59fd-4803-9764-d24bc4a54ad4\":{\"defs\":[{\"extends\":null,\"module\":null,\"name\":\"ReactiveHTML1\",\"overrides\":[],\"properties\":[]},{\"extends\":null,\"module\":null,\"name\":\"FlexBox1\",\"overrides\":[],\"properties\":[{\"default\":\"flex-start\",\"kind\":null,\"name\":\"align_content\"},{\"default\":\"flex-start\",\"kind\":null,\"name\":\"align_items\"},{\"default\":\"row\",\"kind\":null,\"name\":\"flex_direction\"},{\"default\":\"wrap\",\"kind\":null,\"name\":\"flex_wrap\"},{\"default\":\"flex-start\",\"kind\":null,\"name\":\"justify_content\"}]},{\"extends\":null,\"module\":null,\"name\":\"GridStack1\",\"overrides\":[],\"properties\":[{\"default\":\"warn\",\"kind\":null,\"name\":\"mode\"},{\"default\":null,\"kind\":null,\"name\":\"ncols\"},{\"default\":null,\"kind\":null,\"name\":\"nrows\"},{\"default\":true,\"kind\":null,\"name\":\"allow_resize\"},{\"default\":true,\"kind\":null,\"name\":\"allow_drag\"},{\"default\":[],\"kind\":null,\"name\":\"state\"}]},{\"extends\":null,\"module\":null,\"name\":\"click1\",\"overrides\":[],\"properties\":[{\"default\":\"\",\"kind\":null,\"name\":\"terminal_output\"},{\"default\":\"\",\"kind\":null,\"name\":\"debug_name\"},{\"default\":0,\"kind\":null,\"name\":\"clears\"}]},{\"extends\":null,\"module\":null,\"name\":\"NotificationAreaBase1\",\"overrides\":[],\"properties\":[{\"default\":\"bottom-right\",\"kind\":null,\"name\":\"position\"},{\"default\":0,\"kind\":null,\"name\":\"_clear\"}]},{\"extends\":null,\"module\":null,\"name\":\"NotificationArea1\",\"overrides\":[],\"properties\":[{\"default\":[],\"kind\":null,\"name\":\"notifications\"},{\"default\":\"bottom-right\",\"kind\":null,\"name\":\"position\"},{\"default\":0,\"kind\":null,\"name\":\"_clear\"},{\"default\":[{\"background\":\"#ffc107\",\"icon\":{\"className\":\"fas fa-exclamation-triangle\",\"color\":\"white\",\"tagName\":\"i\"},\"type\":\"warning\"},{\"background\":\"#007bff\",\"icon\":{\"className\":\"fas fa-info-circle\",\"color\":\"white\",\"tagName\":\"i\"},\"type\":\"info\"}],\"kind\":null,\"name\":\"types\"}]},{\"extends\":null,\"module\":null,\"name\":\"Notification\",\"overrides\":[],\"properties\":[{\"default\":null,\"kind\":null,\"name\":\"background\"},{\"default\":3000,\"kind\":null,\"name\":\"duration\"},{\"default\":null,\"kind\":null,\"name\":\"icon\"},{\"default\":\"\",\"kind\":null,\"name\":\"message\"},{\"default\":null,\"kind\":null,\"name\":\"notification_type\"},{\"default\":false,\"kind\":null,\"name\":\"_destroyed\"}]},{\"extends\":null,\"module\":null,\"name\":\"TemplateActions1\",\"overrides\":[],\"properties\":[{\"default\":0,\"kind\":null,\"name\":\"open_modal\"},{\"default\":0,\"kind\":null,\"name\":\"close_modal\"}]},{\"extends\":null,\"module\":null,\"name\":\"MaterialTemplateActions1\",\"overrides\":[],\"properties\":[{\"default\":0,\"kind\":null,\"name\":\"open_modal\"},{\"default\":0,\"kind\":null,\"name\":\"close_modal\"}]}],\"roots\":{\"references\":[{\"attributes\":{},\"id\":\"1134\",\"type\":\"PanTool\"},{\"attributes\":{},\"id\":\"1160\",\"type\":\"AllLabels\"},{\"attributes\":{\"below\":[{\"id\":\"1127\"}],\"center\":[{\"id\":\"1129\"},{\"id\":\"1132\"}],\"height\":300,\"left\":[{\"id\":\"1130\"}],\"margin\":[5,5,5,5],\"min_border_bottom\":10,\"min_border_left\":10,\"min_border_right\":10,\"min_border_top\":10,\"renderers\":[{\"id\":\"1152\"}],\"sizing_mode\":\"fixed\",\"title\":{\"id\":\"1119\"},\"toolbar\":{\"id\":\"1139\"},\"width\":700,\"x_range\":{\"id\":\"1115\"},\"x_scale\":{\"id\":\"1123\"},\"y_range\":{\"id\":\"1116\"},\"y_scale\":{\"id\":\"1125\"}},\"id\":\"1118\",\"subtype\":\"Figure\",\"type\":\"Plot\"},{\"attributes\":{\"margin\":[5,5,5,5],\"name\":\"HSpacer01178\",\"sizing_mode\":\"stretch_width\"},\"id\":\"1114\",\"type\":\"Spacer\"},{\"attributes\":{\"axis\":{\"id\":\"1127\"},\"coordinates\":null,\"grid_line_color\":null,\"group\":null,\"ticker\":null},\"id\":\"1129\",\"type\":\"Grid\"},{\"attributes\":{},\"id\":\"1123\",\"type\":\"CategoricalScale\"},{\"attributes\":{},\"id\":\"1147\",\"type\":\"Selection\"},{\"attributes\":{\"factors\":[\"826\",\"844\",\"862\",\"883\",\"907\",\"926\",\"956\",\"997\",\"1,049\",\"1,097\",\"1,134\"],\"tags\":[[[\"Average Rent ($)\",\"Average Rent ($)\",null]]]},\"id\":\"1116\",\"type\":\"FactorRange\"},{\"attributes\":{\"overlay\":{\"id\":\"1138\"}},\"id\":\"1136\",\"type\":\"BoxZoomTool\"},{\"attributes\":{\"coordinates\":null,\"data_source\":{\"id\":\"1146\"},\"glyph\":{\"id\":\"1149\"},\"group\":null,\"hover_glyph\":null,\"muted_glyph\":{\"id\":\"1151\"},\"nonselection_glyph\":{\"id\":\"1150\"},\"selection_glyph\":{\"id\":\"1154\"},\"view\":{\"id\":\"1153\"}},\"id\":\"1152\",\"type\":\"GlyphRenderer\"},{\"attributes\":{},\"id\":\"1168\",\"type\":\"UnionRenderers\"},{\"attributes\":{},\"id\":\"1125\",\"type\":\"CategoricalScale\"},{\"attributes\":{\"line_color\":\"#FFB703\",\"line_width\":2,\"x\":{\"field\":\"Year\"},\"y\":{\"field\":\"Average Rent ($)\"}},\"id\":\"1154\",\"type\":\"Line\"},{\"attributes\":{\"axis_label\":\"Year\",\"coordinates\":null,\"formatter\":{\"id\":\"1156\"},\"group\":null,\"major_label_orientation\":0.7853981633974483,\"major_label_policy\":{\"id\":\"1157\"},\"ticker\":{\"id\":\"1128\"}},\"id\":\"1127\",\"type\":\"CategoricalAxis\"},{\"attributes\":{\"source\":{\"id\":\"1146\"}},\"id\":\"1153\",\"type\":\"CDSView\"},{\"attributes\":{\"tools\":[{\"id\":\"1117\"},{\"id\":\"1133\"},{\"id\":\"1134\"},{\"id\":\"1135\"},{\"id\":\"1136\"},{\"id\":\"1137\"}]},\"id\":\"1139\",\"type\":\"Toolbar\"},{\"attributes\":{},\"id\":\"1128\",\"type\":\"CategoricalTicker\"},{\"attributes\":{\"line_color\":\"#FFB703\",\"line_width\":2,\"x\":{\"field\":\"Year\"},\"y\":{\"field\":\"Average Rent ($)\"}},\"id\":\"1149\",\"type\":\"Line\"},{\"attributes\":{},\"id\":\"1133\",\"type\":\"SaveTool\"},{\"attributes\":{},\"id\":\"1156\",\"type\":\"CategoricalTickFormatter\"},{\"attributes\":{\"callback\":null,\"renderers\":[{\"id\":\"1152\"}],\"tags\":[\"hv_created\"],\"tooltips\":[[\"Year\",\"@{Year}\"],[\"Average Rent ($)\",\"@{Average_Rent_left_parenthesis_right_parenthesis}\"]]},\"id\":\"1117\",\"type\":\"HoverTool\"},{\"attributes\":{},\"id\":\"1135\",\"type\":\"WheelZoomTool\"},{\"attributes\":{},\"id\":\"1137\",\"type\":\"ResetTool\"},{\"attributes\":{\"factors\":[\"2011 October\",\"2012 October\",\"2013 October\",\"2014 October\",\"2015 October\",\"2016 October\",\"2017 October\",\"2018 October\",\"2019 October\",\"2020 October\",\"2021 October\"],\"tags\":[[[\"Year\",\"Year\",null]]]},\"id\":\"1115\",\"type\":\"FactorRange\"},{\"attributes\":{\"line_alpha\":0.2,\"line_color\":\"#FFB703\",\"line_width\":2,\"x\":{\"field\":\"Year\"},\"y\":{\"field\":\"Average Rent ($)\"}},\"id\":\"1151\",\"type\":\"Line\"},{\"attributes\":{\"line_alpha\":0.1,\"line_color\":\"#FFB703\",\"line_width\":2,\"x\":{\"field\":\"Year\"},\"y\":{\"field\":\"Average Rent ($)\"}},\"id\":\"1150\",\"type\":\"Line\"},{\"attributes\":{},\"id\":\"1131\",\"type\":\"CategoricalTicker\"},{\"attributes\":{\"data\":{\"Average Rent ($)\":[\"826\",\"844\",\"862\",\"883\",\"907\",\"926\",\"956\",\"997\",\"1,049\",\"1,097\",\"1,134\"],\"Average_Rent_left_parenthesis_right_parenthesis\":[\"826\",\"844\",\"862\",\"883\",\"907\",\"926\",\"956\",\"997\",\"1,049\",\"1,097\",\"1,134\"],\"Year\":[\"2011 October\",\"2012 October\",\"2013 October\",\"2014 October\",\"2015 October\",\"2016 October\",\"2017 October\",\"2018 October\",\"2019 October\",\"2020 October\",\"2021 October\"]},\"selected\":{\"id\":\"1147\"},\"selection_policy\":{\"id\":\"1168\"}},\"id\":\"1146\",\"type\":\"ColumnDataSource\"},{\"attributes\":{\"children\":[{\"id\":\"1114\"},{\"id\":\"1118\"},{\"id\":\"1171\"}],\"margin\":[0,0,0,0],\"name\":\"Row01174\",\"tags\":[\"embedded\"]},\"id\":\"1113\",\"type\":\"Row\"},{\"attributes\":{},\"id\":\"1157\",\"type\":\"AllLabels\"},{\"attributes\":{\"bottom_units\":\"screen\",\"coordinates\":null,\"fill_alpha\":0.5,\"fill_color\":\"lightgrey\",\"group\":null,\"left_units\":\"screen\",\"level\":\"overlay\",\"line_alpha\":1.0,\"line_color\":\"black\",\"line_dash\":[4,4],\"line_width\":2,\"right_units\":\"screen\",\"syncable\":false,\"top_units\":\"screen\"},\"id\":\"1138\",\"type\":\"BoxAnnotation\"},{\"attributes\":{},\"id\":\"1159\",\"type\":\"CategoricalTickFormatter\"},{\"attributes\":{\"axis_label\":\"Average Rent ($)\",\"coordinates\":null,\"formatter\":{\"id\":\"1159\"},\"group\":null,\"major_label_policy\":{\"id\":\"1160\"},\"ticker\":{\"id\":\"1131\"}},\"id\":\"1130\",\"type\":\"CategoricalAxis\"},{\"attributes\":{\"axis\":{\"id\":\"1130\"},\"coordinates\":null,\"dimension\":1,\"grid_line_color\":null,\"group\":null,\"ticker\":null},\"id\":\"1132\",\"type\":\"Grid\"},{\"attributes\":{\"margin\":[5,5,5,5],\"name\":\"HSpacer01179\",\"sizing_mode\":\"stretch_width\"},\"id\":\"1171\",\"type\":\"Spacer\"},{\"attributes\":{\"coordinates\":null,\"group\":null,\"text\":\"Rental price index in Canada from 2011 to 2021\",\"text_color\":\"black\",\"text_font_size\":\"12pt\"},\"id\":\"1119\",\"type\":\"Title\"}],\"root_ids\":[\"1113\"]},\"title\":\"Bokeh Application\",\"version\":\"2.4.3\"}};\n",
       "    var render_items = [{\"docid\":\"0f3777bd-59fd-4803-9764-d24bc4a54ad4\",\"root_ids\":[\"1113\"],\"roots\":{\"1113\":\"ef2ad6e1-1dfe-4458-948c-d305415cb77a\"}}];\n",
       "    root.Bokeh.embed.embed_items_notebook(docs_json, render_items);\n",
       "    for (const render_item of render_items) {\n",
       "      for (const root_id of render_item.root_ids) {\n",
       "\tconst id_el = document.getElementById(root_id)\n",
       "\tif (id_el.children.length && (id_el.children[0].className === 'bk-root')) {\n",
       "\t  const root_el = id_el.children[0]\n",
       "\t  root_el.id = root_el.id + '-rendered'\n",
       "\t}\n",
       "      }\n",
       "    }\n",
       "  }\n",
       "  if (root.Bokeh !== undefined && root.Bokeh.Panel !== undefined) {\n",
       "    embed_document(root);\n",
       "  } else {\n",
       "    var attempts = 0;\n",
       "    var timer = setInterval(function(root) {\n",
       "      if (root.Bokeh !== undefined && root.Bokeh.Panel !== undefined) {\n",
       "        clearInterval(timer);\n",
       "        embed_document(root);\n",
       "      } else if (document.readyState == \"complete\") {\n",
       "        attempts++;\n",
       "        if (attempts > 200) {\n",
       "          clearInterval(timer);\n",
       "          console.log(\"Bokeh: ERROR: Unable to run BokehJS code because BokehJS library is missing\");\n",
       "        }\n",
       "      }\n",
       "    }, 25, root)\n",
       "  }\n",
       "})(window);</script>"
      ],
      "text/plain": [
       ":Curve   [Year]   (Average Rent ($))"
      ]
     },
     "execution_count": 13,
     "metadata": {
      "application/vnd.holoviews_exec.v0+json": {
       "id": "1113"
      }
     },
     "output_type": "execute_result"
    }
   ],
   "source": [
    "rental_price.hvplot(\n",
    "    xlabel='Year',\n",
    "    ylabel='Average Rent ($)', \n",
    "    rot=45,\n",
    "    label='Rental price index in Canada from 2011 to 2021',\n",
    "    color = '#FFB703'\n",
    ")"
   ]
  },
  {
   "cell_type": "code",
   "execution_count": 16,
   "id": "f619aa98-2158-4997-8aa0-28652899a0e9",
   "metadata": {},
   "outputs": [],
   "source": [
    "housing_df = pd.read_csv(\n",
    "    Path(\"/Users/thunguyen/Documents/Fintech/rental/housing_data.csv\"))\n",
    "housing_df = housing_df[[\"Date\",\"Average Price\"]]\n",
    "\n",
    "housing_df[\"Date\"] = pd.to_datetime(housing_df[\"Date\"])\n",
    "\n",
    "housing_df[\"Year\"] = housing_df[\"Date\"].dt.year\n",
    "\n",
    "yearly_housing_data = housing_df.groupby(\"Year\").mean()\n",
    "\n",
    "yearly_housing_data[\"Average Price\"] = yearly_housing_data[\"Average Price\"].div(10000).round(2)"
   ]
  },
  {
   "cell_type": "code",
   "execution_count": 34,
   "id": "44e1d9d7-3c19-4764-b534-379feb9fb9ad",
   "metadata": {},
   "outputs": [],
   "source": [
    "population_df = pd.read_csv(\n",
    "    Path(\"/Users/thunguyen/Documents/Fintech/rental/population_growth.csv\"), index_col= \"Year\")\n",
    "population_df = population_df[[\"Population\"]]\n",
    "population_df[\"Population\"] = population_df[\"Population\"].div(1000000).round(2)"
   ]
  },
  {
   "cell_type": "code",
   "execution_count": 41,
   "id": "f5514fc3-e2ee-4459-84c9-f2a976c4e9cc",
   "metadata": {},
   "outputs": [
    {
     "data": {
      "text/plain": [
       "<AxesSubplot: title={'center': 'Correlation of interest rates and housing prices'}, xlabel='Average Price', ylabel='Population'>"
      ]
     },
     "execution_count": 41,
     "metadata": {},
     "output_type": "execute_result"
    },
    {
     "data": {
      "image/png": "[encoded data removed]",
      "text/plain": [
       "<Figure size 640x480 with 1 Axes>"
      ]
     },
     "metadata": {},
     "output_type": "display_data"
    }
   ],
   "source": [
    "correlation_housing_population_df.plot(kind='scatter', x='Average Price', y='Population', title=\"Correlation of interest rates and housing prices\", color = '#FFB703')"
   ]
  },
  {
   "cell_type": "code",
   "execution_count": 24,
   "id": "403416ac-bb0e-490e-bb9c-473d27a9e9ae",
   "metadata": {},
   "outputs": [],
   "source": [
    "interest_df = pd.read_csv(\n",
    "    Path(\"/Users/thunguyen/Documents/Fintech/rental/interest_rates.csv\"))\n",
    "interest_df[\"Date\"] = pd.to_datetime(interest_df[\"Date\"])\n",
    "\n",
    "interest_df[\"Year\"] = interest_df[\"Date\"].dt.year\n",
    "\n",
    "yearly_interest_df = interest_df.groupby(\"Year\").mean()"
   ]
  },
  {
   "cell_type": "code",
   "execution_count": 47,
   "id": "4d6a2f89-6e3d-4e5a-8069-c5918536b835",
   "metadata": {},
   "outputs": [
    {
     "name": "stderr",
     "output_type": "stream",
     "text": [
      "/Users/thunguyen/opt/anaconda3/lib/python3.9/site-packages/pandas/plotting/_matplotlib/core.py:1114: UserWarning: No data for colormapping provided via 'c'. Parameters 'cmap' will be ignored\n",
      "  scatter = ax.scatter(\n"
     ]
    },
    {
     "data": {
      "text/plain": [
       "<AxesSubplot: title={'center': 'Correlation of population growth and housing prices'}, xlabel='Average Price', ylabel='Prime Rate'>"
      ]
     },
     "execution_count": 47,
     "metadata": {},
     "output_type": "execute_result"
    },
    {
     "data": {
      "image/png": "[encoded data removed]",
      "text/plain": [
       "<Figure size 640x480 with 1 Axes>"
      ]
     },
     "metadata": {},
     "output_type": "display_data"
    }
   ],
   "source": [
    "correlation_housing_interest_df = pd.concat([yearly_interest_df, yearly_housing_data], axis=\"columns\", join=\"outer\")\n",
    "correlation_housing_interest_df.plot(kind='scatter', x='Average Price', y='Prime Rate',\n",
    "                                title=\"Correlation of population growth and housing prices\", color = '#023047')     "
   ]
  },
  {
   "cell_type": "code",
   "execution_count": 14,
   "id": "a4fcda24-a513-46e4-8aea-61fa83fce47a",
   "metadata": {},
   "outputs": [
    {
     "data": {
      "text/html": [
       "<div>\n",
       "<style scoped>\n",
       "    .dataframe tbody tr th:only-of-type {\n",
       "        vertical-align: middle;\n",
       "    }\n",
       "\n",
       "    .dataframe tbody tr th {\n",
       "        vertical-align: top;\n",
       "    }\n",
       "\n",
       "    .dataframe thead th {\n",
       "        text-align: right;\n",
       "    }\n",
       "</style>\n",
       "<table border=\"1\" class=\"dataframe\">\n",
       "  <thead>\n",
       "    <tr style=\"text-align: right;\">\n",
       "      <th></th>\n",
       "      <th>Inflation Rate</th>\n",
       "    </tr>\n",
       "    <tr>\n",
       "      <th>Year</th>\n",
       "      <th></th>\n",
       "    </tr>\n",
       "  </thead>\n",
       "  <tbody>\n",
       "    <tr>\n",
       "      <th>1915.0</th>\n",
       "      <td>2.085833</td>\n",
       "    </tr>\n",
       "    <tr>\n",
       "      <th>1916.0</th>\n",
       "      <td>8.945000</td>\n",
       "    </tr>\n",
       "    <tr>\n",
       "      <th>1917.0</th>\n",
       "      <td>17.979167</td>\n",
       "    </tr>\n",
       "    <tr>\n",
       "      <th>1918.0</th>\n",
       "      <td>13.113333</td>\n",
       "    </tr>\n",
       "    <tr>\n",
       "      <th>1919.0</th>\n",
       "      <td>9.584167</td>\n",
       "    </tr>\n",
       "    <tr>\n",
       "      <th>...</th>\n",
       "      <td>...</td>\n",
       "    </tr>\n",
       "    <tr>\n",
       "      <th>2018.0</th>\n",
       "      <td>2.268333</td>\n",
       "    </tr>\n",
       "    <tr>\n",
       "      <th>2019.0</th>\n",
       "      <td>1.948333</td>\n",
       "    </tr>\n",
       "    <tr>\n",
       "      <th>2020.0</th>\n",
       "      <td>0.722500</td>\n",
       "    </tr>\n",
       "    <tr>\n",
       "      <th>2021.0</th>\n",
       "      <td>3.393333</td>\n",
       "    </tr>\n",
       "    <tr>\n",
       "      <th>2022.0</th>\n",
       "      <td>6.841818</td>\n",
       "    </tr>\n",
       "  </tbody>\n",
       "</table>\n",
       "<p>108 rows × 1 columns</p>\n",
       "</div>"
      ],
      "text/plain": [
       "        Inflation Rate\n",
       "Year                  \n",
       "1915.0        2.085833\n",
       "1916.0        8.945000\n",
       "1917.0       17.979167\n",
       "1918.0       13.113333\n",
       "1919.0        9.584167\n",
       "...                ...\n",
       "2018.0        2.268333\n",
       "2019.0        1.948333\n",
       "2020.0        0.722500\n",
       "2021.0        3.393333\n",
       "2022.0        6.841818\n",
       "\n",
       "[108 rows x 1 columns]"
      ]
     },
     "execution_count": 14,
     "metadata": {},
     "output_type": "execute_result"
    }
   ],
   "source": [
    "inflation_df = pd.read_csv(\n",
    "    Path(\"/Users/thunguyen/Documents/Fintech/rental/inflation_data.csv\"))\n",
    "inflation_df = inflation_df[[\"Date\", \"Inflation Rate\"]]\n",
    "inflation_df[\"Date\"] = pd.to_datetime(inflation_df[\"Date\"])\n",
    "inflation_df[\"Year\"] = inflation_df[\"Date\"].dt.year\n",
    "yearly_inflation_df = inflation_df.groupby(\"Year\").mean()\n",
    "yearly_inflation_df"
   ]
  },
  {
   "cell_type": "code",
   "execution_count": 48,
   "id": "4249149e-4010-4f44-951e-b94e3ee95810",
   "metadata": {},
   "outputs": [
    {
     "name": "stderr",
     "output_type": "stream",
     "text": [
      "/Users/thunguyen/opt/anaconda3/lib/python3.9/site-packages/pandas/plotting/_matplotlib/core.py:1114: UserWarning: No data for colormapping provided via 'c'. Parameters 'cmap' will be ignored\n",
      "  scatter = ax.scatter(\n"
     ]
    },
    {
     "data": {
      "text/plain": [
       "<AxesSubplot: title={'center': 'Correlation of inflation and housing prices'}, xlabel='Average Price', ylabel='Inflation Rate'>"
      ]
     },
     "execution_count": 48,
     "metadata": {},
     "output_type": "execute_result"
    },
    {
     "data": {
      "image/png": "[encoded data removed]",
      "text/plain": [
       "<Figure size 640x480 with 1 Axes>"
      ]
     },
     "metadata": {},
     "output_type": "display_data"
    }
   ],
   "source": [
    "correlation_housing_inflation_df = pd.concat(\n",
    "    [yearly_housing_data, yearly_inflation_df], axis=\"columns\", join=\"outer\")\n",
    "correlation_housing_inflation_df.plot(kind='scatter',title=\"Correlation of inflation and housing prices\", \n",
    "                                               x=\"Average Price\", y=\"Inflation Rate\", color = '#00B4D8')"
   ]
  },
  {
   "cell_type": "code",
   "execution_count": 25,
   "id": "6808719b-a654-483e-8f8f-c80bade236da",
   "metadata": {},
   "outputs": [
    {
     "data": {
      "text/html": [
       "<div>\n",
       "<style scoped>\n",
       "    .dataframe tbody tr th:only-of-type {\n",
       "        vertical-align: middle;\n",
       "    }\n",
       "\n",
       "    .dataframe tbody tr th {\n",
       "        vertical-align: top;\n",
       "    }\n",
       "\n",
       "    .dataframe thead th {\n",
       "        text-align: right;\n",
       "    }\n",
       "</style>\n",
       "<table border=\"1\" class=\"dataframe\">\n",
       "  <thead>\n",
       "    <tr style=\"text-align: right;\">\n",
       "      <th></th>\n",
       "      <th>Average Price</th>\n",
       "      <th>Inflation Rate</th>\n",
       "      <th>Population</th>\n",
       "      <th>Prime Rate</th>\n",
       "    </tr>\n",
       "    <tr>\n",
       "      <th>Year</th>\n",
       "      <th></th>\n",
       "      <th></th>\n",
       "      <th></th>\n",
       "      <th></th>\n",
       "    </tr>\n",
       "  </thead>\n",
       "  <tbody>\n",
       "    <tr>\n",
       "      <th>2005.0</th>\n",
       "      <td>24.78</td>\n",
       "      <td>2.215000</td>\n",
       "      <td>32.24</td>\n",
       "      <td>4.395264</td>\n",
       "    </tr>\n",
       "    <tr>\n",
       "      <th>2006.0</th>\n",
       "      <td>29.06</td>\n",
       "      <td>2.005000</td>\n",
       "      <td>32.57</td>\n",
       "      <td>5.759615</td>\n",
       "    </tr>\n",
       "    <tr>\n",
       "      <th>2007.0</th>\n",
       "      <td>33.46</td>\n",
       "      <td>2.138333</td>\n",
       "      <td>32.89</td>\n",
       "      <td>6.100000</td>\n",
       "    </tr>\n",
       "    <tr>\n",
       "      <th>2008.0</th>\n",
       "      <td>34.62</td>\n",
       "      <td>2.368333</td>\n",
       "      <td>33.25</td>\n",
       "      <td>4.785817</td>\n",
       "    </tr>\n",
       "    <tr>\n",
       "      <th>2009.0</th>\n",
       "      <td>33.68</td>\n",
       "      <td>0.308333</td>\n",
       "      <td>33.63</td>\n",
       "      <td>2.423798</td>\n",
       "    </tr>\n",
       "    <tr>\n",
       "      <th>2010.0</th>\n",
       "      <td>36.63</td>\n",
       "      <td>1.775833</td>\n",
       "      <td>34.00</td>\n",
       "      <td>2.585817</td>\n",
       "    </tr>\n",
       "    <tr>\n",
       "      <th>2011.0</th>\n",
       "      <td>39.01</td>\n",
       "      <td>2.913333</td>\n",
       "      <td>34.34</td>\n",
       "      <td>3.000000</td>\n",
       "    </tr>\n",
       "    <tr>\n",
       "      <th>2012.0</th>\n",
       "      <td>41.10</td>\n",
       "      <td>1.519167</td>\n",
       "      <td>34.71</td>\n",
       "      <td>3.000000</td>\n",
       "    </tr>\n",
       "    <tr>\n",
       "      <th>2013.0</th>\n",
       "      <td>41.98</td>\n",
       "      <td>0.940000</td>\n",
       "      <td>35.08</td>\n",
       "      <td>3.000000</td>\n",
       "    </tr>\n",
       "    <tr>\n",
       "      <th>2014.0</th>\n",
       "      <td>44.38</td>\n",
       "      <td>1.906667</td>\n",
       "      <td>35.44</td>\n",
       "      <td>3.000000</td>\n",
       "    </tr>\n",
       "    <tr>\n",
       "      <th>2015.0</th>\n",
       "      <td>48.34</td>\n",
       "      <td>1.124167</td>\n",
       "      <td>35.70</td>\n",
       "      <td>2.796923</td>\n",
       "    </tr>\n",
       "    <tr>\n",
       "      <th>2016.0</th>\n",
       "      <td>56.46</td>\n",
       "      <td>1.430000</td>\n",
       "      <td>36.11</td>\n",
       "      <td>2.700000</td>\n",
       "    </tr>\n",
       "    <tr>\n",
       "      <th>2017.0</th>\n",
       "      <td>62.18</td>\n",
       "      <td>1.598333</td>\n",
       "      <td>36.55</td>\n",
       "      <td>2.889663</td>\n",
       "    </tr>\n",
       "    <tr>\n",
       "      <th>2018.0</th>\n",
       "      <td>59.99</td>\n",
       "      <td>2.268333</td>\n",
       "      <td>37.07</td>\n",
       "      <td>3.595912</td>\n",
       "    </tr>\n",
       "    <tr>\n",
       "      <th>2019.0</th>\n",
       "      <td>57.94</td>\n",
       "      <td>1.948333</td>\n",
       "      <td>37.60</td>\n",
       "      <td>3.950000</td>\n",
       "    </tr>\n",
       "    <tr>\n",
       "      <th>2020.0</th>\n",
       "      <td>62.22</td>\n",
       "      <td>0.722500</td>\n",
       "      <td>38.01</td>\n",
       "      <td>2.773077</td>\n",
       "    </tr>\n",
       "    <tr>\n",
       "      <th>2021.0</th>\n",
       "      <td>78.41</td>\n",
       "      <td>3.393333</td>\n",
       "      <td>38.23</td>\n",
       "      <td>2.450000</td>\n",
       "    </tr>\n",
       "    <tr>\n",
       "      <th>2022.0</th>\n",
       "      <td>87.42</td>\n",
       "      <td>6.841818</td>\n",
       "      <td>38.93</td>\n",
       "      <td>4.042308</td>\n",
       "    </tr>\n",
       "  </tbody>\n",
       "</table>\n",
       "</div>"
      ],
      "text/plain": [
       "        Average Price  Inflation Rate  Population  Prime Rate\n",
       "Year                                                         \n",
       "2005.0          24.78        2.215000       32.24    4.395264\n",
       "2006.0          29.06        2.005000       32.57    5.759615\n",
       "2007.0          33.46        2.138333       32.89    6.100000\n",
       "2008.0          34.62        2.368333       33.25    4.785817\n",
       "2009.0          33.68        0.308333       33.63    2.423798\n",
       "2010.0          36.63        1.775833       34.00    2.585817\n",
       "2011.0          39.01        2.913333       34.34    3.000000\n",
       "2012.0          41.10        1.519167       34.71    3.000000\n",
       "2013.0          41.98        0.940000       35.08    3.000000\n",
       "2014.0          44.38        1.906667       35.44    3.000000\n",
       "2015.0          48.34        1.124167       35.70    2.796923\n",
       "2016.0          56.46        1.430000       36.11    2.700000\n",
       "2017.0          62.18        1.598333       36.55    2.889663\n",
       "2018.0          59.99        2.268333       37.07    3.595912\n",
       "2019.0          57.94        1.948333       37.60    3.950000\n",
       "2020.0          62.22        0.722500       38.01    2.773077\n",
       "2021.0          78.41        3.393333       38.23    2.450000\n",
       "2022.0          87.42        6.841818       38.93    4.042308"
      ]
     },
     "execution_count": 25,
     "metadata": {},
     "output_type": "execute_result"
    }
   ],
   "source": [
    "combined_df = pd.concat([yearly_housing_data, yearly_inflation_df, population_df, yearly_interest_df], axis=\"columns\", join=\"inner\")\n",
    "combined_df"
   ]
  },
  {
   "cell_type": "code",
   "execution_count": 28,
   "id": "329f50ec-8017-43db-9fbf-569f8d30c225",
   "metadata": {},
   "outputs": [
    {
     "data": {},
     "metadata": {},
     "output_type": "display_data"
    },
    {
     "data": {
      "application/vnd.holoviews_exec.v0+json": "",
      "text/html": [
       "<div id='1479'>\n",
       "  <div class=\"bk-root\" id=\"5e97a45e-617e-4f95-a118-9bb991ca4eeb\" data-root-id=\"1479\"></div>\n",
       "</div>\n",
       "<script type=\"application/javascript\">(function(root) {\n",
       "  function embed_document(root) {\n",
       "    var docs_json = {\"48ee1f8a-9860-4da7-8e2b-b724f93560d0\":{\"defs\":[{\"extends\":null,\"module\":null,\"name\":\"ReactiveHTML1\",\"overrides\":[],\"properties\":[]},{\"extends\":null,\"module\":null,\"name\":\"FlexBox1\",\"overrides\":[],\"properties\":[{\"default\":\"flex-start\",\"kind\":null,\"name\":\"align_content\"},{\"default\":\"flex-start\",\"kind\":null,\"name\":\"align_items\"},{\"default\":\"row\",\"kind\":null,\"name\":\"flex_direction\"},{\"default\":\"wrap\",\"kind\":null,\"name\":\"flex_wrap\"},{\"default\":\"flex-start\",\"kind\":null,\"name\":\"justify_content\"}]},{\"extends\":null,\"module\":null,\"name\":\"GridStack1\",\"overrides\":[],\"properties\":[{\"default\":\"warn\",\"kind\":null,\"name\":\"mode\"},{\"default\":null,\"kind\":null,\"name\":\"ncols\"},{\"default\":null,\"kind\":null,\"name\":\"nrows\"},{\"default\":true,\"kind\":null,\"name\":\"allow_resize\"},{\"default\":true,\"kind\":null,\"name\":\"allow_drag\"},{\"default\":[],\"kind\":null,\"name\":\"state\"}]},{\"extends\":null,\"module\":null,\"name\":\"click1\",\"overrides\":[],\"properties\":[{\"default\":\"\",\"kind\":null,\"name\":\"terminal_output\"},{\"default\":\"\",\"kind\":null,\"name\":\"debug_name\"},{\"default\":0,\"kind\":null,\"name\":\"clears\"}]},{\"extends\":null,\"module\":null,\"name\":\"NotificationAreaBase1\",\"overrides\":[],\"properties\":[{\"default\":\"bottom-right\",\"kind\":null,\"name\":\"position\"},{\"default\":0,\"kind\":null,\"name\":\"_clear\"}]},{\"extends\":null,\"module\":null,\"name\":\"NotificationArea1\",\"overrides\":[],\"properties\":[{\"default\":[],\"kind\":null,\"name\":\"notifications\"},{\"default\":\"bottom-right\",\"kind\":null,\"name\":\"position\"},{\"default\":0,\"kind\":null,\"name\":\"_clear\"},{\"default\":[{\"background\":\"#ffc107\",\"icon\":{\"className\":\"fas fa-exclamation-triangle\",\"color\":\"white\",\"tagName\":\"i\"},\"type\":\"warning\"},{\"background\":\"#007bff\",\"icon\":{\"className\":\"fas fa-info-circle\",\"color\":\"white\",\"tagName\":\"i\"},\"type\":\"info\"}],\"kind\":null,\"name\":\"types\"}]},{\"extends\":null,\"module\":null,\"name\":\"Notification\",\"overrides\":[],\"properties\":[{\"default\":null,\"kind\":null,\"name\":\"background\"},{\"default\":3000,\"kind\":null,\"name\":\"duration\"},{\"default\":null,\"kind\":null,\"name\":\"icon\"},{\"default\":\"\",\"kind\":null,\"name\":\"message\"},{\"default\":null,\"kind\":null,\"name\":\"notification_type\"},{\"default\":false,\"kind\":null,\"name\":\"_destroyed\"}]},{\"extends\":null,\"module\":null,\"name\":\"TemplateActions1\",\"overrides\":[],\"properties\":[{\"default\":0,\"kind\":null,\"name\":\"open_modal\"},{\"default\":0,\"kind\":null,\"name\":\"close_modal\"}]},{\"extends\":null,\"module\":null,\"name\":\"MaterialTemplateActions1\",\"overrides\":[],\"properties\":[{\"default\":0,\"kind\":null,\"name\":\"open_modal\"},{\"default\":0,\"kind\":null,\"name\":\"close_modal\"}]}],\"roots\":{\"references\":[{\"attributes\":{},\"id\":\"1538\",\"type\":\"UnionRenderers\"},{\"attributes\":{},\"id\":\"1611\",\"type\":\"UnionRenderers\"},{\"attributes\":{\"bottom_units\":\"screen\",\"coordinates\":null,\"fill_alpha\":0.5,\"fill_color\":\"lightgrey\",\"group\":null,\"left_units\":\"screen\",\"level\":\"overlay\",\"line_alpha\":1.0,\"line_color\":\"black\",\"line_dash\":[4,4],\"line_width\":2,\"right_units\":\"screen\",\"syncable\":false,\"top_units\":\"screen\"},\"id\":\"1509\",\"type\":\"BoxAnnotation\"},{\"attributes\":{},\"id\":\"1519\",\"type\":\"AllLabels\"},{\"attributes\":{\"coordinates\":null,\"data_source\":{\"id\":\"1566\"},\"glyph\":{\"id\":\"1569\"},\"group\":null,\"hover_glyph\":null,\"muted_glyph\":{\"id\":\"1571\"},\"nonselection_glyph\":{\"id\":\"1570\"},\"selection_glyph\":{\"id\":\"1589\"},\"view\":{\"id\":\"1573\"}},\"id\":\"1572\",\"type\":\"GlyphRenderer\"},{\"attributes\":{\"tools\":[{\"id\":\"1483\"},{\"id\":\"1504\"},{\"id\":\"1505\"},{\"id\":\"1506\"},{\"id\":\"1507\"},{\"id\":\"1508\"}]},\"id\":\"1510\",\"type\":\"Toolbar\"},{\"attributes\":{\"line_color\":\"#023047\",\"line_width\":2,\"x\":{\"field\":\"Year\"},\"y\":{\"field\":\"value\"}},\"id\":\"1565\",\"type\":\"Line\"},{\"attributes\":{\"line_alpha\":0.2,\"line_color\":\"#00B4D8\",\"line_width\":2,\"x\":{\"field\":\"Year\"},\"y\":{\"field\":\"value\"}},\"id\":\"1571\",\"type\":\"Line\"},{\"attributes\":{\"callback\":null,\"renderers\":[{\"id\":\"1529\"},{\"id\":\"1550\"},{\"id\":\"1572\"},{\"id\":\"1596\"}],\"tags\":[\"hv_created\"],\"tooltips\":[[\"Variable\",\"@{Variable}\"],[\"Year\",\"@{Year}\"],[\"value\",\"@{value}\"]]},\"id\":\"1483\",\"type\":\"HoverTool\"},{\"attributes\":{\"line_color\":\"#00B4D8\",\"line_width\":2,\"x\":{\"field\":\"Year\"},\"y\":{\"field\":\"value\"}},\"id\":\"1569\",\"type\":\"Line\"},{\"attributes\":{},\"id\":\"1518\",\"type\":\"BasicTickFormatter\"},{\"attributes\":{\"line_alpha\":0.1,\"line_color\":\"#90E0EF\",\"line_width\":2,\"x\":{\"field\":\"Year\"},\"y\":{\"field\":\"value\"}},\"id\":\"1594\",\"type\":\"Line\"},{\"attributes\":{},\"id\":\"1521\",\"type\":\"BasicTickFormatter\"},{\"attributes\":{\"line_alpha\":0.1,\"line_color\":\"#00B4D8\",\"line_width\":2,\"x\":{\"field\":\"Year\"},\"y\":{\"field\":\"value\"}},\"id\":\"1570\",\"type\":\"Line\"},{\"attributes\":{},\"id\":\"1522\",\"type\":\"AllLabels\"},{\"attributes\":{\"end\":96.13116666666667,\"reset_end\":96.13116666666667,\"reset_start\":-8.402833333333334,\"start\":-8.402833333333334,\"tags\":[[[\"value\",\"value\",null]]]},\"id\":\"1482\",\"type\":\"Range1d\"},{\"attributes\":{\"line_color\":\"#90E0EF\",\"line_width\":2,\"x\":{\"field\":\"Year\"},\"y\":{\"field\":\"value\"}},\"id\":\"1615\",\"type\":\"Line\"},{\"attributes\":{},\"id\":\"1567\",\"type\":\"Selection\"},{\"attributes\":{\"source\":{\"id\":\"1590\"}},\"id\":\"1597\",\"type\":\"CDSView\"},{\"attributes\":{\"below\":[{\"id\":\"1496\"}],\"center\":[{\"id\":\"1499\"},{\"id\":\"1503\"}],\"height\":300,\"left\":[{\"id\":\"1500\"}],\"margin\":[5,5,5,5],\"min_border_bottom\":10,\"min_border_left\":10,\"min_border_right\":10,\"min_border_top\":10,\"renderers\":[{\"id\":\"1529\"},{\"id\":\"1550\"},{\"id\":\"1572\"},{\"id\":\"1596\"}],\"right\":[{\"id\":\"1541\"}],\"sizing_mode\":\"fixed\",\"title\":{\"id\":\"1488\"},\"toolbar\":{\"id\":\"1510\"},\"width\":700,\"x_range\":{\"id\":\"1481\"},\"x_scale\":{\"id\":\"1492\"},\"y_range\":{\"id\":\"1482\"},\"y_scale\":{\"id\":\"1494\"}},\"id\":\"1487\",\"subtype\":\"Figure\",\"type\":\"Plot\"},{\"attributes\":{\"source\":{\"id\":\"1523\"}},\"id\":\"1530\",\"type\":\"CDSView\"},{\"attributes\":{\"line_color\":\"#90E0EF\",\"line_width\":2,\"x\":{\"field\":\"Year\"},\"y\":{\"field\":\"value\"}},\"id\":\"1593\",\"type\":\"Line\"},{\"attributes\":{\"source\":{\"id\":\"1566\"}},\"id\":\"1573\",\"type\":\"CDSView\"},{\"attributes\":{},\"id\":\"1524\",\"type\":\"Selection\"},{\"attributes\":{\"end\":2022.0,\"reset_end\":2022.0,\"reset_start\":2005.0,\"start\":2005.0,\"tags\":[[[\"Year\",\"Year\",null]]]},\"id\":\"1481\",\"type\":\"Range1d\"},{\"attributes\":{\"data\":{\"Variable\":[\"Inflation Rate\",\"Inflation Rate\",\"Inflation Rate\",\"Inflation Rate\",\"Inflation Rate\",\"Inflation Rate\",\"Inflation Rate\",\"Inflation Rate\",\"Inflation Rate\",\"Inflation Rate\",\"Inflation Rate\",\"Inflation Rate\",\"Inflation Rate\",\"Inflation Rate\",\"Inflation Rate\",\"Inflation Rate\",\"Inflation Rate\",\"Inflation Rate\"],\"Year\":{\"__ndarray__\":\"AAAAAABUn0AAAAAAAFifQAAAAAAAXJ9AAAAAAABgn0AAAAAAAGSfQAAAAAAAaJ9AAAAAAABsn0AAAAAAAHCfQAAAAAAAdJ9AAAAAAAB4n0AAAAAAAHyfQAAAAAAAgJ9AAAAAAACEn0AAAAAAAIifQAAAAAAAjJ9AAAAAAACQn0AAAAAAAJSfQAAAAAAAmJ9A\",\"dtype\":\"float64\",\"order\":\"little\",\"shape\":[18]},\"value\":{\"__ndarray__\":\"uB6F61G4AUAL16NwPQoAQBvotIFOGwFA84slv1jyAkC8u7u7u7vTP2kDnTbQafw/TxvotIFOB0BPG+i0gU74PxSuR+F6FO4/gU4b6LSB/j/9YskvlvzxP+F6FK5H4fY/k18s+cWS+T8mv1jyiyUCQCz5xZJfLP8/H4XrUbge5z8lv1jyiyULQF9Z4JUFXhtA\",\"dtype\":\"float64\",\"order\":\"little\",\"shape\":[18]}},\"selected\":{\"id\":\"1545\"},\"selection_policy\":{\"id\":\"1561\"}},\"id\":\"1544\",\"type\":\"ColumnDataSource\"},{\"attributes\":{\"label\":{\"value\":\"Population\"},\"renderers\":[{\"id\":\"1572\"}]},\"id\":\"1588\",\"type\":\"LegendItem\"},{\"attributes\":{},\"id\":\"1585\",\"type\":\"UnionRenderers\"},{\"attributes\":{},\"id\":\"1492\",\"type\":\"LinearScale\"},{\"attributes\":{\"line_color\":\"#FFB703\",\"line_width\":2,\"x\":{\"field\":\"Year\"},\"y\":{\"field\":\"value\"}},\"id\":\"1526\",\"type\":\"Line\"},{\"attributes\":{\"line_alpha\":0.2,\"line_color\":\"#023047\",\"line_width\":2,\"x\":{\"field\":\"Year\"},\"y\":{\"field\":\"value\"}},\"id\":\"1549\",\"type\":\"Line\"},{\"attributes\":{\"label\":{\"value\":\"Average Price\"},\"renderers\":[{\"id\":\"1529\"}]},\"id\":\"1542\",\"type\":\"LegendItem\"},{\"attributes\":{\"margin\":[5,5,5,5],\"name\":\"HSpacer01453\",\"sizing_mode\":\"stretch_width\"},\"id\":\"1632\",\"type\":\"Spacer\"},{\"attributes\":{\"line_alpha\":0.1,\"line_color\":\"#023047\",\"line_width\":2,\"x\":{\"field\":\"Year\"},\"y\":{\"field\":\"value\"}},\"id\":\"1548\",\"type\":\"Line\"},{\"attributes\":{\"line_color\":\"#FFB703\",\"line_width\":2,\"x\":{\"field\":\"Year\"},\"y\":{\"field\":\"value\"}},\"id\":\"1543\",\"type\":\"Line\"},{\"attributes\":{\"line_alpha\":0.1,\"line_color\":\"#FFB703\",\"line_width\":2,\"x\":{\"field\":\"Year\"},\"y\":{\"field\":\"value\"}},\"id\":\"1527\",\"type\":\"Line\"},{\"attributes\":{\"coordinates\":null,\"data_source\":{\"id\":\"1523\"},\"glyph\":{\"id\":\"1526\"},\"group\":null,\"hover_glyph\":null,\"muted_glyph\":{\"id\":\"1528\"},\"nonselection_glyph\":{\"id\":\"1527\"},\"selection_glyph\":{\"id\":\"1543\"},\"view\":{\"id\":\"1530\"}},\"id\":\"1529\",\"type\":\"GlyphRenderer\"},{\"attributes\":{\"data\":{\"Variable\":[\"Population\",\"Population\",\"Population\",\"Population\",\"Population\",\"Population\",\"Population\",\"Population\",\"Population\",\"Population\",\"Population\",\"Population\",\"Population\",\"Population\",\"Population\",\"Population\",\"Population\",\"Population\"],\"Year\":{\"__ndarray__\":\"AAAAAABUn0AAAAAAAFifQAAAAAAAXJ9AAAAAAABgn0AAAAAAAGSfQAAAAAAAaJ9AAAAAAABsn0AAAAAAAHCfQAAAAAAAdJ9AAAAAAAB4n0AAAAAAAHyfQAAAAAAAgJ9AAAAAAACEn0AAAAAAAIifQAAAAAAAjJ9AAAAAAACQn0AAAAAAAJSfQAAAAAAAmJ9A\",\"dtype\":\"float64\",\"order\":\"little\",\"shape\":[18]},\"value\":{\"__ndarray__\":\"H4XrUbgeQEApXI/C9UhAQFK4HoXrcUBAAAAAAACgQEBxPQrXo9BAQAAAAAAAAEFA7FG4HoUrQUB7FK5H4VpBQArXo3A9ikFAuB6F61G4QUCamZmZmdlBQK5H4XoUDkJAZmZmZmZGQkApXI/C9YhCQM3MzMzMzEJA4XoUrkcBQ0A9CtejcB1DQNejcD0Kd0NA\",\"dtype\":\"float64\",\"order\":\"little\",\"shape\":[18]}},\"selected\":{\"id\":\"1567\"},\"selection_policy\":{\"id\":\"1585\"}},\"id\":\"1566\",\"type\":\"ColumnDataSource\"},{\"attributes\":{\"coordinates\":null,\"group\":null,\"text\":\"Correlation of housing price, inflation rate, population, and interest rate\",\"text_color\":\"black\",\"text_font_size\":\"12pt\"},\"id\":\"1488\",\"type\":\"Title\"},{\"attributes\":{\"line_alpha\":0.2,\"line_color\":\"#90E0EF\",\"line_width\":2,\"x\":{\"field\":\"Year\"},\"y\":{\"field\":\"value\"}},\"id\":\"1595\",\"type\":\"Line\"},{\"attributes\":{\"axis_label\":\"Year\",\"coordinates\":null,\"formatter\":{\"id\":\"1518\"},\"group\":null,\"major_label_policy\":{\"id\":\"1519\"},\"ticker\":{\"id\":\"1497\"}},\"id\":\"1496\",\"type\":\"LinearAxis\"},{\"attributes\":{\"coordinates\":null,\"data_source\":{\"id\":\"1544\"},\"glyph\":{\"id\":\"1547\"},\"group\":null,\"hover_glyph\":null,\"muted_glyph\":{\"id\":\"1549\"},\"nonselection_glyph\":{\"id\":\"1548\"},\"selection_glyph\":{\"id\":\"1565\"},\"view\":{\"id\":\"1551\"}},\"id\":\"1550\",\"type\":\"GlyphRenderer\"},{\"attributes\":{\"margin\":[5,5,5,5],\"name\":\"HSpacer01452\",\"sizing_mode\":\"stretch_width\"},\"id\":\"1480\",\"type\":\"Spacer\"},{\"attributes\":{},\"id\":\"1494\",\"type\":\"LinearScale\"},{\"attributes\":{\"data\":{\"Variable\":[\"Average Price\",\"Average Price\",\"Average Price\",\"Average Price\",\"Average Price\",\"Average Price\",\"Average Price\",\"Average Price\",\"Average Price\",\"Average Price\",\"Average Price\",\"Average Price\",\"Average Price\",\"Average Price\",\"Average Price\",\"Average Price\",\"Average Price\",\"Average Price\"],\"Year\":{\"__ndarray__\":\"AAAAAABUn0AAAAAAAFifQAAAAAAAXJ9AAAAAAABgn0AAAAAAAGSfQAAAAAAAaJ9AAAAAAABsn0AAAAAAAHCfQAAAAAAAdJ9AAAAAAAB4n0AAAAAAAHyfQAAAAAAAgJ9AAAAAAACEn0AAAAAAAIifQAAAAAAAjJ9AAAAAAACQn0AAAAAAAJSfQAAAAAAAmJ9A\",\"dtype\":\"float64\",\"order\":\"little\",\"shape\":[18]},\"value\":{\"__ndarray__\":\"SOF6FK7HOECPwvUoXA89QHsUrkfhukBAj8L1KFxPQUDXo3A9CtdAQHE9CtejUEJA4XoUrkeBQ0DNzMzMzIxEQD0K16Nw/URAcT0K16MwRkDsUbgehStIQHsUrkfhOkxA16NwPQoXT0AfhetRuP5NQLgehetR+ExAXI/C9SgcT0AK16NwPZpTQHsUrkfh2lVA\",\"dtype\":\"float64\",\"order\":\"little\",\"shape\":[18]}},\"selected\":{\"id\":\"1524\"},\"selection_policy\":{\"id\":\"1538\"}},\"id\":\"1523\",\"type\":\"ColumnDataSource\"},{\"attributes\":{},\"id\":\"1505\",\"type\":\"PanTool\"},{\"attributes\":{\"axis\":{\"id\":\"1496\"},\"coordinates\":null,\"grid_line_color\":null,\"group\":null,\"ticker\":null},\"id\":\"1499\",\"type\":\"Grid\"},{\"attributes\":{\"coordinates\":null,\"data_source\":{\"id\":\"1590\"},\"glyph\":{\"id\":\"1593\"},\"group\":null,\"hover_glyph\":null,\"muted_glyph\":{\"id\":\"1595\"},\"nonselection_glyph\":{\"id\":\"1594\"},\"selection_glyph\":{\"id\":\"1615\"},\"view\":{\"id\":\"1597\"}},\"id\":\"1596\",\"type\":\"GlyphRenderer\"},{\"attributes\":{\"children\":[{\"id\":\"1480\"},{\"id\":\"1487\"},{\"id\":\"1632\"}],\"margin\":[0,0,0,0],\"name\":\"Row01448\",\"tags\":[\"embedded\"]},\"id\":\"1479\",\"type\":\"Row\"},{\"attributes\":{},\"id\":\"1497\",\"type\":\"BasicTicker\"},{\"attributes\":{},\"id\":\"1545\",\"type\":\"Selection\"},{\"attributes\":{\"line_color\":\"#023047\",\"line_width\":2,\"x\":{\"field\":\"Year\"},\"y\":{\"field\":\"value\"}},\"id\":\"1547\",\"type\":\"Line\"},{\"attributes\":{\"axis_label\":\"\",\"coordinates\":null,\"formatter\":{\"id\":\"1521\"},\"group\":null,\"major_label_policy\":{\"id\":\"1522\"},\"ticker\":{\"id\":\"1501\"}},\"id\":\"1500\",\"type\":\"LinearAxis\"},{\"attributes\":{\"source\":{\"id\":\"1544\"}},\"id\":\"1551\",\"type\":\"CDSView\"},{\"attributes\":{\"axis\":{\"id\":\"1500\"},\"coordinates\":null,\"dimension\":1,\"grid_line_color\":null,\"group\":null,\"ticker\":null},\"id\":\"1503\",\"type\":\"Grid\"},{\"attributes\":{},\"id\":\"1501\",\"type\":\"BasicTicker\"},{\"attributes\":{\"label\":{\"value\":\"Inflation Rate\"},\"renderers\":[{\"id\":\"1550\"}]},\"id\":\"1564\",\"type\":\"LegendItem\"},{\"attributes\":{\"label\":{\"value\":\"Prime Rate\"},\"renderers\":[{\"id\":\"1596\"}]},\"id\":\"1614\",\"type\":\"LegendItem\"},{\"attributes\":{},\"id\":\"1506\",\"type\":\"WheelZoomTool\"},{\"attributes\":{\"line_color\":\"#00B4D8\",\"line_width\":2,\"x\":{\"field\":\"Year\"},\"y\":{\"field\":\"value\"}},\"id\":\"1589\",\"type\":\"Line\"},{\"attributes\":{},\"id\":\"1504\",\"type\":\"SaveTool\"},{\"attributes\":{\"line_alpha\":0.2,\"line_color\":\"#FFB703\",\"line_width\":2,\"x\":{\"field\":\"Year\"},\"y\":{\"field\":\"value\"}},\"id\":\"1528\",\"type\":\"Line\"},{\"attributes\":{\"overlay\":{\"id\":\"1509\"}},\"id\":\"1507\",\"type\":\"BoxZoomTool\"},{\"attributes\":{},\"id\":\"1561\",\"type\":\"UnionRenderers\"},{\"attributes\":{},\"id\":\"1508\",\"type\":\"ResetTool\"},{\"attributes\":{\"data\":{\"Variable\":[\"Prime Rate\",\"Prime Rate\",\"Prime Rate\",\"Prime Rate\",\"Prime Rate\",\"Prime Rate\",\"Prime Rate\",\"Prime Rate\",\"Prime Rate\",\"Prime Rate\",\"Prime Rate\",\"Prime Rate\",\"Prime Rate\",\"Prime Rate\",\"Prime Rate\",\"Prime Rate\",\"Prime Rate\",\"Prime Rate\"],\"Year\":{\"__ndarray__\":\"AAAAAABUn0AAAAAAAFifQAAAAAAAXJ9AAAAAAABgn0AAAAAAAGSfQAAAAAAAaJ9AAAAAAABsn0AAAAAAAHCfQAAAAAAAdJ9AAAAAAAB4n0AAAAAAAHyfQAAAAAAAgJ9AAAAAAACEn0AAAAAAAIifQAAAAAAAjJ9AAAAAAACQn0AAAAAAAJSfQAAAAAAAmJ9A\",\"dtype\":\"float64\",\"order\":\"little\",\"shape\":[18]},\"value\":{\"__ndarray__\":\"/4xpMsCUEUCe2Imd2AkXQGdmZmZmZhhAS63USq0kE0A/8AM/8GMDQPzAD/zArwRAAAAAAAAACEAAAAAAAAAIQAAAAAAAAAhAAAAAAAAACECbf8Y0GWAGQJqZmZmZmQVA4Qd+4AceB0D6V/l7bcQMQJqZmZmZmQ9A9UIv9EIvBkCamZmZmZkDQLZSK7VSKxBA\",\"dtype\":\"float64\",\"order\":\"little\",\"shape\":[18]}},\"selected\":{\"id\":\"1591\"},\"selection_policy\":{\"id\":\"1611\"}},\"id\":\"1590\",\"type\":\"ColumnDataSource\"},{\"attributes\":{\"click_policy\":\"mute\",\"coordinates\":null,\"group\":null,\"items\":[{\"id\":\"1542\"},{\"id\":\"1564\"},{\"id\":\"1588\"},{\"id\":\"1614\"}],\"location\":[0,0],\"title\":\"Variable\"},\"id\":\"1541\",\"type\":\"Legend\"},{\"attributes\":{},\"id\":\"1591\",\"type\":\"Selection\"}],\"root_ids\":[\"1479\"]},\"title\":\"Bokeh Application\",\"version\":\"2.4.3\"}};\n",
       "    var render_items = [{\"docid\":\"48ee1f8a-9860-4da7-8e2b-b724f93560d0\",\"root_ids\":[\"1479\"],\"roots\":{\"1479\":\"5e97a45e-617e-4f95-a118-9bb991ca4eeb\"}}];\n",
       "    root.Bokeh.embed.embed_items_notebook(docs_json, render_items);\n",
       "    for (const render_item of render_items) {\n",
       "      for (const root_id of render_item.root_ids) {\n",
       "\tconst id_el = document.getElementById(root_id)\n",
       "\tif (id_el.children.length && (id_el.children[0].className === 'bk-root')) {\n",
       "\t  const root_el = id_el.children[0]\n",
       "\t  root_el.id = root_el.id + '-rendered'\n",
       "\t}\n",
       "      }\n",
       "    }\n",
       "  }\n",
       "  if (root.Bokeh !== undefined && root.Bokeh.Panel !== undefined) {\n",
       "    embed_document(root);\n",
       "  } else {\n",
       "    var attempts = 0;\n",
       "    var timer = setInterval(function(root) {\n",
       "      if (root.Bokeh !== undefined && root.Bokeh.Panel !== undefined) {\n",
       "        clearInterval(timer);\n",
       "        embed_document(root);\n",
       "      } else if (document.readyState == \"complete\") {\n",
       "        attempts++;\n",
       "        if (attempts > 200) {\n",
       "          clearInterval(timer);\n",
       "          console.log(\"Bokeh: ERROR: Unable to run BokehJS code because BokehJS library is missing\");\n",
       "        }\n",
       "      }\n",
       "    }, 25, root)\n",
       "  }\n",
       "})(window);</script>"
      ],
      "text/plain": [
       ":NdOverlay   [Variable]\n",
       "   :Curve   [Year]   (value)"
      ]
     },
     "execution_count": 28,
     "metadata": {
      "application/vnd.holoviews_exec.v0+json": {
       "id": "1479"
      }
     },
     "output_type": "execute_result"
    }
   ],
   "source": [
    "combined_df.hvplot(\n",
    "    x='Year', \n",
    "    label='Correlation of housing price, inflation rate, population, and interest rate',\n",
    "    color = ['#FFB703', '#023047', '#00B4D8', '#90E0EF'])"
   ]
  },
  {
   "cell_type": "code",
   "execution_count": 50,
   "id": "a7e26fae-e65a-4e18-a555-7b6d3c740db0",
   "metadata": {},
   "outputs": [
    {
     "data": {},
     "metadata": {},
     "output_type": "display_data"
    },
    {
     "data": {
      "application/vnd.holoviews_exec.v0+json": "",
      "text/html": [
       "<div id='2069'>\n",
       "  <div class=\"bk-root\" id=\"97837b75-3425-4130-9029-f44e7d90e8ac\" data-root-id=\"2069\"></div>\n",
       "</div>\n",
       "<script type=\"application/javascript\">(function(root) {\n",
       "  function embed_document(root) {\n",
       "    var docs_json = {\"5f2fd017-535b-4a98-8b64-d8a06c001876\":{\"defs\":[{\"extends\":null,\"module\":null,\"name\":\"ReactiveHTML1\",\"overrides\":[],\"properties\":[]},{\"extends\":null,\"module\":null,\"name\":\"FlexBox1\",\"overrides\":[],\"properties\":[{\"default\":\"flex-start\",\"kind\":null,\"name\":\"align_content\"},{\"default\":\"flex-start\",\"kind\":null,\"name\":\"align_items\"},{\"default\":\"row\",\"kind\":null,\"name\":\"flex_direction\"},{\"default\":\"wrap\",\"kind\":null,\"name\":\"flex_wrap\"},{\"default\":\"flex-start\",\"kind\":null,\"name\":\"justify_content\"}]},{\"extends\":null,\"module\":null,\"name\":\"GridStack1\",\"overrides\":[],\"properties\":[{\"default\":\"warn\",\"kind\":null,\"name\":\"mode\"},{\"default\":null,\"kind\":null,\"name\":\"ncols\"},{\"default\":null,\"kind\":null,\"name\":\"nrows\"},{\"default\":true,\"kind\":null,\"name\":\"allow_resize\"},{\"default\":true,\"kind\":null,\"name\":\"allow_drag\"},{\"default\":[],\"kind\":null,\"name\":\"state\"}]},{\"extends\":null,\"module\":null,\"name\":\"click1\",\"overrides\":[],\"properties\":[{\"default\":\"\",\"kind\":null,\"name\":\"terminal_output\"},{\"default\":\"\",\"kind\":null,\"name\":\"debug_name\"},{\"default\":0,\"kind\":null,\"name\":\"clears\"}]},{\"extends\":null,\"module\":null,\"name\":\"NotificationAreaBase1\",\"overrides\":[],\"properties\":[{\"default\":\"bottom-right\",\"kind\":null,\"name\":\"position\"},{\"default\":0,\"kind\":null,\"name\":\"_clear\"}]},{\"extends\":null,\"module\":null,\"name\":\"NotificationArea1\",\"overrides\":[],\"properties\":[{\"default\":[],\"kind\":null,\"name\":\"notifications\"},{\"default\":\"bottom-right\",\"kind\":null,\"name\":\"position\"},{\"default\":0,\"kind\":null,\"name\":\"_clear\"},{\"default\":[{\"background\":\"#ffc107\",\"icon\":{\"className\":\"fas fa-exclamation-triangle\",\"color\":\"white\",\"tagName\":\"i\"},\"type\":\"warning\"},{\"background\":\"#007bff\",\"icon\":{\"className\":\"fas fa-info-circle\",\"color\":\"white\",\"tagName\":\"i\"},\"type\":\"info\"}],\"kind\":null,\"name\":\"types\"}]},{\"extends\":null,\"module\":null,\"name\":\"Notification\",\"overrides\":[],\"properties\":[{\"default\":null,\"kind\":null,\"name\":\"background\"},{\"default\":3000,\"kind\":null,\"name\":\"duration\"},{\"default\":null,\"kind\":null,\"name\":\"icon\"},{\"default\":\"\",\"kind\":null,\"name\":\"message\"},{\"default\":null,\"kind\":null,\"name\":\"notification_type\"},{\"default\":false,\"kind\":null,\"name\":\"_destroyed\"}]},{\"extends\":null,\"module\":null,\"name\":\"TemplateActions1\",\"overrides\":[],\"properties\":[{\"default\":0,\"kind\":null,\"name\":\"open_modal\"},{\"default\":0,\"kind\":null,\"name\":\"close_modal\"}]},{\"extends\":null,\"module\":null,\"name\":\"MaterialTemplateActions1\",\"overrides\":[],\"properties\":[{\"default\":0,\"kind\":null,\"name\":\"open_modal\"},{\"default\":0,\"kind\":null,\"name\":\"close_modal\"}]}],\"roots\":{\"references\":[{\"attributes\":{\"angle\":{\"value\":0.0},\"fill_alpha\":{\"value\":1.0},\"fill_color\":{\"value\":\"#FFB703\"},\"hatch_alpha\":{\"value\":1.0},\"hatch_color\":{\"value\":\"#FFB703\"},\"hatch_scale\":{\"value\":12.0},\"hatch_weight\":{\"value\":1.0},\"line_alpha\":{\"value\":1.0},\"line_cap\":{\"value\":\"butt\"},\"line_color\":{\"value\":\"#FFB703\"},\"line_dash\":{\"value\":[]},\"line_dash_offset\":{\"value\":0},\"line_join\":{\"value\":\"bevel\"},\"line_width\":{\"value\":1},\"marker\":{\"value\":\"circle\"},\"size\":{\"value\":5.477225575051661},\"x\":{\"field\":\"Average Price\"},\"y\":{\"field\":\"value\"}},\"id\":\"2132\",\"type\":\"Scatter\"},{\"attributes\":{},\"id\":\"2081\",\"type\":\"LinearScale\"},{\"attributes\":{\"fill_alpha\":{\"value\":0.1},\"fill_color\":{\"value\":\"#FFB703\"},\"hatch_alpha\":{\"value\":0.1},\"hatch_color\":{\"value\":\"#FFB703\"},\"line_alpha\":{\"value\":0.1},\"line_color\":{\"value\":\"#FFB703\"},\"size\":{\"value\":5.477225575051661},\"x\":{\"field\":\"Average Price\"},\"y\":{\"field\":\"value\"}},\"id\":\"2116\",\"type\":\"Scatter\"},{\"attributes\":{\"data\":{\"Average Price\":{\"__ndarray__\":\"SOF6FK7HOECPwvUoXA89QHsUrkfhukBAj8L1KFxPQUDXo3A9CtdAQHE9CtejUEJA4XoUrkeBQ0DNzMzMzIxEQD0K16Nw/URAcT0K16MwRkDsUbgehStIQHsUrkfhOkxA16NwPQoXT0AfhetRuP5NQLgehetR+ExAXI/C9SgcT0AK16NwPZpTQHsUrkfh2lVA\",\"dtype\":\"float64\",\"order\":\"little\",\"shape\":[18]},\"Average_Price\":{\"__ndarray__\":\"SOF6FK7HOECPwvUoXA89QHsUrkfhukBAj8L1KFxPQUDXo3A9CtdAQHE9CtejUEJA4XoUrkeBQ0DNzMzMzIxEQD0K16Nw/URAcT0K16MwRkDsUbgehStIQHsUrkfhOkxA16NwPQoXT0AfhetRuP5NQLgehetR+ExAXI/C9SgcT0AK16NwPZpTQHsUrkfh2lVA\",\"dtype\":\"float64\",\"order\":\"little\",\"shape\":[18]},\"Variable\":[\"Inflation Rate\",\"Inflation Rate\",\"Inflation Rate\",\"Inflation Rate\",\"Inflation Rate\",\"Inflation Rate\",\"Inflation Rate\",\"Inflation Rate\",\"Inflation Rate\",\"Inflation Rate\",\"Inflation Rate\",\"Inflation Rate\",\"Inflation Rate\",\"Inflation Rate\",\"Inflation Rate\",\"Inflation Rate\",\"Inflation Rate\",\"Inflation Rate\"],\"value\":{\"__ndarray__\":\"uB6F61G4AUAL16NwPQoAQBvotIFOGwFA84slv1jyAkC8u7u7u7vTP2kDnTbQafw/TxvotIFOB0BPG+i0gU74PxSuR+F6FO4/gU4b6LSB/j/9YskvlvzxP+F6FK5H4fY/k18s+cWS+T8mv1jyiyUCQCz5xZJfLP8/H4XrUbge5z8lv1jyiyULQF9Z4JUFXhtA\",\"dtype\":\"float64\",\"order\":\"little\",\"shape\":[18]}},\"selected\":{\"id\":\"2134\"},\"selection_policy\":{\"id\":\"2150\"}},\"id\":\"2133\",\"type\":\"ColumnDataSource\"},{\"attributes\":{},\"id\":\"2174\",\"type\":\"UnionRenderers\"},{\"attributes\":{\"fill_color\":{\"value\":\"#FFB703\"},\"hatch_color\":{\"value\":\"#FFB703\"},\"line_color\":{\"value\":\"#FFB703\"},\"size\":{\"value\":5.477225575051661},\"x\":{\"field\":\"Average Price\"},\"y\":{\"field\":\"value\"}},\"id\":\"2115\",\"type\":\"Scatter\"},{\"attributes\":{\"children\":[{\"id\":\"2070\"},{\"id\":\"2076\"},{\"id\":\"2193\"}],\"margin\":[0,0,0,0],\"name\":\"Row02029\",\"tags\":[\"embedded\"]},\"id\":\"2069\",\"type\":\"Row\"},{\"attributes\":{},\"id\":\"2083\",\"type\":\"LinearScale\"},{\"attributes\":{\"fill_alpha\":{\"value\":0.2},\"fill_color\":{\"value\":\"#023047\"},\"hatch_alpha\":{\"value\":0.2},\"hatch_color\":{\"value\":\"#023047\"},\"line_alpha\":{\"value\":0.2},\"line_color\":{\"value\":\"#023047\"},\"size\":{\"value\":5.477225575051661},\"x\":{\"field\":\"Average Price\"},\"y\":{\"field\":\"value\"}},\"id\":\"2138\",\"type\":\"Scatter\"},{\"attributes\":{},\"id\":\"2134\",\"type\":\"Selection\"},{\"attributes\":{},\"id\":\"2108\",\"type\":\"AllLabels\"},{\"attributes\":{\"angle\":{\"value\":0.0},\"fill_alpha\":{\"value\":1.0},\"fill_color\":{\"value\":\"#00B4D8\"},\"hatch_alpha\":{\"value\":1.0},\"hatch_color\":{\"value\":\"#00B4D8\"},\"hatch_scale\":{\"value\":12.0},\"hatch_weight\":{\"value\":1.0},\"line_alpha\":{\"value\":1.0},\"line_cap\":{\"value\":\"butt\"},\"line_color\":{\"value\":\"#00B4D8\"},\"line_dash\":{\"value\":[]},\"line_dash_offset\":{\"value\":0},\"line_join\":{\"value\":\"bevel\"},\"line_width\":{\"value\":1},\"marker\":{\"value\":\"circle\"},\"size\":{\"value\":5.477225575051661},\"x\":{\"field\":\"Average Price\"},\"y\":{\"field\":\"value\"}},\"id\":\"2178\",\"type\":\"Scatter\"},{\"attributes\":{\"below\":[{\"id\":\"2085\"}],\"center\":[{\"id\":\"2088\"},{\"id\":\"2092\"}],\"height\":300,\"left\":[{\"id\":\"2089\"}],\"margin\":[5,5,5,5],\"min_border_bottom\":10,\"min_border_left\":10,\"min_border_right\":10,\"min_border_top\":10,\"renderers\":[{\"id\":\"2118\"},{\"id\":\"2139\"},{\"id\":\"2161\"}],\"right\":[{\"id\":\"2130\"}],\"sizing_mode\":\"fixed\",\"title\":{\"id\":\"2077\"},\"toolbar\":{\"id\":\"2099\"},\"width\":700,\"x_range\":{\"id\":\"2071\"},\"x_scale\":{\"id\":\"2081\"},\"y_range\":{\"id\":\"2072\"},\"y_scale\":{\"id\":\"2083\"}},\"id\":\"2076\",\"subtype\":\"Figure\",\"type\":\"Plot\"},{\"attributes\":{\"bottom_units\":\"screen\",\"coordinates\":null,\"fill_alpha\":0.5,\"fill_color\":\"lightgrey\",\"group\":null,\"left_units\":\"screen\",\"level\":\"overlay\",\"line_alpha\":1.0,\"line_color\":\"black\",\"line_dash\":[4,4],\"line_width\":2,\"right_units\":\"screen\",\"syncable\":false,\"top_units\":\"screen\"},\"id\":\"2098\",\"type\":\"BoxAnnotation\"},{\"attributes\":{\"coordinates\":null,\"group\":null,\"text\":\"Correlation of housing price, inflation rate, population, and interest rate\",\"text_color\":\"black\",\"text_font_size\":\"12pt\"},\"id\":\"2077\",\"type\":\"Title\"},{\"attributes\":{\"fill_alpha\":{\"value\":0.1},\"fill_color\":{\"value\":\"#023047\"},\"hatch_alpha\":{\"value\":0.1},\"hatch_color\":{\"value\":\"#023047\"},\"line_alpha\":{\"value\":0.1},\"line_color\":{\"value\":\"#023047\"},\"size\":{\"value\":5.477225575051661},\"x\":{\"field\":\"Average Price\"},\"y\":{\"field\":\"value\"}},\"id\":\"2137\",\"type\":\"Scatter\"},{\"attributes\":{\"label\":{\"value\":\"Prime Rate\"},\"renderers\":[{\"id\":\"2161\"}]},\"id\":\"2177\",\"type\":\"LegendItem\"},{\"attributes\":{\"fill_alpha\":{\"value\":0.1},\"fill_color\":{\"value\":\"#00B4D8\"},\"hatch_alpha\":{\"value\":0.1},\"hatch_color\":{\"value\":\"#00B4D8\"},\"line_alpha\":{\"value\":0.1},\"line_color\":{\"value\":\"#00B4D8\"},\"size\":{\"value\":5.477225575051661},\"x\":{\"field\":\"Average Price\"},\"y\":{\"field\":\"value\"}},\"id\":\"2159\",\"type\":\"Scatter\"},{\"attributes\":{\"source\":{\"id\":\"2112\"}},\"id\":\"2119\",\"type\":\"CDSView\"},{\"attributes\":{},\"id\":\"2156\",\"type\":\"Selection\"},{\"attributes\":{\"axis_label\":\"Average Price\",\"coordinates\":null,\"formatter\":{\"id\":\"2107\"},\"group\":null,\"major_label_policy\":{\"id\":\"2108\"},\"ticker\":{\"id\":\"2086\"}},\"id\":\"2085\",\"type\":\"LinearAxis\"},{\"attributes\":{},\"id\":\"2111\",\"type\":\"AllLabels\"},{\"attributes\":{},\"id\":\"2086\",\"type\":\"BasicTicker\"},{\"attributes\":{\"fill_color\":{\"value\":\"#00B4D8\"},\"hatch_color\":{\"value\":\"#00B4D8\"},\"line_color\":{\"value\":\"#00B4D8\"},\"size\":{\"value\":5.477225575051661},\"x\":{\"field\":\"Average Price\"},\"y\":{\"field\":\"value\"}},\"id\":\"2158\",\"type\":\"Scatter\"},{\"attributes\":{},\"id\":\"2094\",\"type\":\"PanTool\"},{\"attributes\":{\"tools\":[{\"id\":\"2073\"},{\"id\":\"2093\"},{\"id\":\"2094\"},{\"id\":\"2095\"},{\"id\":\"2096\"},{\"id\":\"2097\"}]},\"id\":\"2099\",\"type\":\"Toolbar\"},{\"attributes\":{\"axis\":{\"id\":\"2085\"},\"coordinates\":null,\"grid_line_color\":null,\"group\":null,\"ticker\":null},\"id\":\"2088\",\"type\":\"Grid\"},{\"attributes\":{\"coordinates\":null,\"data_source\":{\"id\":\"2112\"},\"glyph\":{\"id\":\"2115\"},\"group\":null,\"hover_glyph\":null,\"muted_glyph\":{\"id\":\"2117\"},\"nonselection_glyph\":{\"id\":\"2116\"},\"selection_glyph\":{\"id\":\"2132\"},\"view\":{\"id\":\"2119\"}},\"id\":\"2118\",\"type\":\"GlyphRenderer\"},{\"attributes\":{\"end\":90.10457142857143,\"reset_end\":90.10457142857143,\"reset_start\":22.095428571428574,\"start\":22.095428571428574,\"tags\":[[[\"Average Price\",\"Average Price\",null]]]},\"id\":\"2071\",\"type\":\"Range1d\"},{\"attributes\":{\"axis_label\":\"\",\"coordinates\":null,\"formatter\":{\"id\":\"2110\"},\"group\":null,\"major_label_policy\":{\"id\":\"2111\"},\"ticker\":{\"id\":\"2090\"}},\"id\":\"2089\",\"type\":\"LinearAxis\"},{\"attributes\":{\"axis\":{\"id\":\"2089\"},\"coordinates\":null,\"dimension\":1,\"grid_line_color\":null,\"group\":null,\"ticker\":null},\"id\":\"2092\",\"type\":\"Grid\"},{\"attributes\":{\"label\":{\"value\":\"Inflation Rate\"},\"renderers\":[{\"id\":\"2139\"}]},\"id\":\"2153\",\"type\":\"LegendItem\"},{\"attributes\":{},\"id\":\"2090\",\"type\":\"BasicTicker\"},{\"attributes\":{},\"id\":\"2107\",\"type\":\"BasicTickFormatter\"},{\"attributes\":{},\"id\":\"2095\",\"type\":\"WheelZoomTool\"},{\"attributes\":{},\"id\":\"2093\",\"type\":\"SaveTool\"},{\"attributes\":{\"fill_alpha\":{\"value\":0.2},\"fill_color\":{\"value\":\"#00B4D8\"},\"hatch_alpha\":{\"value\":0.2},\"hatch_color\":{\"value\":\"#00B4D8\"},\"line_alpha\":{\"value\":0.2},\"line_color\":{\"value\":\"#00B4D8\"},\"size\":{\"value\":5.477225575051661},\"x\":{\"field\":\"Average Price\"},\"y\":{\"field\":\"value\"}},\"id\":\"2160\",\"type\":\"Scatter\"},{\"attributes\":{},\"id\":\"2110\",\"type\":\"BasicTickFormatter\"},{\"attributes\":{\"margin\":[5,5,5,5],\"name\":\"HSpacer02033\",\"sizing_mode\":\"stretch_width\"},\"id\":\"2070\",\"type\":\"Spacer\"},{\"attributes\":{\"angle\":{\"value\":0.0},\"fill_alpha\":{\"value\":1.0},\"fill_color\":{\"value\":\"#023047\"},\"hatch_alpha\":{\"value\":1.0},\"hatch_color\":{\"value\":\"#023047\"},\"hatch_scale\":{\"value\":12.0},\"hatch_weight\":{\"value\":1.0},\"line_alpha\":{\"value\":1.0},\"line_cap\":{\"value\":\"butt\"},\"line_color\":{\"value\":\"#023047\"},\"line_dash\":{\"value\":[]},\"line_dash_offset\":{\"value\":0},\"line_join\":{\"value\":\"bevel\"},\"line_width\":{\"value\":1},\"marker\":{\"value\":\"circle\"},\"size\":{\"value\":5.477225575051661},\"x\":{\"field\":\"Average Price\"},\"y\":{\"field\":\"value\"}},\"id\":\"2154\",\"type\":\"Scatter\"},{\"attributes\":{\"overlay\":{\"id\":\"2098\"}},\"id\":\"2096\",\"type\":\"BoxZoomTool\"},{\"attributes\":{\"fill_color\":{\"value\":\"#023047\"},\"hatch_color\":{\"value\":\"#023047\"},\"line_color\":{\"value\":\"#023047\"},\"size\":{\"value\":5.477225575051661},\"x\":{\"field\":\"Average Price\"},\"y\":{\"field\":\"value\"}},\"id\":\"2136\",\"type\":\"Scatter\"},{\"attributes\":{},\"id\":\"2097\",\"type\":\"ResetTool\"},{\"attributes\":{\"coordinates\":null,\"data_source\":{\"id\":\"2133\"},\"glyph\":{\"id\":\"2136\"},\"group\":null,\"hover_glyph\":null,\"muted_glyph\":{\"id\":\"2138\"},\"nonselection_glyph\":{\"id\":\"2137\"},\"selection_glyph\":{\"id\":\"2154\"},\"view\":{\"id\":\"2140\"}},\"id\":\"2139\",\"type\":\"GlyphRenderer\"},{\"attributes\":{},\"id\":\"2127\",\"type\":\"UnionRenderers\"},{\"attributes\":{\"source\":{\"id\":\"2155\"}},\"id\":\"2162\",\"type\":\"CDSView\"},{\"attributes\":{\"coordinates\":null,\"data_source\":{\"id\":\"2155\"},\"glyph\":{\"id\":\"2158\"},\"group\":null,\"hover_glyph\":null,\"muted_glyph\":{\"id\":\"2160\"},\"nonselection_glyph\":{\"id\":\"2159\"},\"selection_glyph\":{\"id\":\"2178\"},\"view\":{\"id\":\"2162\"}},\"id\":\"2161\",\"type\":\"GlyphRenderer\"},{\"attributes\":{\"source\":{\"id\":\"2133\"}},\"id\":\"2140\",\"type\":\"CDSView\"},{\"attributes\":{\"data\":{\"Average Price\":{\"__ndarray__\":\"SOF6FK7HOECPwvUoXA89QHsUrkfhukBAj8L1KFxPQUDXo3A9CtdAQHE9CtejUEJA4XoUrkeBQ0DNzMzMzIxEQD0K16Nw/URAcT0K16MwRkDsUbgehStIQHsUrkfhOkxA16NwPQoXT0AfhetRuP5NQLgehetR+ExAXI/C9SgcT0AK16NwPZpTQHsUrkfh2lVA\",\"dtype\":\"float64\",\"order\":\"little\",\"shape\":[18]},\"Average_Price\":{\"__ndarray__\":\"SOF6FK7HOECPwvUoXA89QHsUrkfhukBAj8L1KFxPQUDXo3A9CtdAQHE9CtejUEJA4XoUrkeBQ0DNzMzMzIxEQD0K16Nw/URAcT0K16MwRkDsUbgehStIQHsUrkfhOkxA16NwPQoXT0AfhetRuP5NQLgehetR+ExAXI/C9SgcT0AK16NwPZpTQHsUrkfh2lVA\",\"dtype\":\"float64\",\"order\":\"little\",\"shape\":[18]},\"Variable\":[\"Prime Rate\",\"Prime Rate\",\"Prime Rate\",\"Prime Rate\",\"Prime Rate\",\"Prime Rate\",\"Prime Rate\",\"Prime Rate\",\"Prime Rate\",\"Prime Rate\",\"Prime Rate\",\"Prime Rate\",\"Prime Rate\",\"Prime Rate\",\"Prime Rate\",\"Prime Rate\",\"Prime Rate\",\"Prime Rate\"],\"value\":{\"__ndarray__\":\"/4xpMsCUEUCe2Imd2AkXQGdmZmZmZhhAS63USq0kE0A/8AM/8GMDQPzAD/zArwRAAAAAAAAACEAAAAAAAAAIQAAAAAAAAAhAAAAAAAAACECbf8Y0GWAGQJqZmZmZmQVA4Qd+4AceB0D6V/l7bcQMQJqZmZmZmQ9A9UIv9EIvBkCamZmZmZkDQLZSK7VSKxBA\",\"dtype\":\"float64\",\"order\":\"little\",\"shape\":[18]}},\"selected\":{\"id\":\"2156\"},\"selection_policy\":{\"id\":\"2174\"}},\"id\":\"2155\",\"type\":\"ColumnDataSource\"},{\"attributes\":{},\"id\":\"2150\",\"type\":\"UnionRenderers\"},{\"attributes\":{\"fill_alpha\":{\"value\":0.2},\"fill_color\":{\"value\":\"#FFB703\"},\"hatch_alpha\":{\"value\":0.2},\"hatch_color\":{\"value\":\"#FFB703\"},\"line_alpha\":{\"value\":0.2},\"line_color\":{\"value\":\"#FFB703\"},\"size\":{\"value\":5.477225575051661},\"x\":{\"field\":\"Average Price\"},\"y\":{\"field\":\"value\"}},\"id\":\"2117\",\"type\":\"Scatter\"},{\"attributes\":{\"click_policy\":\"mute\",\"coordinates\":null,\"group\":null,\"items\":[{\"id\":\"2131\"},{\"id\":\"2153\"},{\"id\":\"2177\"}],\"location\":[0,0],\"title\":\"Variable\"},\"id\":\"2130\",\"type\":\"Legend\"},{\"attributes\":{\"label\":{\"value\":\"Population\"},\"renderers\":[{\"id\":\"2118\"}]},\"id\":\"2131\",\"type\":\"LegendItem\"},{\"attributes\":{\"callback\":null,\"renderers\":[{\"id\":\"2118\"},{\"id\":\"2139\"},{\"id\":\"2161\"}],\"tags\":[\"hv_created\"],\"tooltips\":[[\"Variable\",\"@{Variable}\"],[\"Average Price\",\"@{Average_Price}\"],[\"value\",\"@{value}\"]]},\"id\":\"2073\",\"type\":\"HoverTool\"},{\"attributes\":{\"end\":42.79216666666667,\"reset_end\":42.79216666666667,\"reset_start\":-3.5538333333333334,\"start\":-3.5538333333333334,\"tags\":[[[\"value\",\"value\",null]]]},\"id\":\"2072\",\"type\":\"Range1d\"},{\"attributes\":{\"margin\":[5,5,5,5],\"name\":\"HSpacer02034\",\"sizing_mode\":\"stretch_width\"},\"id\":\"2193\",\"type\":\"Spacer\"},{\"attributes\":{},\"id\":\"2113\",\"type\":\"Selection\"},{\"attributes\":{\"data\":{\"Average Price\":{\"__ndarray__\":\"SOF6FK7HOECPwvUoXA89QHsUrkfhukBAj8L1KFxPQUDXo3A9CtdAQHE9CtejUEJA4XoUrkeBQ0DNzMzMzIxEQD0K16Nw/URAcT0K16MwRkDsUbgehStIQHsUrkfhOkxA16NwPQoXT0AfhetRuP5NQLgehetR+ExAXI/C9SgcT0AK16NwPZpTQHsUrkfh2lVA\",\"dtype\":\"float64\",\"order\":\"little\",\"shape\":[18]},\"Average_Price\":{\"__ndarray__\":\"SOF6FK7HOECPwvUoXA89QHsUrkfhukBAj8L1KFxPQUDXo3A9CtdAQHE9CtejUEJA4XoUrkeBQ0DNzMzMzIxEQD0K16Nw/URAcT0K16MwRkDsUbgehStIQHsUrkfhOkxA16NwPQoXT0AfhetRuP5NQLgehetR+ExAXI/C9SgcT0AK16NwPZpTQHsUrkfh2lVA\",\"dtype\":\"float64\",\"order\":\"little\",\"shape\":[18]},\"Variable\":[\"Population\",\"Population\",\"Population\",\"Population\",\"Population\",\"Population\",\"Population\",\"Population\",\"Population\",\"Population\",\"Population\",\"Population\",\"Population\",\"Population\",\"Population\",\"Population\",\"Population\",\"Population\"],\"value\":{\"__ndarray__\":\"H4XrUbgeQEApXI/C9UhAQFK4HoXrcUBAAAAAAACgQEBxPQrXo9BAQAAAAAAAAEFA7FG4HoUrQUB7FK5H4VpBQArXo3A9ikFAuB6F61G4QUCamZmZmdlBQK5H4XoUDkJAZmZmZmZGQkApXI/C9YhCQM3MzMzMzEJA4XoUrkcBQ0A9CtejcB1DQNejcD0Kd0NA\",\"dtype\":\"float64\",\"order\":\"little\",\"shape\":[18]}},\"selected\":{\"id\":\"2113\"},\"selection_policy\":{\"id\":\"2127\"}},\"id\":\"2112\",\"type\":\"ColumnDataSource\"}],\"root_ids\":[\"2069\"]},\"title\":\"Bokeh Application\",\"version\":\"2.4.3\"}};\n",
       "    var render_items = [{\"docid\":\"5f2fd017-535b-4a98-8b64-d8a06c001876\",\"root_ids\":[\"2069\"],\"roots\":{\"2069\":\"97837b75-3425-4130-9029-f44e7d90e8ac\"}}];\n",
       "    root.Bokeh.embed.embed_items_notebook(docs_json, render_items);\n",
       "    for (const render_item of render_items) {\n",
       "      for (const root_id of render_item.root_ids) {\n",
       "\tconst id_el = document.getElementById(root_id)\n",
       "\tif (id_el.children.length && (id_el.children[0].className === 'bk-root')) {\n",
       "\t  const root_el = id_el.children[0]\n",
       "\t  root_el.id = root_el.id + '-rendered'\n",
       "\t}\n",
       "      }\n",
       "    }\n",
       "  }\n",
       "  if (root.Bokeh !== undefined && root.Bokeh.Panel !== undefined) {\n",
       "    embed_document(root);\n",
       "  } else {\n",
       "    var attempts = 0;\n",
       "    var timer = setInterval(function(root) {\n",
       "      if (root.Bokeh !== undefined && root.Bokeh.Panel !== undefined) {\n",
       "        clearInterval(timer);\n",
       "        embed_document(root);\n",
       "      } else if (document.readyState == \"complete\") {\n",
       "        attempts++;\n",
       "        if (attempts > 200) {\n",
       "          clearInterval(timer);\n",
       "          console.log(\"Bokeh: ERROR: Unable to run BokehJS code because BokehJS library is missing\");\n",
       "        }\n",
       "      }\n",
       "    }, 25, root)\n",
       "  }\n",
       "})(window);</script>"
      ],
      "text/plain": [
       ":NdOverlay   [Variable]\n",
       "   :Scatter   [Average Price]   (value)"
      ]
     },
     "execution_count": 50,
     "metadata": {
      "application/vnd.holoviews_exec.v0+json": {
       "id": "2069"
      }
     },
     "output_type": "execute_result"
    }
   ],
   "source": [
    "combined_df.hvplot.scatter(x='Average Price', y=['Population', 'Inflation Rate', 'Prime Rate'], label='Correlation of housing price, inflation rate, population, and interest rate', color = ['#FFB703', '#023047', '#00B4D8', '#90E0EF'])"
   ]
  },
  {
   "cell_type": "code",
   "execution_count": null,
   "id": "e5b5ae68-77b7-4f6a-bc45-032591a7449a",
   "metadata": {},
   "outputs": [],
   "source": []
  }
 ],
 "metadata": {
  "kernelspec": {
   "display_name": "Python 3 (ipykernel)",
   "language": "python",
   "name": "python3"
  },
  "language_info": {
   "codemirror_mode": {
    "name": "ipython",
    "version": 3
   },
   "file_extension": ".py",
   "mimetype": "text/x-python",
   "name": "python",
   "nbconvert_exporter": "python",
   "pygments_lexer": "ipython3",
   "version": "3.9.15"
  }
 },
 "nbformat": 4,
 "nbformat_minor": 5
}
